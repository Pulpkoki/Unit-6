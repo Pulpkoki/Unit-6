{
 "cells": [
  {
   "cell_type": "markdown",
   "id": "58638ca4",
   "metadata": {},
   "source": [
    "#for the user input tasks and  the full scenario:\n",
    "1- get the song name from the user as an input\n",
    "2- play the input song in music embed player.\n",
    "3- get the audio features for that song from spotify API. using sp.audio_features(trackid) . pay attention to keep  only the audio features columns.\n",
    "4- load the stabdardscaler using pickle and use it to scale the new song.\n",
    "5- using mode.predict(new scaled audio record for the new song) to predict the cluster (label) for the new song.\n",
    "6- return random song from the same cluster   that the new song belongs to from your data frame and suggest it to the user.\n",
    "7-  play it using embedded music player. (edited) "
   ]
  },
  {
   "cell_type": "code",
   "execution_count": 2,
   "id": "b748ce28",
   "metadata": {},
   "outputs": [],
   "source": [
    "import numpy as np\n",
    "import pandas as pd\n",
    "import pickle\n",
    "from sklearn import datasets # sklearn comes with some toy datasets to practise\n",
    "from sklearn.preprocessing import StandardScaler\n",
    "from sklearn.cluster import KMeans\n",
    "from matplotlib import pyplot\n",
    "from sklearn.metrics import silhouette_score\n",
    "import config\n",
    "import spotipy\n",
    "import json\n",
    "from spotipy.oauth2 import SpotifyClientCredentials"
   ]
  },
  {
   "cell_type": "code",
   "execution_count": 4,
   "id": "81d47e76",
   "metadata": {},
   "outputs": [],
   "source": [
    "#Initialize SpotiPy with user credentias\n",
    "sp = spotipy.Spotify(auth_manager=SpotifyClientCredentials(client_id= config.client_id,\n",
    "                                                           client_secret= config.client_secret))"
   ]
  },
  {
   "cell_type": "code",
   "execution_count": 8,
   "id": "c7f660fe",
   "metadata": {},
   "outputs": [
    {
     "data": {
      "text/html": [
       "<div>\n",
       "<style scoped>\n",
       "    .dataframe tbody tr th:only-of-type {\n",
       "        vertical-align: middle;\n",
       "    }\n",
       "\n",
       "    .dataframe tbody tr th {\n",
       "        vertical-align: top;\n",
       "    }\n",
       "\n",
       "    .dataframe thead th {\n",
       "        text-align: right;\n",
       "    }\n",
       "</style>\n",
       "<table border=\"1\" class=\"dataframe\">\n",
       "  <thead>\n",
       "    <tr style=\"text-align: right;\">\n",
       "      <th></th>\n",
       "      <th>danceability</th>\n",
       "      <th>energy</th>\n",
       "      <th>loudness</th>\n",
       "      <th>speechiness</th>\n",
       "      <th>acousticness</th>\n",
       "      <th>instrumentalness</th>\n",
       "      <th>liveness</th>\n",
       "      <th>valence</th>\n",
       "      <th>tempo</th>\n",
       "      <th>duration_ms</th>\n",
       "    </tr>\n",
       "  </thead>\n",
       "  <tbody>\n",
       "    <tr>\n",
       "      <th>0</th>\n",
       "      <td>0.751</td>\n",
       "      <td>0.834</td>\n",
       "      <td>-5.444</td>\n",
       "      <td>0.0437</td>\n",
       "      <td>0.3</td>\n",
       "      <td>0.000018</td>\n",
       "      <td>0.355</td>\n",
       "      <td>0.894</td>\n",
       "      <td>95.053</td>\n",
       "      <td>211160</td>\n",
       "    </tr>\n",
       "  </tbody>\n",
       "</table>\n",
       "</div>"
      ],
      "text/plain": [
       "   danceability  energy  loudness  speechiness  acousticness  \\\n",
       "0         0.751   0.834    -5.444       0.0437           0.3   \n",
       "\n",
       "   instrumentalness  liveness  valence   tempo  duration_ms  \n",
       "0          0.000018     0.355    0.894  95.053       211160  "
      ]
     },
     "execution_count": 8,
     "metadata": {},
     "output_type": "execute_result"
    }
   ],
   "source": [
    "# Get random song and scale its features\n",
    "track = sp.search(q=\"Oops I did it again\", type=\"track\", limit=10 ,market=\"GB\")\n",
    "features = pd.DataFrame(sp.audio_features(track[\"tracks\"][\"items\"][0][\"id\"]))\n",
    "features = features[['danceability', 'energy', 'loudness', 'speechiness', 'acousticness',\n",
    "        'instrumentalness', 'liveness', 'valence', 'tempo', 'duration_ms']]\n",
    "features\n"
   ]
  },
  {
   "cell_type": "code",
   "execution_count": 11,
   "id": "f6d06880",
   "metadata": {},
   "outputs": [],
   "source": [
    "#load the scaling function with pickle\n",
    "def load(filename = \"pulpkokiscaler.pickle\"): \n",
    "    try: \n",
    "        with open(filename, \"rb\") as f: \n",
    "            return pickle.load(f) \n",
    "        \n",
    "    except FileNotFoundError: \n",
    "        print(\"File not found!\") "
   ]
  },
  {
   "cell_type": "code",
   "execution_count": 12,
   "id": "1b133775",
   "metadata": {},
   "outputs": [
    {
     "ename": "NameError",
     "evalue": "name 'pulpkokiscaler' is not defined",
     "output_type": "error",
     "traceback": [
      "\u001b[0;31m---------------------------------------------------------------------------\u001b[0m",
      "\u001b[0;31mNameError\u001b[0m                                 Traceback (most recent call last)",
      "Input \u001b[0;32mIn [12]\u001b[0m, in \u001b[0;36m<cell line: 1>\u001b[0;34m()\u001b[0m\n\u001b[0;32m----> 1\u001b[0m \u001b[43mpulpkokiscaler\u001b[49m\u001b[38;5;241m.\u001b[39mfit(track)\n\u001b[1;32m      2\u001b[0m scaledtrack \u001b[38;5;241m=\u001b[39m scaler\u001b[38;5;241m.\u001b[39mtransform(track)\n\u001b[1;32m      3\u001b[0m display(scaledtrack)\n",
      "\u001b[0;31mNameError\u001b[0m: name 'pulpkokiscaler' is not defined"
     ]
    }
   ],
   "source": [
    "#Apply the trained scaler to transform the user’s song audio features\n",
    "\n",
    "pulpkokiscaler.fit(track)\n",
    "scaledtrack = scaler.transform(track)\n",
    "display(scaledtrack)\n",
    "print(scaledtrack)"
   ]
  },
  {
   "cell_type": "code",
   "execution_count": null,
   "id": "279eb901",
   "metadata": {},
   "outputs": [],
   "source": [
    "#Create a function to fit the K-Means clustering method using all the songs \n",
    "#contained in the Spotify collected data set."
   ]
  },
  {
   "cell_type": "code",
   "execution_count": null,
   "id": "18f305d1",
   "metadata": {},
   "outputs": [],
   "source": [
    "#Use the trained K-means model to predict the cluster of each song in the internal databases \n",
    "#and add this information to the internal databases"
   ]
  }
 ],
 "metadata": {
  "kernelspec": {
   "display_name": "Python 3 (ipykernel)",
   "language": "python",
   "name": "python3"
  },
  "language_info": {
   "codemirror_mode": {
    "name": "ipython",
    "version": 3
   },
   "file_extension": ".py",
   "mimetype": "text/x-python",
   "name": "python",
   "nbconvert_exporter": "python",
   "pygments_lexer": "ipython3",
   "version": "3.9.12"
  },
  "toc": {
   "base_numbering": 1,
   "nav_menu": {},
   "number_sections": true,
   "sideBar": true,
   "skip_h1_title": false,
   "title_cell": "Table of Contents",
   "title_sidebar": "Contents",
   "toc_cell": false,
   "toc_position": {},
   "toc_section_display": true,
   "toc_window_display": false
  }
 },
 "nbformat": 4,
 "nbformat_minor": 5
}
