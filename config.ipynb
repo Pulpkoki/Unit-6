{
 "cells": [
  {
   "cell_type": "code",
   "execution_count": 1,
   "id": "6d50ae68",
   "metadata": {},
   "outputs": [],
   "source": [
    "client_id='7e7b4717e131452585000354eeb6ecb7'\n",
    "client_secret='512a7678a58b4a27af0023d73b45181d'"
   ]
  },
  {
   "cell_type": "code",
   "execution_count": null,
   "id": "dd5a5728",
   "metadata": {},
   "outputs": [],
   "source": []
  }
 ],
 "metadata": {
  "kernelspec": {
   "display_name": "Python 3 (ipykernel)",
   "language": "python",
   "name": "python3"
  },
  "language_info": {
   "codemirror_mode": {
    "name": "ipython",
    "version": 3
   },
   "file_extension": ".py",
   "mimetype": "text/x-python",
   "name": "python",
   "nbconvert_exporter": "python",
   "pygments_lexer": "ipython3",
   "version": "3.9.12"
  },
  "toc": {
   "base_numbering": 1,
   "nav_menu": {},
   "number_sections": true,
   "sideBar": true,
   "skip_h1_title": false,
   "title_cell": "Table of Contents",
   "title_sidebar": "Contents",
   "toc_cell": false,
   "toc_position": {},
   "toc_section_display": true,
   "toc_window_display": false
  }
 },
 "nbformat": 4,
 "nbformat_minor": 5
}
