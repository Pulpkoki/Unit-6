{
 "cells": [
  {
   "cell_type": "markdown",
   "id": "463207ea",
   "metadata": {},
   "source": [
    "# SPOTIPY PROJECT\n",
    "## CREATE SONG DATABASE FROM SPOTIFY"
   ]
  },
  {
   "cell_type": "code",
   "execution_count": 178,
   "id": "c9c5ae5d",
   "metadata": {
    "pycharm": {
     "name": "#%%\n"
    }
   },
   "outputs": [],
   "source": [
    "import config"
   ]
  },
  {
   "cell_type": "code",
   "execution_count": 179,
   "id": "f35032f6",
   "metadata": {
    "pycharm": {
     "name": "#%%\n"
    }
   },
   "outputs": [],
   "source": [
    "import spotipy\n",
    "import json\n",
    "from spotipy.oauth2 import SpotifyClientCredentials\n",
    "import pandas as pd"
   ]
  },
  {
   "cell_type": "code",
   "execution_count": 180,
   "id": "3e5c290a",
   "metadata": {
    "pycharm": {
     "name": "#%%\n"
    }
   },
   "outputs": [],
   "source": [
    "#Initialize SpotiPy with user credentias\n",
    "sp = spotipy.Spotify(auth_manager=SpotifyClientCredentials(client_id= config.client_id,\n",
    "                                                           client_secret= config.client_secret))"
   ]
  },
  {
   "cell_type": "code",
   "execution_count": 181,
   "id": "69a017d2",
   "metadata": {
    "pycharm": {
     "name": "#%%\n"
    }
   },
   "outputs": [],
   "source": [
    "## example (rolling stones top 500)\n",
    "results = sp.search(q=\"Like a Rolling Stone\",limit=1,market=\"GB\")\n",
    "track = sp.search(q=\"Like a Rolling Stone\") #find title of the first track\n"
   ]
  },
  {
   "cell_type": "code",
   "execution_count": 182,
   "id": "ccd5bf49",
   "metadata": {},
   "outputs": [],
   "source": [
    "playlist_list = ['6uRb2P6XRj5ygnanxpMCfS', '59pRUY7wdHjzAyetJtqCnY']\n",
    "playlist_names = ['RollingStones_top500', 'top65House']"
   ]
  },
  {
   "cell_type": "code",
   "execution_count": 183,
   "id": "4e1bab6b",
   "metadata": {},
   "outputs": [],
   "source": [
    "def PlaylistDatabase(code):\n",
    "    try:\n",
    "        playlist = sp.user_playlist_tracks(\"spotify\", code)\n",
    "        update_playlist = playlist['items']\n",
    "\n",
    "        while playlist['next']:\n",
    "            update_playlist.extend(playlist['items'])\n",
    "            playlist = sp.next(playlist)\n",
    "\n",
    "        lenght = len(update_playlist)\n",
    "        lenght\n",
    "\n",
    "        song_features_list = []\n",
    "\n",
    "        for i in range(lenght):\n",
    "            try:\n",
    "                song = update_playlist[i]['track']['name']\n",
    "                #song_list.append(song)\n",
    "                track = sp.search(q=song)\n",
    "                features = sp.audio_features(track[\"tracks\"][\"items\"][0][\"id\"])\n",
    "                song_features_list.append(features)\n",
    "                #print(len(song_features_list))\n",
    "\n",
    "                if i % 50 == 0: \n",
    "                    print(i, song)\n",
    "\n",
    "            except: \n",
    "                print('ERROR', i)\n",
    "\n",
    "        df = pd.DataFrame()\n",
    "        n_songs = len(song_features_list)\n",
    "        for i in range(0, n_songs):\n",
    "            df = pd.concat([df, pd.DataFrame(song_features_list[i])])\n",
    "\n",
    "        df.reset_index(inplace=True, drop=True)\n",
    "        df = df[['danceability', 'energy', 'loudness', 'speechiness', 'acousticness', \n",
    "                'instrumentalness', 'liveness', 'valence', 'tempo', 'duration_ms']]\n",
    "\n",
    "        return df\n",
    "    \n",
    "    except:\n",
    "        print('NOT WORKING')"
   ]
  },
  {
   "cell_type": "code",
   "execution_count": 184,
   "id": "6358ef73",
   "metadata": {},
   "outputs": [],
   "source": [
    "#playlist = sp.user_playlist_tracks(\"spotify\", \"59pRUY7wdHjzAyetJtqCnY\")\n",
    "#df = PlaylistDatabase(playlist)"
   ]
  },
  {
   "cell_type": "code",
   "execution_count": 185,
   "id": "b3d79178",
   "metadata": {},
   "outputs": [],
   "source": [
    "#df.to_csv(\"song_db_tommella.csv\", encoding='utf-8')"
   ]
  },
  {
   "cell_type": "code",
   "execution_count": 186,
   "id": "67f58bc8",
   "metadata": {},
   "outputs": [
    {
     "name": "stdout",
     "output_type": "stream",
     "text": [
      "ok\n"
     ]
    }
   ],
   "source": [
    "print('ok')"
   ]
  },
  {
   "cell_type": "code",
   "execution_count": 187,
   "id": "2860beb2",
   "metadata": {},
   "outputs": [],
   "source": [
    "df = pd.DataFrame()"
   ]
  },
  {
   "cell_type": "code",
   "execution_count": 188,
   "id": "286b8940",
   "metadata": {},
   "outputs": [],
   "source": [
    "playlist_list = ['6uRb2P6XRj5ygnanxpMCfS', '59pRUY7wdHjzAyetJtqCnY', '5lhqqa8MzVzetczMHWxR9p', '09aX21KFZ8bsAsdGEVv2Fo', \n",
    "'5ye9yx1tss5jxju4NDYHqQ', '6kQMCF1nN5TtvBT2DLCz2H', '4liqQvs6bPHmy1s3559Zfe', '27VY0PivrvmGgNvFx23sU5', '6MJSGcF4iV79gyo8xZpd8U']\n",
    "\n",
    "playlist_names = ['top65House', 'RollingStones_top500', 'top1000House', 'top50DeeoHouse', 'top50Houseradio', 'classical50', \n",
    "                 'classical100', 'progressive100', 'techno50']\n",
    "#playlist_list = ['59pRUY7wdHjzAyetJtqCnY', '09aX21KFZ8bsAsdGEVv2Fo', '6kQMCF1nN5TtvBT2DLCz2H']\n"
   ]
  },
  {
   "cell_type": "code",
   "execution_count": 189,
   "id": "5d92b722",
   "metadata": {},
   "outputs": [
    {
     "name": "stdout",
     "output_type": "stream",
     "text": [
      "0 Like a Rolling Stone\n",
      "ERROR 1\n",
      "ERROR 41\n",
      "50 The Message - Extended Version\n",
      "ERROR 80\n",
      "100 Like a Rolling Stone\n",
      "ERROR 101\n",
      "ERROR 141\n",
      "150 The Message - Extended Version\n",
      "ERROR 180\n",
      "200 Voodoo Child (Slight Return)\n",
      "ERROR 239\n",
      "250 Earth Angel (Will You Be Mine)\n",
      "300 Flash Light\n",
      "350 Chain of Fools\n",
      "400 Get Up, Stand Up\n",
      "ERROR 401\n",
      "ERROR 427\n",
      "450 Jim Dandy\n",
      "0 Power\n",
      "50 Go Somewhere\n",
      "ERROR 0\n",
      "ERROR 28\n",
      "50 Power Of American Natives\n",
      "ERROR 100\n",
      "ERROR 128\n",
      "150 Power Of American Natives\n",
      "200 Pulverturm (Radio Edit 1)\n",
      "250 Infinity\n",
      "300 Can You Feel It - New York Extended Dub\n",
      "ERROR 345\n",
      "ERROR 350\n",
      "ERROR 372\n",
      "ERROR 399\n",
      "400 Atomic Playboy - Original Follow The Leader Mix\n",
      "ERROR 407\n",
      "ERROR 431\n",
      "450 Don't Laugh\n",
      "ERROR 474\n",
      "500 Get Lucky (feat. Pharrell Williams & Nile Rodgers) - Radio Edit\n",
      "ERROR 504\n",
      "ERROR 513\n",
      "ERROR 528\n",
      "ERROR 546\n",
      "550 Magic Carpet Ride 07' - Radio Edit\n",
      "ERROR 561\n",
      "600 The Music's Got Me - '96 Radio Edit\n",
      "ERROR 629\n",
      "ERROR 638\n",
      "650 Seed, Scattered - Dub Foundation Remix Edit by DJ Mark Van Dale and DJ Enrico\n",
      "700 Cry\n",
      "ERROR 727\n",
      "ERROR 740\n",
      "ERROR 746\n",
      "750 Tempo Fiesta - Organ Fiesta Remix\n",
      "ERROR 793\n",
      "800 Infinity 2008\n",
      "ERROR 813\n",
      "ERROR 830\n",
      "850 Drink to Get Drunk - Different Gear Remix\n",
      "ERROR 862\n",
      "ERROR 868\n",
      "ERROR 890\n"
     ]
    },
    {
     "name": "stderr",
     "output_type": "stream",
     "text": [
      "HTTP Error for GET to https://api.spotify.com/v1/playlists/09aX21KFZ8bsAsdGEVv2Fo/tracks with Params: {'limit': 100, 'offset': 0, 'fields': None, 'market': None, 'additional_types': 'track'} returned 404 due to Not found.\n",
      "HTTP Error for GET to https://api.spotify.com/v1/playlists/5ye9yx1tss5jxju4NDYHqQ/tracks with Params: {'limit': 100, 'offset': 0, 'fields': None, 'market': None, 'additional_types': 'track'} returned 404 due to Not found.\n"
     ]
    },
    {
     "name": "stdout",
     "output_type": "stream",
     "text": [
      "NOT WORKING\n",
      "NOT WORKING\n",
      "0 Peer Gynt Suite No. 1, Op. 46: I. Morning Mood\n",
      "50 Beach At Night\n",
      "0 Symphony No. 5 In C Minor, Op. 67, \"Fate\": I. Allegro Con Brio\n"
     ]
    },
    {
     "name": "stderr",
     "output_type": "stream",
     "text": [
      "HTTP Error for GET to https://api.spotify.com/v1/search with Params: {'q': 'Pachelbel: Canon and Gigue in D Major for 3 Violins and Continuo, P. 37: I. Canon (Orchestral Version)', 'limit': 10, 'offset': 0, 'type': 'track', 'market': None} returned 404 due to Not found.\n"
     ]
    },
    {
     "name": "stdout",
     "output_type": "stream",
     "text": [
      "ERROR 5\n"
     ]
    },
    {
     "name": "stderr",
     "output_type": "stream",
     "text": [
      "HTTP Error for GET to https://api.spotify.com/v1/search with Params: {'q': '5 Military Marches, Op. 39, \"Pomp and Circumstance\": Military March No. 1 in D Major, Op. 39, \"Pomp and Circumstance\"', 'limit': 10, 'offset': 0, 'type': 'track', 'market': None} returned 404 due to Not found.\n"
     ]
    },
    {
     "name": "stdout",
     "output_type": "stream",
     "text": [
      "ERROR 14\n",
      "50 Bugler's Dream and Olympic Fanfare Medley\n",
      "ERROR 66\n",
      "ERROR 70\n"
     ]
    },
    {
     "name": "stderr",
     "output_type": "stream",
     "text": [
      "HTTP Error for GET to https://api.spotify.com/v1/search with Params: {'q': 'Water Music Suite No. 2 in D Major: II. Alla hornpipe - Water Music Suite No. 2 in D Major: II. Alla hornpipe', 'limit': 10, 'offset': 0, 'type': 'track', 'market': None} returned 404 due to Not found.\n"
     ]
    },
    {
     "name": "stdout",
     "output_type": "stream",
     "text": [
      "ERROR 88\n",
      "100 Symphony No. 5 In C Minor, Op. 67, \"Fate\": I. Allegro Con Brio\n"
     ]
    },
    {
     "name": "stderr",
     "output_type": "stream",
     "text": [
      "HTTP Error for GET to https://api.spotify.com/v1/search with Params: {'q': 'Pachelbel: Canon and Gigue in D Major for 3 Violins and Continuo, P. 37: I. Canon (Orchestral Version)', 'limit': 10, 'offset': 0, 'type': 'track', 'market': None} returned 404 due to Not found.\n"
     ]
    },
    {
     "name": "stdout",
     "output_type": "stream",
     "text": [
      "ERROR 105\n"
     ]
    },
    {
     "name": "stderr",
     "output_type": "stream",
     "text": [
      "HTTP Error for GET to https://api.spotify.com/v1/search with Params: {'q': '5 Military Marches, Op. 39, \"Pomp and Circumstance\": Military March No. 1 in D Major, Op. 39, \"Pomp and Circumstance\"', 'limit': 10, 'offset': 0, 'type': 'track', 'market': None} returned 404 due to Not found.\n"
     ]
    },
    {
     "name": "stdout",
     "output_type": "stream",
     "text": [
      "ERROR 114\n",
      "150 Bugler's Dream and Olympic Fanfare Medley\n",
      "ERROR 166\n",
      "ERROR 170\n"
     ]
    },
    {
     "name": "stderr",
     "output_type": "stream",
     "text": [
      "HTTP Error for GET to https://api.spotify.com/v1/search with Params: {'q': 'Water Music Suite No. 2 in D Major: II. Alla hornpipe - Water Music Suite No. 2 in D Major: II. Alla hornpipe', 'limit': 10, 'offset': 0, 'type': 'track', 'market': None} returned 404 due to Not found.\n"
     ]
    },
    {
     "name": "stdout",
     "output_type": "stream",
     "text": [
      "ERROR 188\n",
      "0 Reload - Radio Edit\n",
      "ERROR 17\n",
      "ERROR 43\n",
      "50 Redline - Radio Edit\n",
      "100 Reload - Radio Edit\n",
      "ERROR 117\n",
      "ERROR 143\n",
      "150 Redline - Radio Edit\n",
      "0 Rave - Remix\n"
     ]
    }
   ],
   "source": [
    "df = pd.DataFrame()\n",
    "for i in range(len(playlist_list)):\n",
    "    newdf = PlaylistDatabase(playlist_list[i])\n",
    "    df = pd.concat([df, newdf])\n",
    "        "
   ]
  },
  {
   "cell_type": "code",
   "execution_count": 190,
   "id": "886c3e25",
   "metadata": {},
   "outputs": [
    {
     "data": {
      "text/plain": [
       "1919"
      ]
     },
     "execution_count": 190,
     "metadata": {},
     "output_type": "execute_result"
    }
   ],
   "source": [
    "len(df.index)"
   ]
  }
 ],
 "metadata": {
  "kernelspec": {
   "display_name": "Python 3 (ipykernel)",
   "language": "python",
   "name": "python3"
  },
  "language_info": {
   "codemirror_mode": {
    "name": "ipython",
    "version": 3
   },
   "file_extension": ".py",
   "mimetype": "text/x-python",
   "name": "python",
   "nbconvert_exporter": "python",
   "pygments_lexer": "ipython3",
   "version": "3.9.12"
  },
  "toc": {
   "base_numbering": 1,
   "nav_menu": {},
   "number_sections": true,
   "sideBar": true,
   "skip_h1_title": false,
   "title_cell": "Table of Contents",
   "title_sidebar": "Contents",
   "toc_cell": false,
   "toc_position": {},
   "toc_section_display": true,
   "toc_window_display": false
  }
 },
 "nbformat": 4,
 "nbformat_minor": 5
}
