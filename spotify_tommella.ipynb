{
 "cells": [
  {
   "cell_type": "markdown",
   "id": "463207ea",
   "metadata": {},
   "source": [
    "# SPOTIPY PROJECT\n",
    "## CREATE SONG DATABASE FROM SPOTIFY"
   ]
  },
  {
   "cell_type": "code",
   "execution_count": 10,
   "id": "c9c5ae5d",
   "metadata": {
    "pycharm": {
     "name": "#%%\n"
    }
   },
   "outputs": [],
   "source": [
    "import config"
   ]
  },
  {
   "cell_type": "code",
   "execution_count": 11,
   "id": "f35032f6",
   "metadata": {
    "pycharm": {
     "name": "#%%\n"
    }
   },
   "outputs": [],
   "source": [
    "import spotipy\n",
    "import json\n",
    "from spotipy.oauth2 import SpotifyClientCredentials\n",
    "import pandas as pd"
   ]
  },
  {
   "cell_type": "code",
   "execution_count": 12,
   "id": "3e5c290a",
   "metadata": {
    "pycharm": {
     "name": "#%%\n"
    }
   },
   "outputs": [
    {
     "name": "stdout",
     "output_type": "stream",
     "text": [
      "<spotipy.client.Spotify object at 0x000001B574407F70>\n"
     ]
    }
   ],
   "source": [
    "#Initialize SpotiPy with user credentias\n",
    "sp = spotipy.Spotify(auth_manager=SpotifyClientCredentials(client_id= config.client_id,\n",
    "                                                           client_secret= config.client_secret))\n",
    "print(sp)"
   ]
  },
  {
   "cell_type": "code",
   "execution_count": 13,
   "id": "bccbf659",
   "metadata": {},
   "outputs": [
    {
     "data": {
      "text/plain": [
       "\"\\n# secrets.py contains important secret variables\\nfrom secrets import *\\nimport base64\\nimport requests\\nimport json\\n\\n# function posts to /api/token endpoint and returns access token\\ndef spotify_get_access_token(client_id, client_secret):\\n    url = 'https://accounts.spotify.com/api/token'\\n    auth = base64.b64encode(f'{client_id}:{client_secret}'.encode('ascii')).decode('ascii')\\n    headers = {'Authorization': f'Basic {auth}'}\\n    data = {'grant_type': 'client_credentials'}\\n    return requests.post(url, headers=headers, data=data).json()['access_token']\\n\\nspotify_access_token = spotify_get_access_token(client_id, client_secret)\\n\\n# function gets from specified endpoint and returns response as json\\ndef spotify_get(endpoint, params):\\n    url = 'https://api.spotify.com/v1' + endpoint\\n    headers = {'Authorization': f'Bearer: {spotify_access_token}'}\\n    return requests.get(url, headers=headers, params=params)\\n\\nprint(spotify_get('/artists/2xvtxDNInKDV4AvGmjw6d1/albums', {'include_groups': 'album'}).json())\\n\""
      ]
     },
     "execution_count": 13,
     "metadata": {},
     "output_type": "execute_result"
    }
   ],
   "source": [
    "'''\n",
    "# secrets.py contains important secret variables\n",
    "from secrets import *\n",
    "import base64\n",
    "import requests\n",
    "import json\n",
    "\n",
    "# function posts to /api/token endpoint and returns access token\n",
    "def spotify_get_access_token(client_id, client_secret):\n",
    "    url = 'https://accounts.spotify.com/api/token'\n",
    "    auth = base64.b64encode(f'{client_id}:{client_secret}'.encode('ascii')).decode('ascii')\n",
    "    headers = {'Authorization': f'Basic {auth}'}\n",
    "    data = {'grant_type': 'client_credentials'}\n",
    "    return requests.post(url, headers=headers, data=data).json()['access_token']\n",
    "\n",
    "spotify_access_token = spotify_get_access_token(client_id, client_secret)\n",
    "\n",
    "# function gets from specified endpoint and returns response as json\n",
    "def spotify_get(endpoint, params):\n",
    "    url = 'https://api.spotify.com/v1' + endpoint\n",
    "    headers = {'Authorization': f'Bearer: {spotify_access_token}'}\n",
    "    return requests.get(url, headers=headers, params=params)\n",
    "\n",
    "print(spotify_get('/artists/2xvtxDNInKDV4AvGmjw6d1/albums', {'include_groups': 'album'}).json())\n",
    "'''"
   ]
  },
  {
   "cell_type": "code",
   "execution_count": null,
   "id": "69a017d2",
   "metadata": {
    "pycharm": {
     "name": "#%%\n"
    }
   },
   "outputs": [],
   "source": [
    "## example (rolling stones top 500)\n",
    "results = sp.search(q=\"Like a Rolling Stone\", limit=1, market=\"GB\")\n",
    "track = sp.search(q=\"Like a Rolling Stone\") #find title of the first track\n"
   ]
  },
  {
   "cell_type": "code",
   "execution_count": null,
   "id": "5fa13590",
   "metadata": {},
   "outputs": [],
   "source": []
  },
  {
   "cell_type": "code",
   "execution_count": null,
   "id": "ccd5bf49",
   "metadata": {},
   "outputs": [],
   "source": [
    "playlist_list = ['6uRb2P6XRj5ygnanxpMCfS', '59pRUY7wdHjzAyetJtqCnY']\n",
    "playlist_names = ['RollingStones_top500', 'top65House']"
   ]
  },
  {
   "cell_type": "code",
   "execution_count": null,
   "id": "4e1bab6b",
   "metadata": {},
   "outputs": [],
   "source": [
    "'''\n",
    "    def PlaylistDatabase(code):\n",
    "    try:\n",
    "        playlist = sp.user_playlist_tracks(\"spotify\", code)\n",
    "        update_playlist = playlist['items']\n",
    "\n",
    "        while playlist['next']:\n",
    "            update_playlist.extend(playlist['items'])\n",
    "            playlist = sp.next(playlist)\n",
    "\n",
    "        lenght = len(update_playlist)\n",
    "        #lenght\n",
    "\n",
    "        song_features_list = []\n",
    "        song_list = []\n",
    "        \n",
    "        for i in range(lenght):\n",
    "            try:\n",
    "                song = update_playlist[i]['track']['name']\n",
    "                song_list.append(song)\n",
    "                track = sp.search(q=song)\n",
    "                features = sp.audio_features(track[\"tracks\"][\"items\"][0][\"id\"])\n",
    "                song_features_list.append(features)\n",
    "                #print(len(song_features_list))\n",
    "\n",
    "                if i % 50 == 0: \n",
    "                    print(i, song)\n",
    "\n",
    "            except: \n",
    "                print('ERROR', i)\n",
    "                    \n",
    "        df = pd.DataFrame()\n",
    "        n_songs = len(song_features_list)\n",
    "        \n",
    "        for i in range(0, n_songs):\n",
    "            df = pd.concat([df, pd.DataFrame(song_features_list[i])])\n",
    "\n",
    "        df.reset_index(inplace=True, drop=True)\n",
    "        df = df[['danceability', 'energy', 'loudness', 'speechiness', 'acousticness', \n",
    "                'instrumentalness', 'liveness', 'valence', 'tempo', 'duration_ms']]\n",
    "        \n",
    "        df.index = song_list\n",
    "\n",
    "        return df\n",
    "    \n",
    "    except:\n",
    "        print('NOT WORKING')\n",
    "        '''"
   ]
  },
  {
   "cell_type": "code",
   "execution_count": null,
   "id": "e0d2f22a",
   "metadata": {},
   "outputs": [],
   "source": [
    "def PlaylistDatabase(code):\n",
    "    playlist = sp.user_playlist_tracks(\"spotify\", code)\n",
    "    update_playlist = playlist['items']\n",
    "\n",
    "    while playlist['next']:\n",
    "        update_playlist.extend(playlist['items'])\n",
    "        playlist = sp.next(playlist)\n",
    "\n",
    "    lenght = len(update_playlist)\n",
    "    #lenght\n",
    "\n",
    "    song_features_list = []\n",
    "    song_list = []\n",
    "\n",
    "    for i in range(lenght):\n",
    "        try:\n",
    "            song = update_playlist[i]['track']['name']\n",
    "            track = sp.search(q=song)\n",
    "            features = sp.audio_features(track[\"tracks\"][\"items\"][0][\"id\"])\n",
    "            song_features_list.append(features)\n",
    "            song_list.append(song)\n",
    "\n",
    "            #print(len(song_features_list))\n",
    "\n",
    "            if i % 50 == 0: \n",
    "                print(i, song)\n",
    "\n",
    "        except: \n",
    "            print('ERROR', i)\n",
    "        \n",
    "\n",
    "    df = pd.DataFrame()\n",
    "    n_songs = len(song_features_list)\n",
    "\n",
    "    for i in range(0, n_songs):\n",
    "        df = pd.concat([df, pd.DataFrame(song_features_list[i])])\n",
    "\n",
    "    df.reset_index(inplace=True, drop=True)\n",
    "    df = df[['danceability', 'energy', 'loudness', 'speechiness', 'acousticness', \n",
    "            'instrumentalness', 'liveness', 'valence', 'tempo', 'duration_ms']]\n",
    "\n",
    "    df.index = song_list\n",
    "\n",
    "    return df"
   ]
  },
  {
   "cell_type": "code",
   "execution_count": null,
   "id": "806ded64",
   "metadata": {},
   "outputs": [],
   "source": [
    "playlist_list = ['59pRUY7wdHjzAyetJtqCnY', '5ye9yx1tss5jxju4NDYHqQ', '6kQMCF1nN5TtvBT2DLCz2H', '4liqQvs6bPHmy1s3559Zfe', \n",
    "                 '27VY0PivrvmGgNvFx23sU5', '6MJSGcF4iV79gyo8xZpd8U', '1Q3xkLA1R06gIrBo3k4U1q', '6uRb2P6XRj5ygnanxpMCfS', \n",
    "                 '2iBH9S3UXlrtUBxjffgZEh', '3vDe8D64ytZRKXt0AsJT0B', '1c5JpH8s61Se836y57iJpv', '37i9dQZF1DWWEJlAGA9gs0', \n",
    "                 '4YygUsUEglDPrYIUmrdNVT', '4hISTlanHrnfDlbGBmKQ5J', '1TSfzmBieYMjfaDrKNb69t', '2ORDELafw6TqNRZBGY6TPb', \n",
    "                 '3J7GI554Rlhrpy5COcSNc7']\n",
    "print(playlist_list)"
   ]
  },
  {
   "cell_type": "code",
   "execution_count": null,
   "id": "32b0b32d",
   "metadata": {},
   "outputs": [],
   "source": [
    "df = pd.DataFrame()\n",
    "for i in range(len(playlist_list)):\n",
    "    newdf = PlaylistDatabase(playlist_list[i])\n",
    "    #newdf = pd.DataFrame(newdf)\n",
    "    df = pd.concat([df, newdf])\n",
    "    "
   ]
  },
  {
   "cell_type": "code",
   "execution_count": null,
   "id": "27fe41bb",
   "metadata": {},
   "outputs": [],
   "source": [
    "playlist_list = ['59pRUY7wdHjzAyetJtqCnY', '5ye9yx1tss5jxju4NDYHqQ', '6kQMCF1nN5TtvBT2DLCz2H', '4liqQvs6bPHmy1s3559Zfe', \n",
    "                 '27VY0PivrvmGgNvFx23sU5', '6MJSGcF4iV79gyo8xZpd8U', '1Q3xkLA1R06gIrBo3k4U1q', '6uRb2P6XRj5ygnanxpMCfS', \n",
    "                 '2iBH9S3UXlrtUBxjffgZEh', '3vDe8D64ytZRKXt0AsJT0B', '1c5JpH8s61Se836y57iJpv', '37i9dQZF1DWWEJlAGA9gs0', \n",
    "                 '4YygUsUEglDPrYIUmrdNVT', '4hISTlanHrnfDlbGBmKQ5J', '1TSfzmBieYMjfaDrKNb69t', '2ORDELafw6TqNRZBGY6TPb', \n",
    "                 '3J7GI554Rlhrpy5COcSNc7']"
   ]
  },
  {
   "cell_type": "code",
   "execution_count": null,
   "id": "a25170a4",
   "metadata": {},
   "outputs": [],
   "source": [
    "df1 = PlaylistDatabase('59pRUY7wdHjzAyetJtqCnY')"
   ]
  },
  {
   "cell_type": "code",
   "execution_count": null,
   "id": "eddcf658",
   "metadata": {},
   "outputs": [],
   "source": [
    "df2 = PlaylistDatabase('5ye9yx1tss5jxju4NDYHqQ')"
   ]
  },
  {
   "cell_type": "code",
   "execution_count": null,
   "id": "55eb7dc1",
   "metadata": {},
   "outputs": [],
   "source": [
    "df3 = PlaylistDatabase('6kQMCF1nN5TtvBT2DLCz2H')"
   ]
  },
  {
   "cell_type": "code",
   "execution_count": null,
   "id": "2b582010",
   "metadata": {},
   "outputs": [],
   "source": [
    "df4 = PlaylistDatabase('4liqQvs6bPHmy1s3559Zfe')"
   ]
  },
  {
   "cell_type": "code",
   "execution_count": null,
   "id": "f6a9e185",
   "metadata": {},
   "outputs": [],
   "source": [
    "df5 = PlaylistDatabase('5ye9yx1tss5jxju4NDYHqQ')"
   ]
  },
  {
   "cell_type": "code",
   "execution_count": null,
   "id": "1bbc3516",
   "metadata": {},
   "outputs": [],
   "source": [
    "df6 = PlaylistDatabase('27VY0PivrvmGgNvFx23sU5')"
   ]
  },
  {
   "cell_type": "code",
   "execution_count": null,
   "id": "14f0fe53",
   "metadata": {},
   "outputs": [],
   "source": [
    "df7 = PlaylistDatabase('6MJSGcF4iV79gyo8xZpd8U')"
   ]
  },
  {
   "cell_type": "code",
   "execution_count": null,
   "id": "37bed13a",
   "metadata": {},
   "outputs": [],
   "source": [
    "df8 = PlaylistDatabase('6uRb2P6XRj5ygnanxpMCfS')"
   ]
  },
  {
   "cell_type": "code",
   "execution_count": null,
   "id": "912cd847",
   "metadata": {},
   "outputs": [],
   "source": [
    "df9 = PlaylistDatabase('2iBH9S3UXlrtUBxjffgZEh')"
   ]
  },
  {
   "cell_type": "code",
   "execution_count": null,
   "id": "353a1707",
   "metadata": {},
   "outputs": [],
   "source": [
    "df10 = PlaylistDatabase('3vDe8D64ytZRKXt0AsJT0B')"
   ]
  },
  {
   "cell_type": "code",
   "execution_count": null,
   "id": "9efa84fa",
   "metadata": {},
   "outputs": [],
   "source": [
    "df11 = PlaylistDatabase('1c5JpH8s61Se836y57iJpv')"
   ]
  },
  {
   "cell_type": "code",
   "execution_count": null,
   "id": "bff71db6",
   "metadata": {},
   "outputs": [],
   "source": [
    "df12 = PlaylistDatabase('37i9dQZF1DWWEJlAGA9gs0')"
   ]
  },
  {
   "cell_type": "code",
   "execution_count": null,
   "id": "1f87c9c1",
   "metadata": {},
   "outputs": [],
   "source": [
    "df13 = PlaylistDatabase('4YygUsUEglDPrYIUmrdNVT')"
   ]
  },
  {
   "cell_type": "code",
   "execution_count": null,
   "id": "666310b6",
   "metadata": {},
   "outputs": [],
   "source": [
    "df14 = PlaylistDatabase('4hISTlanHrnfDlbGBmKQ5J')"
   ]
  },
  {
   "cell_type": "code",
   "execution_count": null,
   "id": "c0d0c9ec",
   "metadata": {},
   "outputs": [],
   "source": [
    "df15 = PlaylistDatabase('1TSfzmBieYMjfaDrKNb69t')"
   ]
  },
  {
   "cell_type": "code",
   "execution_count": null,
   "id": "6345483a",
   "metadata": {},
   "outputs": [],
   "source": [
    "df16 = PlaylistDatabase('2ORDELafw6TqNRZBGY6TPb')"
   ]
  },
  {
   "cell_type": "code",
   "execution_count": null,
   "id": "038a6a74",
   "metadata": {},
   "outputs": [],
   "source": [
    "df17 = PlaylistDatabase('3J7GI554Rlhrpy5COcSNc7')"
   ]
  },
  {
   "cell_type": "code",
   "execution_count": null,
   "id": "48a85617",
   "metadata": {},
   "outputs": [],
   "source": [
    "c = pd.concat([df1, df2])"
   ]
  },
  {
   "cell_type": "code",
   "execution_count": null,
   "id": "6358ef73",
   "metadata": {},
   "outputs": [],
   "source": [
    "#playlist = sp.user_playlist_tracks(\"spotify\", \"59pRUY7wdHjzAyetJtqCnY\")\n",
    "#df = PlaylistDatabase(playlist)"
   ]
  },
  {
   "cell_type": "code",
   "execution_count": null,
   "id": "43e27c1f",
   "metadata": {},
   "outputs": [],
   "source": [
    "print(len(df13.index))"
   ]
  },
  {
   "cell_type": "code",
   "execution_count": null,
   "id": "781b8f59",
   "metadata": {},
   "outputs": [],
   "source": []
  },
  {
   "cell_type": "code",
   "execution_count": null,
   "id": "b3d79178",
   "metadata": {},
   "outputs": [],
   "source": [
    "#df.to_csv(\"song_db_tommella.csv\", encoding='utf-8')"
   ]
  },
  {
   "cell_type": "code",
   "execution_count": null,
   "id": "67f58bc8",
   "metadata": {},
   "outputs": [],
   "source": [
    "print('ok')"
   ]
  },
  {
   "cell_type": "code",
   "execution_count": null,
   "id": "2860beb2",
   "metadata": {},
   "outputs": [],
   "source": [
    "df = pd.DataFrame()"
   ]
  },
  {
   "cell_type": "code",
   "execution_count": null,
   "id": "286b8940",
   "metadata": {},
   "outputs": [],
   "source": [
    "playlist_list = ['6uRb2P6XRj5ygnanxpMCfS', '59pRUY7wdHjzAyetJtqCnY', '5lhqqa8MzVzetczMHWxR9p', '09aX21KFZ8bsAsdGEVv2Fo', \n",
    "'5ye9yx1tss5jxju4NDYHqQ', '6kQMCF1nN5TtvBT2DLCz2H', '4liqQvs6bPHmy1s3559Zfe', '27VY0PivrvmGgNvFx23sU5', '6MJSGcF4iV79gyo8xZpd8U']\n",
    "\n",
    "playlist_names = ['top65House', 'RollingStones_top500', 'top1000House', 'top50DeeoHouse', 'top50Houseradio', 'classical50', \n",
    "                 'classical100', 'progressive100', 'techno50']\n",
    "#playlist_list = ['59pRUY7wdHjzAyetJtqCnY', '09aX21KFZ8bsAsdGEVv2Fo', '6kQMCF1nN5TtvBT2DLCz2H']\n"
   ]
  },
  {
   "cell_type": "code",
   "execution_count": null,
   "id": "5d92b722",
   "metadata": {},
   "outputs": [],
   "source": [
    "df = pd.DataFrame()\n",
    "for i in range(len(playlist_list)):\n",
    "    newdf = PlaylistDatabase(playlist_list[i])\n",
    "    newdf = pd.DataFrame(newdf)\n",
    "    df = pd.concat([df, newdf])\n",
    "        "
   ]
  },
  {
   "cell_type": "code",
   "execution_count": null,
   "id": "3b4fc288",
   "metadata": {},
   "outputs": [],
   "source": [
    "newdf.index"
   ]
  },
  {
   "cell_type": "code",
   "execution_count": null,
   "id": "886c3e25",
   "metadata": {},
   "outputs": [],
   "source": [
    "len(df.index)\n",
    "df.to_csv(\"song_db_tommella.csv\", encoding='utf-8')"
   ]
  },
  {
   "cell_type": "code",
   "execution_count": null,
   "id": "9da8da20",
   "metadata": {},
   "outputs": [],
   "source": [
    "<iframe style=\"border-radius:12px\" src=\"https://open.spotify.com/embed/playlist/37i9dQZF1DWWEJlAGA9gs0?utm_source=generator\" width=\"100%\" height=\"380\" frameBorder=\"0\" allowfullscreen=\"\" allow=\"autoplay; clipboard-write; encrypted-media; fullscreen; picture-in-picture\"></iframe>\n",
    "<iframe style=\"border-radius:12px\" src=\"https://open.spotify.com/embed/playlist/4YygUsUEglDPrYIUmrdNVT?utm_source=generator\" width=\"100%\" height=\"380\" frameBorder=\"0\" allowfullscreen=\"\" allow=\"autoplay; clipboard-write; encrypted-media; fullscreen; picture-in-picture\"></iframe>\n",
    "<iframe style=\"border-radius:12px\" src=\"https://open.spotify.com/embed/playlist/4hISTlanHrnfDlbGBmKQ5J?utm_source=generator\" width=\"100%\" height=\"380\" frameBorder=\"0\" allowfullscreen=\"\" allow=\"autoplay; clipboard-write; encrypted-media; fullscreen; picture-in-picture\"></iframe>\n",
    "<iframe style=\"border-radius:12px\" src=\"https://open.spotify.com/embed/playlist/1TSfzmBieYMjfaDrKNb69t?utm_source=generator\" width=\"100%\" height=\"380\" frameBorder=\"0\" allowfullscreen=\"\" allow=\"autoplay; clipboard-write; encrypted-media; fullscreen; picture-in-picture\"></iframe>\n",
    "<iframe style=\"border-radius:12px\" src=\"https://open.spotify.com/embed/playlist/2ORDELafw6TqNRZBGY6TPb?utm_source=generator\" width=\"100%\" height=\"380\" frameBorder=\"0\" allowfullscreen=\"\" allow=\"autoplay; clipboard-write; encrypted-media; fullscreen; picture-in-picture\"></iframe>\n",
    "<iframe style=\"border-radius:12px\" src=\"https://open.spotify.com/embed/playlist/3J7GI554Rlhrpy5COcSNc7?utm_source=generator\" width=\"100%\" height=\"380\" frameBorder=\"0\" allowfullscreen=\"\" allow=\"autoplay; clipboard-write; encrypted-media; fullscreen; picture-in-picture\"></iframe>\n",
    "\n",
    "\n",
    "'37i9dQZF1DWWEJlAGA9gs0', '4YygUsUEglDPrYIUmrdNVT', '4hISTlanHrnfDlbGBmKQ5J', '1TSfzmBieYMjfaDrKNb69t', '2ORDELafw6TqNRZBGY6TPb', '3J7GI554Rlhrpy5COcSNc7'\n"
   ]
  },
  {
   "cell_type": "code",
   "execution_count": null,
   "id": "246064b0",
   "metadata": {},
   "outputs": [],
   "source": []
  },
  {
   "cell_type": "code",
   "execution_count": null,
   "id": "8fb82ecc",
   "metadata": {},
   "outputs": [],
   "source": [
    "def PlaylistDatabase(code):\n",
    "    playlist = sp.user_playlist_tracks(\"spotify\", code)\n",
    "    update_playlist = playlist['items']\n",
    "\n",
    "    while playlist['next']:\n",
    "        update_playlist.extend(playlist['items'])\n",
    "        playlist = sp.next(playlist)\n",
    "\n",
    "    lenght = len(update_playlist)\n",
    "    #lenght\n",
    "\n",
    "    song_features_list = []\n",
    "    song_list = []\n",
    "\n",
    "    for i in range(lenght):\n",
    "        try:\n",
    "            song = update_playlist[i]['track']['name']\n",
    "            track = sp.search(q=song)\n",
    "            features = sp.audio_features(track[\"tracks\"][\"items\"][0][\"id\"])\n",
    "            song_features_list.append(features)\n",
    "            song_list.append(song)\n",
    "\n",
    "            #print(len(song_features_list))\n",
    "\n",
    "            if i % 50 == 0: \n",
    "                print(i, song)\n",
    "\n",
    "        except: \n",
    "            print('ERROR', i)\n",
    "        \n",
    "\n",
    "    df = pd.DataFrame()\n",
    "    n_songs = len(song_features_list)\n",
    "\n",
    "    for i in range(0, n_songs):\n",
    "        df = pd.concat([df, pd.DataFrame(song_features_list[i])])\n",
    "\n",
    "    df.reset_index(inplace=True, drop=True)\n",
    "    df = df[['danceability', 'energy', 'loudness', 'speechiness', 'acousticness', \n",
    "            'instrumentalness', 'liveness', 'valence', 'tempo', 'duration_ms']]\n",
    "\n",
    "    df.index = song_list\n",
    "\n",
    "    return df"
   ]
  },
  {
   "cell_type": "code",
   "execution_count": null,
   "id": "4b0b7587",
   "metadata": {},
   "outputs": [],
   "source": [
    "df3\n"
   ]
  },
  {
   "cell_type": "code",
   "execution_count": null,
   "id": "659fbe66",
   "metadata": {},
   "outputs": [],
   "source": []
  },
  {
   "cell_type": "code",
   "execution_count": null,
   "id": "0172fe6b",
   "metadata": {},
   "outputs": [],
   "source": []
  },
  {
   "cell_type": "code",
   "execution_count": null,
   "id": "0b5ecb1c",
   "metadata": {},
   "outputs": [],
   "source": []
  },
  {
   "cell_type": "code",
   "execution_count": null,
   "id": "a2f89680",
   "metadata": {},
   "outputs": [],
   "source": [
    "def PlaylistDatabase(code):\n",
    "    playlist = sp.user_playlist_tracks(\"spotify\", code)\n",
    "    update_playlist = playlist['items']\n",
    "\n",
    "    while playlist['next']:\n",
    "        update_playlist.extend(playlist['items'])\n",
    "        playlist = sp.next(playlist)\n",
    "\n",
    "    lenght = len(update_playlist)\n",
    "    #lenght\n",
    "\n",
    "    song_features_list = []\n",
    "    song_list = []\n",
    "\n",
    "    for i in range(lenght):\n",
    "        try:\n",
    "            song = update_playlist[i]['track']['name']\n",
    "            track = sp.search(q=song)\n",
    "            features = sp.audio_features(track[\"tracks\"][\"items\"][0][\"id\"])\n",
    "            song_features_list.append(features)\n",
    "            song_list.append(song)\n",
    "\n",
    "            if i % 50 == 0: \n",
    "                print(i, song)\n",
    "\n",
    "        except: \n",
    "            print('ERROR', i)\n",
    "            \n",
    "    return song_list, song_features_list"
   ]
  },
  {
   "cell_type": "code",
   "execution_count": null,
   "id": "e7f8e3ad",
   "metadata": {},
   "outputs": [],
   "source": [
    "song, features = PlaylistDatabase('4liqQvs6bPHmy1s3559Zfe')"
   ]
  },
  {
   "cell_type": "code",
   "execution_count": null,
   "id": "91ddc4dd",
   "metadata": {},
   "outputs": [],
   "source": [
    "print(len(features), len(song))"
   ]
  },
  {
   "cell_type": "code",
   "execution_count": null,
   "id": "a631a2b8",
   "metadata": {},
   "outputs": [],
   "source": []
  }
 ],
 "metadata": {
  "kernelspec": {
   "display_name": "Python 3 (ipykernel)",
   "language": "python",
   "name": "python3"
  },
  "language_info": {
   "codemirror_mode": {
    "name": "ipython",
    "version": 3
   },
   "file_extension": ".py",
   "mimetype": "text/x-python",
   "name": "python",
   "nbconvert_exporter": "python",
   "pygments_lexer": "ipython3",
   "version": "3.9.12"
  },
  "toc": {
   "base_numbering": 1,
   "nav_menu": {},
   "number_sections": true,
   "sideBar": true,
   "skip_h1_title": false,
   "title_cell": "Table of Contents",
   "title_sidebar": "Contents",
   "toc_cell": false,
   "toc_position": {},
   "toc_section_display": true,
   "toc_window_display": false
  }
 },
 "nbformat": 4,
 "nbformat_minor": 5
}
