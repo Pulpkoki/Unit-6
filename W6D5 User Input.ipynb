{
 "cells": [
  {
   "cell_type": "markdown",
   "id": "a6c6fca9",
   "metadata": {},
   "source": [
    "# Assemble the project pipeline"
   ]
  },
  {
   "cell_type": "markdown",
   "id": "e30934b3",
   "metadata": {},
   "source": [
    "## Import Libraries"
   ]
  },
  {
   "cell_type": "code",
   "execution_count": 10,
   "id": "7c701410",
   "metadata": {},
   "outputs": [],
   "source": [
    "import numpy as np\n",
    "import pandas as pd\n",
    "import pickle\n",
    "from sklearn import datasets # sklearn comes with some toy datasets to practise\n",
    "from sklearn.preprocessing import StandardScaler\n",
    "from sklearn.cluster import KMeans\n",
    "from matplotlib import pyplot\n",
    "from sklearn.metrics import silhouette_score\n",
    "import config\n",
    "import spotipy\n",
    "import json\n",
    "from spotipy.oauth2 import SpotifyClientCredentials"
   ]
  },
  {
   "cell_type": "code",
   "execution_count": 11,
   "id": "ed1a72ff",
   "metadata": {},
   "outputs": [],
   "source": [
    "#Initialize SpotiPy with user credentias\n",
    "sp = spotipy.Spotify(auth_manager=SpotifyClientCredentials(client_id= config.client_id,\n",
    "                                                           client_secret= config.client_secret))"
   ]
  },
  {
   "cell_type": "markdown",
   "id": "377431d9",
   "metadata": {},
   "source": [
    "## Get features"
   ]
  },
  {
   "cell_type": "code",
   "execution_count": null,
   "id": "c902c11c",
   "metadata": {},
   "outputs": [],
   "source": [
    "# Get random song and scale its features (get features)\n",
    "track = sp.search(q=\"Oops I did it again\", type=\"track\", limit=10 ,market=\"GB\")\n",
    "features = pd.DataFrame(sp.audio_features(track[\"tracks\"][\"items\"][0][\"id\"]))\n",
    "features = features[['danceability', 'energy', 'loudness', 'speechiness', 'acousticness',\n",
    "        'instrumentalness', 'liveness', 'valence', 'tempo', 'duration_ms']]\n",
    "features\n"
   ]
  },
  {
   "cell_type": "code",
   "execution_count": null,
   "id": "c5c1ec68",
   "metadata": {},
   "outputs": [],
   "source": [
    "#load the scaling function with pickle\n",
    "def load(filename = \"pulpkokiscaler.pickle\"): \n",
    "    try: \n",
    "        with open(filename, \"rb\") as f: \n",
    "            return pickle.load(f) \n",
    "        \n",
    "    except FileNotFoundError: \n",
    "        print(\"File not found!\") \n",
    "        \n",
    "pulpscaler = load(\"pulpkokiscaler.pickle\")\n",
    "pulpscaler"
   ]
  },
  {
   "cell_type": "code",
   "execution_count": null,
   "id": "0789d43a",
   "metadata": {},
   "outputs": [],
   "source": [
    "#Apply the trained scaler to transform the user’s song audio features\n",
    "\n",
    "scaledfeat = pulpscaler.transform(features)\n",
    "print(scaledfeat)"
   ]
  },
  {
   "cell_type": "code",
   "execution_count": null,
   "id": "3ba7f0b3",
   "metadata": {},
   "outputs": [],
   "source": [
    "#load the kmeans function with pickle\n",
    "def load(filename = \"pulpkokikmeans.pickle\"): \n",
    "    try: \n",
    "        with open(filename, \"rb\") as f: \n",
    "            return pickle.load(f) \n",
    "        \n",
    "    except FileNotFoundError: \n",
    "        print(\"File not found!\") \n",
    "        \n",
    "pulpkey = load(\"pulpkokikmeans.pickle\")\n",
    "pulpkey"
   ]
  },
  {
   "cell_type": "code",
   "execution_count": null,
   "id": "a9085f29",
   "metadata": {},
   "outputs": [],
   "source": [
    "keyfeat = pulpkey.predict(features)\n",
    "print(keyfeat)"
   ]
  },
  {
   "cell_type": "code",
   "execution_count": null,
   "id": "b94a3c4e",
   "metadata": {},
   "outputs": [],
   "source": [
    "df_scaled2 = pd.read_csv('pulpkokicluster.csv')\n",
    "df_scaled2"
   ]
  },
  {
   "cell_type": "code",
   "execution_count": null,
   "id": "b1ce4653",
   "metadata": {},
   "outputs": [],
   "source": [
    "filtered_df = df_scaled2[(df_scaled2['cluster'] == 5)]\n",
    "filtered_df"
   ]
  },
  {
   "cell_type": "code",
   "execution_count": null,
   "id": "dccb506d",
   "metadata": {},
   "outputs": [],
   "source": [
    "#Create a function to fit the K-Means clustering method using all the songs \n",
    "#contained in the Spotify collected data set."
   ]
  },
  {
   "cell_type": "code",
   "execution_count": null,
   "id": "0e9aa73d",
   "metadata": {},
   "outputs": [],
   "source": [
    "#Use the trained K-means model to predict the cluster of each song in the internal databases \n",
    "#and add this information to the internal databases"
   ]
  },
  {
   "cell_type": "markdown",
   "id": "e01c0b87",
   "metadata": {},
   "source": [
    "# User Input final scenario"
   ]
  },
  {
   "cell_type": "markdown",
   "id": "790d07de",
   "metadata": {},
   "source": [
    "## Get the song name from the user as an input"
   ]
  },
  {
   "cell_type": "code",
   "execution_count": null,
   "id": "cf8c94aa",
   "metadata": {},
   "outputs": [],
   "source": [
    "user_song = input(\"Name of the song \")"
   ]
  },
  {
   "cell_type": "code",
   "execution_count": null,
   "id": "39cb2f12",
   "metadata": {},
   "outputs": [],
   "source": [
    "track = sp.search(q=\"Somebody\", type=\"track\", limit=5)\n",
    "n_songs = len(track['tracks']['items'])\n",
    "for i in range(n_songs):\n",
    "    artist = track['tracks']['items'][i]['artists'][0]['name']\n",
    "    album =  track['tracks']['items'][i]['album']['name']\n",
    "    print(i, \"Artist: \", artist, \"\\n\", \"Album: \", album, \"\\n\")"
   ]
  },
  {
   "cell_type": "markdown",
   "id": "5e7bc49e",
   "metadata": {},
   "source": [
    "## Play the input song in music embed player"
   ]
  },
  {
   "cell_type": "markdown",
   "id": "31e10a80",
   "metadata": {},
   "source": [
    "['spotify' https://open.spotify.com/track/7sLpSWxQazJzDVG6YGzlVs?si=ad11087c4b534a6c"
   ]
  },
  {
   "cell_type": "code",
   "execution_count": 1,
   "id": "66772d8c",
   "metadata": {},
   "outputs": [
    {
     "data": {
      "text/html": [
       "\n",
       "        <iframe\n",
       "            width=\"320\"\n",
       "            height=\"80\"\n",
       "            src=\"https://open.spotify.com/embed/track/7sLpSWxQazJzDVG6YGzlVs?frameborder=0&allowtransparency=true&allow=encrypted-media\"\n",
       "            frameborder=\"0\"\n",
       "            allowfullscreen\n",
       "            \n",
       "        ></iframe>\n",
       "        "
      ],
      "text/plain": [
       "<IPython.lib.display.IFrame at 0x7fdac851da30>"
      ]
     },
     "execution_count": 1,
     "metadata": {},
     "output_type": "execute_result"
    }
   ],
   "source": [
    "from IPython.display import IFrame\n",
    "\n",
    "#track_id = \"7sLpSWxQazJzDVG6YGzlVs\"\n",
    "\n",
    "IFrame(src=\"https://open.spotify.com/embed/track/7sLpSWxQazJzDVG6YGzlVs\",\n",
    "       width=\"320\",\n",
    "       height=\"80\",\n",
    "       frameborder=\"0\",\n",
    "       allowtransparency=\"true\",\n",
    "       allow=\"encrypted-media\",\n",
    "      )"
   ]
  },
  {
   "cell_type": "markdown",
   "id": "74b075be",
   "metadata": {},
   "source": [
    "## Get the audio features for that song from spotify API. using sp.audio_features(trackid) . pay attention to keep only the audio features columns."
   ]
  },
  {
   "cell_type": "code",
   "execution_count": 25,
   "id": "219e96c4",
   "metadata": {},
   "outputs": [
    {
     "data": {
      "text/plain": [
       "[{'danceability': 0.494,\n",
       "  'energy': 0.887,\n",
       "  'key': 6,\n",
       "  'loudness': -4.297,\n",
       "  'mode': 0,\n",
       "  'speechiness': 0.398,\n",
       "  'acousticness': 0.00661,\n",
       "  'instrumentalness': 0,\n",
       "  'liveness': 0.103,\n",
       "  'valence': 0.548,\n",
       "  'tempo': 89.554,\n",
       "  'type': 'audio_features',\n",
       "  'id': '7sLpSWxQazJzDVG6YGzlVs',\n",
       "  'uri': 'spotify:track:7sLpSWxQazJzDVG6YGzlVs',\n",
       "  'track_href': 'https://api.spotify.com/v1/tracks/7sLpSWxQazJzDVG6YGzlVs',\n",
       "  'analysis_url': 'https://api.spotify.com/v1/audio-analysis/7sLpSWxQazJzDVG6YGzlVs',\n",
       "  'duration_ms': 234627,\n",
       "  'time_signature': 4}]"
      ]
     },
     "execution_count": 25,
     "metadata": {},
     "output_type": "execute_result"
    }
   ],
   "source": [
    "trackid = \"7sLpSWxQazJzDVG6YGzlVs\"\n",
    "sp.audio_features(trackid)"
   ]
  },
  {
   "cell_type": "code",
   "execution_count": null,
   "id": "934097c9",
   "metadata": {},
   "outputs": [],
   "source": [
    "track = sp.search(q=\"Somebody\", type=\"track\", limit=5)\n",
    "n_songs = len(track['tracks']['items'])\n",
    "for i in range(n_songs):\n",
    "    artist = track['tracks']['items'][i]['artists'][0]['name']\n",
    "    album =  track['tracks']['items'][i]['album']['name']\n",
    "    print(i, \"Artist: \", artist, \"\\n\", \"Album: \", album, \"\\n\")"
   ]
  },
  {
   "cell_type": "markdown",
   "id": "119a5a07",
   "metadata": {},
   "source": [
    "## Using mode.predict(new scaled audio record for the new song) to predict the cluster (label) for the new song."
   ]
  },
  {
   "cell_type": "markdown",
   "id": "cd43dc9b",
   "metadata": {},
   "source": [
    "## Return random song from the same cluster   that the new song belongs to from your data frame and suggest it to the user"
   ]
  },
  {
   "cell_type": "markdown",
   "id": "c1fe73dc",
   "metadata": {},
   "source": [
    "## Play it using embedded music player."
   ]
  },
  {
   "cell_type": "code",
   "execution_count": null,
   "id": "904d4421",
   "metadata": {},
   "outputs": [],
   "source": []
  }
 ],
 "metadata": {
  "kernelspec": {
   "display_name": "Python 3 (ipykernel)",
   "language": "python",
   "name": "python3"
  },
  "language_info": {
   "codemirror_mode": {
    "name": "ipython",
    "version": 3
   },
   "file_extension": ".py",
   "mimetype": "text/x-python",
   "name": "python",
   "nbconvert_exporter": "python",
   "pygments_lexer": "ipython3",
   "version": "3.9.12"
  },
  "toc": {
   "base_numbering": 1,
   "nav_menu": {},
   "number_sections": true,
   "sideBar": true,
   "skip_h1_title": false,
   "title_cell": "Table of Contents",
   "title_sidebar": "Contents",
   "toc_cell": false,
   "toc_position": {},
   "toc_section_display": true,
   "toc_window_display": false
  }
 },
 "nbformat": 4,
 "nbformat_minor": 5
}
