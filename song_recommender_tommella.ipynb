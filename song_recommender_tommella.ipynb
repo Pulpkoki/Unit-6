{
 "cells": [
  {
   "cell_type": "markdown",
   "id": "984a174f",
   "metadata": {},
   "source": [
    "# SONG RECOMMENDER"
   ]
  },
  {
   "cell_type": "code",
   "execution_count": 18,
   "id": "43d462de",
   "metadata": {},
   "outputs": [],
   "source": [
    "import pickle\n",
    "import spotipy as sp\n",
    "import json\n",
    "from spotipy.oauth2 import SpotifyClientCredentials\n",
    "import pandas as pd"
   ]
  },
  {
   "cell_type": "code",
   "execution_count": 19,
   "id": "1ad9053e",
   "metadata": {},
   "outputs": [],
   "source": [
    "### SAVE MODEL AND SCALER\n",
    "import pickle\n",
    "\n",
    "def load(filename = \"filename.pickle\"): \n",
    "    try: \n",
    "        with open(filename, \"rb\") as f: \n",
    "            return pickle.load(f) \n",
    "\n",
    "    except FileNotFoundError: \n",
    "        print(\"File not found!\") \n"
   ]
  },
  {
   "cell_type": "code",
   "execution_count": 20,
   "id": "61f6dedb",
   "metadata": {},
   "outputs": [],
   "source": [
    "## example (rolling stones top 500)\n",
    "#Initialize SpotiPy with user credentias\n",
    "import config\n",
    "sp = sp.Spotify(auth_manager=SpotifyClientCredentials(client_id= config.client_id,\n",
    "                                                           client_secret= config.client_secret))\n"
   ]
  },
  {
   "cell_type": "code",
   "execution_count": 21,
   "id": "371ddb2b",
   "metadata": {},
   "outputs": [
    {
     "data": {
      "text/html": [
       "<div>\n",
       "<style scoped>\n",
       "    .dataframe tbody tr th:only-of-type {\n",
       "        vertical-align: middle;\n",
       "    }\n",
       "\n",
       "    .dataframe tbody tr th {\n",
       "        vertical-align: top;\n",
       "    }\n",
       "\n",
       "    .dataframe thead th {\n",
       "        text-align: right;\n",
       "    }\n",
       "</style>\n",
       "<table border=\"1\" class=\"dataframe\">\n",
       "  <thead>\n",
       "    <tr style=\"text-align: right;\">\n",
       "      <th></th>\n",
       "      <th>danceability</th>\n",
       "      <th>energy</th>\n",
       "      <th>loudness</th>\n",
       "      <th>speechiness</th>\n",
       "      <th>acousticness</th>\n",
       "      <th>instrumentalness</th>\n",
       "      <th>liveness</th>\n",
       "      <th>valence</th>\n",
       "      <th>tempo</th>\n",
       "      <th>duration_ms</th>\n",
       "    </tr>\n",
       "  </thead>\n",
       "  <tbody>\n",
       "    <tr>\n",
       "      <th>0</th>\n",
       "      <td>0.716</td>\n",
       "      <td>0.531</td>\n",
       "      <td>-7.355</td>\n",
       "      <td>0.122</td>\n",
       "      <td>0.0703</td>\n",
       "      <td>0</td>\n",
       "      <td>0.224</td>\n",
       "      <td>0.344</td>\n",
       "      <td>71.994</td>\n",
       "      <td>386907</td>\n",
       "    </tr>\n",
       "  </tbody>\n",
       "</table>\n",
       "</div>"
      ],
      "text/plain": [
       "   danceability  energy  loudness  speechiness  acousticness  \\\n",
       "0         0.716   0.531    -7.355        0.122        0.0703   \n",
       "\n",
       "   instrumentalness  liveness  valence   tempo  duration_ms  \n",
       "0                 0     0.224    0.344  71.994       386907  "
      ]
     },
     "execution_count": 21,
     "metadata": {},
     "output_type": "execute_result"
    }
   ],
   "source": [
    "#import numpy as np \n",
    "track = sp.search(q=\"Money\", type=\"track\", limit=10)\n",
    "features = pd.DataFrame(sp.audio_features(track[\"tracks\"][\"items\"][0][\"id\"]))\n",
    "features = features[['danceability', 'energy', 'loudness', 'speechiness', 'acousticness', \n",
    "        'instrumentalness', 'liveness', 'valence', 'tempo', 'duration_ms']]\n",
    "\n",
    "features"
   ]
  },
  {
   "cell_type": "code",
   "execution_count": 22,
   "id": "29c4773f",
   "metadata": {},
   "outputs": [
    {
     "data": {
      "text/html": [
       "<div>\n",
       "<style scoped>\n",
       "    .dataframe tbody tr th:only-of-type {\n",
       "        vertical-align: middle;\n",
       "    }\n",
       "\n",
       "    .dataframe tbody tr th {\n",
       "        vertical-align: top;\n",
       "    }\n",
       "\n",
       "    .dataframe thead th {\n",
       "        text-align: right;\n",
       "    }\n",
       "</style>\n",
       "<table border=\"1\" class=\"dataframe\">\n",
       "  <thead>\n",
       "    <tr style=\"text-align: right;\">\n",
       "      <th></th>\n",
       "      <th>danceability</th>\n",
       "      <th>energy</th>\n",
       "      <th>loudness</th>\n",
       "      <th>speechiness</th>\n",
       "      <th>acousticness</th>\n",
       "      <th>instrumentalness</th>\n",
       "      <th>liveness</th>\n",
       "      <th>valence</th>\n",
       "      <th>tempo</th>\n",
       "      <th>duration_ms</th>\n",
       "    </tr>\n",
       "  </thead>\n",
       "  <tbody>\n",
       "    <tr>\n",
       "      <th>0</th>\n",
       "      <td>1.071173</td>\n",
       "      <td>-0.274887</td>\n",
       "      <td>0.567906</td>\n",
       "      <td>0.818537</td>\n",
       "      <td>-1.020475</td>\n",
       "      <td>-0.293849</td>\n",
       "      <td>0.125153</td>\n",
       "      <td>-1.150225</td>\n",
       "      <td>-1.737241</td>\n",
       "      <td>1.978513</td>\n",
       "    </tr>\n",
       "  </tbody>\n",
       "</table>\n",
       "</div>"
      ],
      "text/plain": [
       "   danceability    energy  loudness  speechiness  acousticness  \\\n",
       "0      1.071173 -0.274887  0.567906     0.818537     -1.020475   \n",
       "\n",
       "   instrumentalness  liveness   valence     tempo  duration_ms  \n",
       "0         -0.293849  0.125153 -1.150225 -1.737241     1.978513  "
      ]
     },
     "execution_count": 22,
     "metadata": {},
     "output_type": "execute_result"
    }
   ],
   "source": [
    "scaler = load(\"scaler_tommella.pickle\")\n",
    "\n",
    "x = scaler.transform(features)\n",
    "x = np.array(x)\n",
    "x = pd.DataFrame(x, columns = features.columns)\n",
    "\n",
    "x"
   ]
  },
  {
   "cell_type": "code",
   "execution_count": 23,
   "id": "35ce5369",
   "metadata": {},
   "outputs": [
    {
     "data": {
      "text/plain": [
       "2    1\n",
       "dtype: int64"
      ]
     },
     "execution_count": 23,
     "metadata": {},
     "output_type": "execute_result"
    }
   ],
   "source": [
    "kmeans = load(\"kmeans_tommella.pickle\")\n",
    "clusters = kmeans.predict(x)\n"
   ]
  },
  {
   "cell_type": "code",
   "execution_count": 33,
   "id": "8ab0a0be",
   "metadata": {},
   "outputs": [],
   "source": [
    "song_database = pd.read_csv(\"song_db_tommella.csv\")\n",
    "song_database = song_database.iloc[:, 1:]"
   ]
  },
  {
   "cell_type": "code",
   "execution_count": 49,
   "id": "01254f91",
   "metadata": {},
   "outputs": [
    {
     "data": {
      "text/plain": [
       "0      13\n",
       "1      13\n",
       "2       8\n",
       "3      13\n",
       "4      13\n",
       "       ..\n",
       "486    13\n",
       "487     8\n",
       "488    13\n",
       "489    13\n",
       "490    13\n",
       "Length: 491, dtype: int32"
      ]
     },
     "execution_count": 49,
     "metadata": {},
     "output_type": "execute_result"
    }
   ],
   "source": [
    "song_database = scaler.transform(song_database)\n",
    "cluster_db = pd.Series(kmeans.predict(song_database))\n",
    "cluster_db"
   ]
  },
  {
   "cell_type": "code",
   "execution_count": 50,
   "id": "3bd2c4e6",
   "metadata": {},
   "outputs": [
    {
     "ename": "IndexError",
     "evalue": "only integers, slices (`:`), ellipsis (`...`), numpy.newaxis (`None`) and integer or boolean arrays are valid indices",
     "output_type": "error",
     "traceback": [
      "\u001b[1;31m---------------------------------------------------------------------------\u001b[0m",
      "\u001b[1;31mIndexError\u001b[0m                                Traceback (most recent call last)",
      "Input \u001b[1;32mIn [50]\u001b[0m, in \u001b[0;36m<cell line: 2>\u001b[1;34m()\u001b[0m\n\u001b[0;32m      1\u001b[0m \u001b[38;5;28mlen\u001b[39m(cluster_db)\n\u001b[1;32m----> 2\u001b[0m song_database[\u001b[38;5;124m\"\u001b[39m\u001b[38;5;124mcluster\u001b[39m\u001b[38;5;124m\"\u001b[39m] \u001b[38;5;241m=\u001b[39m cluster_db\n",
      "\u001b[1;31mIndexError\u001b[0m: only integers, slices (`:`), ellipsis (`...`), numpy.newaxis (`None`) and integer or boolean arrays are valid indices"
     ]
    }
   ],
   "source": [
    "len(cluster_db)\n",
    "song_database[\"cluster\"] = cluster_db"
   ]
  },
  {
   "cell_type": "code",
   "execution_count": null,
   "id": "ad0fdd05",
   "metadata": {},
   "outputs": [],
   "source": []
  },
  {
   "cell_type": "code",
   "execution_count": 24,
   "id": "6a3f1047",
   "metadata": {
    "scrolled": false
   },
   "outputs": [],
   "source": [
    "track = sp.search(q=\"Money\", type=\"track\", limit=10)\n"
   ]
  },
  {
   "cell_type": "code",
   "execution_count": null,
   "id": "45a549c3",
   "metadata": {},
   "outputs": [],
   "source": []
  }
 ],
 "metadata": {
  "kernelspec": {
   "display_name": "Python 3 (ipykernel)",
   "language": "python",
   "name": "python3"
  },
  "language_info": {
   "codemirror_mode": {
    "name": "ipython",
    "version": 3
   },
   "file_extension": ".py",
   "mimetype": "text/x-python",
   "name": "python",
   "nbconvert_exporter": "python",
   "pygments_lexer": "ipython3",
   "version": "3.9.12"
  }
 },
 "nbformat": 4,
 "nbformat_minor": 5
}
