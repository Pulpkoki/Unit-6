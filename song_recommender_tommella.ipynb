{
 "cells": [
  {
   "cell_type": "markdown",
   "id": "984a174f",
   "metadata": {},
   "source": [
    "# SONG RECOMMENDER"
   ]
  },
  {
   "cell_type": "code",
   "execution_count": 5,
   "id": "43d462de",
   "metadata": {},
   "outputs": [],
   "source": [
    "import pickle\n",
    "import spotipy as sp\n",
    "import json\n",
    "from spotipy.oauth2 import SpotifyClientCredentials\n",
    "import pandas as pd"
   ]
  },
  {
   "cell_type": "code",
   "execution_count": 74,
   "id": "1ad9053e",
   "metadata": {},
   "outputs": [],
   "source": [
    "### SAVE MODEL AND SCALER\n",
    "import pickle\n",
    "\n",
    "def load(filename = \"filename.pickle\"): \n",
    "    try: \n",
    "        with open(filename, \"rb\") as f: \n",
    "            return pickle.load(f) \n",
    "\n",
    "    except FileNotFoundError: \n",
    "        print(\"File not found!\") \n"
   ]
  },
  {
   "cell_type": "code",
   "execution_count": 75,
   "id": "61f6dedb",
   "metadata": {},
   "outputs": [],
   "source": [
    "## example (rolling stones top 500)\n",
    "#Initialize SpotiPy with user credentias\n",
    "import config\n",
    "sp = spotipy.Spotify(auth_manager=SpotifyClientCredentials(client_id= config.client_id,\n",
    "                                                           client_secret= config.client_secret))\n"
   ]
  },
  {
   "cell_type": "code",
   "execution_count": 76,
   "id": "371ddb2b",
   "metadata": {},
   "outputs": [
    {
     "data": {
      "text/html": [
       "<div>\n",
       "<style scoped>\n",
       "    .dataframe tbody tr th:only-of-type {\n",
       "        vertical-align: middle;\n",
       "    }\n",
       "\n",
       "    .dataframe tbody tr th {\n",
       "        vertical-align: top;\n",
       "    }\n",
       "\n",
       "    .dataframe thead th {\n",
       "        text-align: right;\n",
       "    }\n",
       "</style>\n",
       "<table border=\"1\" class=\"dataframe\">\n",
       "  <thead>\n",
       "    <tr style=\"text-align: right;\">\n",
       "      <th></th>\n",
       "      <th>danceability</th>\n",
       "      <th>energy</th>\n",
       "      <th>loudness</th>\n",
       "      <th>speechiness</th>\n",
       "      <th>acousticness</th>\n",
       "      <th>instrumentalness</th>\n",
       "      <th>liveness</th>\n",
       "      <th>valence</th>\n",
       "      <th>tempo</th>\n",
       "      <th>duration_ms</th>\n",
       "    </tr>\n",
       "  </thead>\n",
       "  <tbody>\n",
       "    <tr>\n",
       "      <th>0</th>\n",
       "      <td>0.716</td>\n",
       "      <td>0.531</td>\n",
       "      <td>-7.355</td>\n",
       "      <td>0.122</td>\n",
       "      <td>0.0703</td>\n",
       "      <td>0</td>\n",
       "      <td>0.224</td>\n",
       "      <td>0.344</td>\n",
       "      <td>71.994</td>\n",
       "      <td>386907</td>\n",
       "    </tr>\n",
       "  </tbody>\n",
       "</table>\n",
       "</div>"
      ],
      "text/plain": [
       "   danceability  energy  loudness  speechiness  acousticness  \\\n",
       "0         0.716   0.531    -7.355        0.122        0.0703   \n",
       "\n",
       "   instrumentalness  liveness  valence   tempo  duration_ms  \n",
       "0                 0     0.224    0.344  71.994       386907  "
      ]
     },
     "execution_count": 76,
     "metadata": {},
     "output_type": "execute_result"
    }
   ],
   "source": [
    "import numpy as np \n",
    "track = sp.search(q=\"Money\", type=\"track\", limit=10)\n",
    "features = pd.DataFrame(sp.audio_features(track[\"tracks\"][\"items\"][0][\"id\"]))\n",
    "features = features[['danceability', 'energy', 'loudness', 'speechiness', 'acousticness', \n",
    "        'instrumentalness', 'liveness', 'valence', 'tempo', 'duration_ms']]\n",
    "\n",
    "features"
   ]
  },
  {
   "cell_type": "code",
   "execution_count": 80,
   "id": "29c4773f",
   "metadata": {},
   "outputs": [
    {
     "name": "stderr",
     "output_type": "stream",
     "text": [
      "C:\\Users\\tomma\\anaconda3\\envs\\da\\lib\\site-packages\\sklearn\\utils\\extmath.py:847: RuntimeWarning: invalid value encountered in true_divide\n",
      "  updated_mean = (last_sum + new_sum) / updated_sample_count\n",
      "C:\\Users\\tomma\\anaconda3\\envs\\da\\lib\\site-packages\\sklearn\\utils\\extmath.py:689: RuntimeWarning: Degrees of freedom <= 0 for slice.\n",
      "  result = op(x, *args, **kwargs)\n"
     ]
    },
    {
     "data": {
      "text/html": [
       "<div>\n",
       "<style scoped>\n",
       "    .dataframe tbody tr th:only-of-type {\n",
       "        vertical-align: middle;\n",
       "    }\n",
       "\n",
       "    .dataframe tbody tr th {\n",
       "        vertical-align: top;\n",
       "    }\n",
       "\n",
       "    .dataframe thead th {\n",
       "        text-align: right;\n",
       "    }\n",
       "</style>\n",
       "<table border=\"1\" class=\"dataframe\">\n",
       "  <thead>\n",
       "    <tr style=\"text-align: right;\">\n",
       "      <th></th>\n",
       "      <th>danceability</th>\n",
       "      <th>energy</th>\n",
       "      <th>loudness</th>\n",
       "      <th>speechiness</th>\n",
       "      <th>acousticness</th>\n",
       "      <th>instrumentalness</th>\n",
       "      <th>liveness</th>\n",
       "      <th>valence</th>\n",
       "      <th>tempo</th>\n",
       "      <th>duration_ms</th>\n",
       "    </tr>\n",
       "  </thead>\n",
       "  <tbody>\n",
       "    <tr>\n",
       "      <th>0</th>\n",
       "      <td>NaN</td>\n",
       "      <td>NaN</td>\n",
       "      <td>NaN</td>\n",
       "      <td>NaN</td>\n",
       "      <td>NaN</td>\n",
       "      <td>NaN</td>\n",
       "      <td>NaN</td>\n",
       "      <td>NaN</td>\n",
       "      <td>NaN</td>\n",
       "      <td>NaN</td>\n",
       "    </tr>\n",
       "  </tbody>\n",
       "</table>\n",
       "</div>"
      ],
      "text/plain": [
       "   danceability  energy  loudness  speechiness  acousticness  \\\n",
       "0           NaN     NaN       NaN          NaN           NaN   \n",
       "\n",
       "   instrumentalness  liveness  valence  tempo  duration_ms  \n",
       "0               NaN       NaN      NaN    NaN          NaN  "
      ]
     },
     "execution_count": 80,
     "metadata": {},
     "output_type": "execute_result"
    }
   ],
   "source": [
    "scaler = load(\"scaler_tommella.pickle\")\n",
    "scaler.fit(features)\n",
    "\n",
    "x = scaler.transform(features)\n",
    "x = pd.DataFrame(x, columns = features.columns)\n",
    "\n",
    "x"
   ]
  },
  {
   "cell_type": "code",
   "execution_count": null,
   "id": "35ce5369",
   "metadata": {},
   "outputs": [],
   "source": []
  },
  {
   "cell_type": "code",
   "execution_count": 68,
   "id": "297b1636",
   "metadata": {},
   "outputs": [],
   "source": [
    "rand_int2 = np.random.randint(10,90,(4,10)) # random numpy array of shape (4,5)\n",
    "\n",
    "scaler = load(\"scaler_tommella.pickle\")\n",
    "scaler.fit(features)\n",
    "\n",
    "x = scaler.transform(rand_int2)\n",
    "x"
   ]
  },
  {
   "cell_type": "code",
   "execution_count": null,
   "id": "6a3f1047",
   "metadata": {},
   "outputs": [],
   "source": []
  }
 ],
 "metadata": {
  "kernelspec": {
   "display_name": "Python 3 (ipykernel)",
   "language": "python",
   "name": "python3"
  },
  "language_info": {
   "codemirror_mode": {
    "name": "ipython",
    "version": 3
   },
   "file_extension": ".py",
   "mimetype": "text/x-python",
   "name": "python",
   "nbconvert_exporter": "python",
   "pygments_lexer": "ipython3",
   "version": "3.9.12"
  }
 },
 "nbformat": 4,
 "nbformat_minor": 5
}
