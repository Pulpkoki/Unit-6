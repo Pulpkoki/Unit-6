{
 "cells": [
  {
   "cell_type": "markdown",
   "id": "36a98727",
   "metadata": {},
   "source": [
    "# Create a function to scrape the Billboards 100 HOT songs and create a local dataframe of songs with them including:\n",
    "Song’s name\n",
    "Song’s artist"
   ]
  },
  {
   "cell_type": "code",
   "execution_count": 1,
   "id": "f06f1c00",
   "metadata": {},
   "outputs": [],
   "source": [
    "import requests\n",
    "from bs4 import BeautifulSoup"
   ]
  },
  {
   "cell_type": "code",
   "execution_count": 2,
   "id": "29d13b7d",
   "metadata": {},
   "outputs": [],
   "source": [
    "url = \"https://www.billboard.com/charts/hot-100/\""
   ]
  },
  {
   "cell_type": "code",
   "execution_count": 3,
   "id": "82ac3941",
   "metadata": {},
   "outputs": [
    {
     "data": {
      "text/plain": [
       "<Response [200]>"
      ]
     },
     "execution_count": 3,
     "metadata": {},
     "output_type": "execute_result"
    }
   ],
   "source": [
    "#check if the request is working fine\n",
    "response = requests.get(url)\n",
    "response"
   ]
  },
  {
   "cell_type": "code",
   "execution_count": 4,
   "id": "c97b17bf",
   "metadata": {},
   "outputs": [
    {
     "data": {
      "text/plain": [
       "<Response [200]>"
      ]
     },
     "execution_count": 4,
     "metadata": {},
     "output_type": "execute_result"
    }
   ],
   "source": [
    "response"
   ]
  },
  {
   "cell_type": "code",
   "execution_count": 5,
   "id": "5279d5e7",
   "metadata": {},
   "outputs": [
    {
     "data": {
      "text/plain": [
       "200"
      ]
     },
     "execution_count": 5,
     "metadata": {},
     "output_type": "execute_result"
    }
   ],
   "source": [
    "response.status_code"
   ]
  },
  {
   "cell_type": "code",
   "execution_count": 6,
   "id": "2336e51b",
   "metadata": {},
   "outputs": [],
   "source": [
    "#parse html (create the 'soup')\n",
    "soup = BeautifulSoup(response.content, \"html.parser\")\n",
    "#check that the html code looks like it should\n",
    "#soup"
   ]
  },
  {
   "cell_type": "code",
   "execution_count": 7,
   "id": "ad5f5a72",
   "metadata": {},
   "outputs": [
    {
     "data": {
      "text/plain": [
       "'Billboard Hot 100 – Billboard'"
      ]
     },
     "execution_count": 7,
     "metadata": {},
     "output_type": "execute_result"
    }
   ],
   "source": [
    "#get title\n",
    "soup.title.get_text() "
   ]
  },
  {
   "cell_type": "code",
   "execution_count": 8,
   "id": "95810a76",
   "metadata": {},
   "outputs": [],
   "source": [
    "#soup.find_all(\"p\")"
   ]
  },
  {
   "cell_type": "code",
   "execution_count": 9,
   "id": "782f5ac2",
   "metadata": {},
   "outputs": [],
   "source": [
    " #soup.select(\".c-title.a-no-trucate\")"
   ]
  },
  {
   "cell_type": "code",
   "execution_count": 10,
   "id": "c308e15e",
   "metadata": {},
   "outputs": [
    {
     "name": "stdout",
     "output_type": "stream",
     "text": [
      "As It Was\n"
     ]
    }
   ],
   "source": [
    "#take the class with \".\"\n",
    "#get only the title name\n",
    "lista = soup.select(\".c-title.a-no-trucate\")\n",
    "lista \n",
    "print(lista[0].get_text(strip=True))"
   ]
  },
  {
   "cell_type": "code",
   "execution_count": 11,
   "id": "cbdaf680",
   "metadata": {},
   "outputs": [],
   "source": [
    "#lista"
   ]
  },
  {
   "cell_type": "code",
   "execution_count": 12,
   "id": "71735731",
   "metadata": {},
   "outputs": [
    {
     "name": "stdout",
     "output_type": "stream",
     "text": [
      "['As It Was', 'First Class', 'About Damn Time', 'Wait For U', 'Jimmy Cooks', 'Running Up That Hill (A Deal With God)', 'Break My Soul', 'Me Porto Bonito', 'Heat Waves', 'Glimpse Of Us', 'Big Energy', 'Titi Me Pregunto', 'The Kind Of Love We Make', 'Wasted On You', 'Stay', 'I Like You (A Happier Song)', 'Sticky', 'Late Night Talking', 'Numb Little Bug', 'Boyfriend', 'Ghost', 'Left And Right', 'Get Into It (Yuh)', 'Sunroof', 'Bad Habits', 'Moscow Mule', 'Enemy', 'Cold Heart (PNAU Remix)', 'Woman', 'Shivers', 'Like I Love Country Music', 'Provenza', 'Super Gremlin', 'Vegas', 'Take My Name', 'You Proof', 'Thats What I Want', 'She Had Me At Heads Carolina', 'Something In The Orange', 'Efecto', 'Sweetest Pie', 'Damn Strait', 'Trouble With A Heartbreak', 'Massive', 'Thousand Miles', 'Fall In Love', 'Bam Bam', 'Despues de La Playa', 'Party', '2step', 'In A Minute', 'MAMIII', 'Ojitos Lindos', 'Hold My Hand', 'Puffin On Zootiez', 'Cooped Up', 'Sleazy Flow', 'What Happened To Virgil', \"When You're Gone\", 'Carolina', 'Rock And A Hard Place', \"I Ain't Worried\", '5 Foot 9', 'Falling Back', 'Silent Hill', 'Tomorrow Me', 'Late To Da Party (F*CK BET)', 'Tarot', 'To The Moon!', 'Flower Shops', 'Ghost Story', 'From The D 2 The LBC', 'Hotel Lobby (Unc And Phew)', 'Last Night Lonely', 'Te Felicito', 'Call Me Everyday', '7500 OBO', 'Psychic', 'WE (Warm Embrace)', 'Thought You Should Know', 'Cash In Cash Out', 'U-Digg', 'Circles Around This Town', 'Un Ratito', 'Love Me More', 'So Good', 'New Truck', \"F.N.F. (Let's Go)\", 'Wild As Her', 'Right On', 'Burglars & Murderers', 'Addicted', 'She Likes It', 'Texts Go Green', 'Did Shit To Me', 'Music For A Sushi Restaurant', 'Desesperados', 'Possessive', 'Die Young', 'Plan B']\n"
     ]
    }
   ],
   "source": [
    "#put them in a list\n",
    "lista_song = []\n",
    "for i in lista:\n",
    "    lista_song.append(i.get_text(strip=True))\n",
    "print(lista_song)"
   ]
  },
  {
   "cell_type": "code",
   "execution_count": 13,
   "id": "f4ec710b",
   "metadata": {},
   "outputs": [
    {
     "data": {
      "text/plain": [
       "<h3 class=\"c-title a-no-trucate a-font-primary-bold-s u-letter-spacing-0021 u-font-size-23@tablet lrv-u-font-size-16 u-line-height-125 u-line-height-normal@mobile-max a-truncate-ellipsis u-max-width-245 u-max-width-230@tablet-only u-letter-spacing-0028@tablet\" id=\"title-of-a-story\">\n",
       "\n",
       "\t\n",
       "\t\n",
       "\t\t\n",
       "\t\t\t\t\tAs It Was\t\t\n",
       "\t\n",
       "</h3>"
      ]
     },
     "execution_count": 13,
     "metadata": {},
     "output_type": "execute_result"
    }
   ],
   "source": [
    "lista[0]"
   ]
  },
  {
   "cell_type": "code",
   "execution_count": 14,
   "id": "8ad1d194",
   "metadata": {},
   "outputs": [
    {
     "name": "stdout",
     "output_type": "stream",
     "text": [
      "Harry Styles\n"
     ]
    }
   ],
   "source": [
    "lista2 = soup.select(\".c-label.a-no-trucate\")\n",
    "lista2\n",
    "print(lista2[0].get_text(strip=True))"
   ]
  },
  {
   "cell_type": "code",
   "execution_count": 15,
   "id": "96102ae7",
   "metadata": {},
   "outputs": [
    {
     "name": "stdout",
     "output_type": "stream",
     "text": [
      "Harry Styles\n",
      "Jack Harlow\n",
      "Lizzo\n",
      "Future Featuring Drake & Tems\n",
      "Drake Featuring 21 Savage\n",
      "Kate Bush\n",
      "Beyonce\n",
      "Bad Bunny & Chencho Corleone\n",
      "Glass Animals\n",
      "Joji\n",
      "Latto\n",
      "Bad Bunny\n",
      "Luke Combs\n",
      "Morgan Wallen\n",
      "The Kid LAROI & Justin Bieber\n",
      "Post Malone Featuring Doja Cat\n",
      "Drake\n",
      "Harry Styles\n",
      "Em Beihold\n",
      "Dove Cameron\n",
      "Justin Bieber\n",
      "Charlie Puth & Jung Kook\n",
      "Doja Cat\n",
      "Nicky Youre & dazy\n",
      "Ed Sheeran\n",
      "Bad Bunny\n",
      "Imagine Dragons X JID\n",
      "Elton John & Dua Lipa\n",
      "Doja Cat\n",
      "Ed Sheeran\n",
      "Kane Brown\n",
      "Karol G\n",
      "Kodak Black\n",
      "Doja Cat\n",
      "Parmalee\n",
      "Morgan Wallen\n",
      "Lil Nas X\n",
      "Cole Swindell\n",
      "Zach Bryan\n",
      "Bad Bunny\n",
      "Megan Thee Stallion & Dua Lipa\n",
      "Scotty McCreery\n",
      "Jason Aldean\n",
      "Drake\n",
      "The Kid LAROI\n",
      "Bailey Zimmerman\n",
      "Camila Cabello Featuring Ed Sheeran\n",
      "Bad Bunny\n",
      "Bad Bunny & Rauw Alejandro\n",
      "Ed Sheeran Featuring Lil Baby\n",
      "Lil Baby\n",
      "Becky G X Karol G\n",
      "Bad Bunny & Bomba Estereo\n",
      "Lady Gaga\n",
      "Future\n",
      "Post Malone Featuring Roddy Ricch\n",
      "SleazyWorld Go Featuring Lil Baby\n",
      "Lil Durk Featuring Gunna\n",
      "Shawn Mendes\n",
      "Taylor Swift\n",
      "Bailey Zimmerman\n",
      "OneRepublic\n",
      "Tyler Hubbard\n",
      "Drake\n",
      "Kendrick Lamar & Kodak Black\n",
      "Luke Combs\n",
      "Lil Nas X & Youngboy Never Broke Again\n",
      "Bad Bunny & Jhay Cortez\n",
      "JNR CHOI & Sam Tompkins\n",
      "ERNEST Featuring Morgan Wallen\n",
      "Carrie Underwood\n",
      "Eminem & Snoop Dogg\n",
      "Quavo & Takeoff\n",
      "Jon Pardi\n",
      "Shakira & Rauw Alejandro\n",
      "Chris Brown Featuring WizKid\n",
      "Tim McGraw\n",
      "Chris Brown Featuring Jack Harlow\n",
      "Chris Brown\n",
      "Morgan Wallen\n",
      "Pharrell Williams Featuring 21 Savage & Tyler, The Creator\n",
      "Lil Baby, 42 Dugg & Veeze\n",
      "Maren Morris\n",
      "Bad Bunny\n",
      "Sam Smith\n",
      "Halsey\n",
      "Dylan Scott\n",
      "Hitkidd & Glorilla\n",
      "Corey Kent\n",
      "Lil Baby\n",
      "Lil Durk Featuring EST Gee\n",
      "Chris Brown Featuring Lil Baby\n",
      "Russell Dickerson & Jake Scott\n",
      "Drake\n",
      "Lil Durk Featuring Doodie Lo\n",
      "Harry Styles\n",
      "Rauw Alejandro & Chencho Corleone\n",
      "Chris Brown Featuring Lil Wayne & BLEU\n",
      "Sleepy Hallow Featuring 347aidan\n",
      "Megan Thee Stallion\n"
     ]
    }
   ],
   "source": [
    "#create a loop to get all artists' names\n",
    "for i in range(0,100):\n",
    "    artist = soup.select(\".c-label.a-no-trucate\")[i].get_text(strip=True)\n",
    "    print(artist)"
   ]
  },
  {
   "cell_type": "code",
   "execution_count": 16,
   "id": "0d2c9cce",
   "metadata": {},
   "outputs": [
    {
     "name": "stdout",
     "output_type": "stream",
     "text": [
      "['Harry Styles', 'Jack Harlow', 'Lizzo', 'Future Featuring Drake & Tems', 'Drake Featuring 21 Savage', 'Kate Bush', 'Beyonce', 'Bad Bunny & Chencho Corleone', 'Glass Animals', 'Joji', 'Latto', 'Bad Bunny', 'Luke Combs', 'Morgan Wallen', 'The Kid LAROI & Justin Bieber', 'Post Malone Featuring Doja Cat', 'Drake', 'Harry Styles', 'Em Beihold', 'Dove Cameron', 'Justin Bieber', 'Charlie Puth & Jung Kook', 'Doja Cat', 'Nicky Youre & dazy', 'Ed Sheeran', 'Bad Bunny', 'Imagine Dragons X JID', 'Elton John & Dua Lipa', 'Doja Cat', 'Ed Sheeran', 'Kane Brown', 'Karol G', 'Kodak Black', 'Doja Cat', 'Parmalee', 'Morgan Wallen', 'Lil Nas X', 'Cole Swindell', 'Zach Bryan', 'Bad Bunny', 'Megan Thee Stallion & Dua Lipa', 'Scotty McCreery', 'Jason Aldean', 'Drake', 'The Kid LAROI', 'Bailey Zimmerman', 'Camila Cabello Featuring Ed Sheeran', 'Bad Bunny', 'Bad Bunny & Rauw Alejandro', 'Ed Sheeran Featuring Lil Baby', 'Lil Baby', 'Becky G X Karol G', 'Bad Bunny & Bomba Estereo', 'Lady Gaga', 'Future', 'Post Malone Featuring Roddy Ricch', 'SleazyWorld Go Featuring Lil Baby', 'Lil Durk Featuring Gunna', 'Shawn Mendes', 'Taylor Swift', 'Bailey Zimmerman', 'OneRepublic', 'Tyler Hubbard', 'Drake', 'Kendrick Lamar & Kodak Black', 'Luke Combs', 'Lil Nas X & Youngboy Never Broke Again', 'Bad Bunny & Jhay Cortez', 'JNR CHOI & Sam Tompkins', 'ERNEST Featuring Morgan Wallen', 'Carrie Underwood', 'Eminem & Snoop Dogg', 'Quavo & Takeoff', 'Jon Pardi', 'Shakira & Rauw Alejandro', 'Chris Brown Featuring WizKid', 'Tim McGraw', 'Chris Brown Featuring Jack Harlow', 'Chris Brown', 'Morgan Wallen', 'Pharrell Williams Featuring 21 Savage & Tyler, The Creator', 'Lil Baby, 42 Dugg & Veeze', 'Maren Morris', 'Bad Bunny', 'Sam Smith', 'Halsey', 'Dylan Scott', 'Hitkidd & Glorilla', 'Corey Kent', 'Lil Baby', 'Lil Durk Featuring EST Gee', 'Chris Brown Featuring Lil Baby', 'Russell Dickerson & Jake Scott', 'Drake', 'Lil Durk Featuring Doodie Lo', 'Harry Styles', 'Rauw Alejandro & Chencho Corleone', 'Chris Brown Featuring Lil Wayne & BLEU', 'Sleepy Hallow Featuring 347aidan', 'Megan Thee Stallion']\n"
     ]
    }
   ],
   "source": [
    "#put them in a list\n",
    "lista_artist = []\n",
    "for i in lista2:\n",
    "    lista_artist.append(i.get_text(strip=True))\n",
    "print(lista_artist)"
   ]
  },
  {
   "cell_type": "code",
   "execution_count": 17,
   "id": "0e11e5f9",
   "metadata": {},
   "outputs": [
    {
     "data": {
      "text/plain": [
       "<zip at 0x7fc1d8486e00>"
      ]
     },
     "execution_count": 17,
     "metadata": {},
     "output_type": "execute_result"
    }
   ],
   "source": [
    "#create a dataframe\n",
    "import pandas as pd\n",
    "liste = zip(lista_song, lista_artist)\n",
    "liste"
   ]
  },
  {
   "cell_type": "code",
   "execution_count": 18,
   "id": "e30efe98",
   "metadata": {},
   "outputs": [
    {
     "name": "stdout",
     "output_type": "stream",
     "text": [
      "                           Title                                  Artist\n",
      "0                      As It Was                            Harry Styles\n",
      "1                    First Class                             Jack Harlow\n",
      "2                About Damn Time                                   Lizzo\n",
      "3                     Wait For U           Future Featuring Drake & Tems\n",
      "4                    Jimmy Cooks               Drake Featuring 21 Savage\n",
      "..                           ...                                     ...\n",
      "95  Music For A Sushi Restaurant                            Harry Styles\n",
      "96                  Desesperados       Rauw Alejandro & Chencho Corleone\n",
      "97                    Possessive  Chris Brown Featuring Lil Wayne & BLEU\n",
      "98                     Die Young        Sleepy Hallow Featuring 347aidan\n",
      "99                        Plan B                     Megan Thee Stallion\n",
      "\n",
      "[100 rows x 2 columns]\n"
     ]
    }
   ],
   "source": [
    "df = pd.DataFrame (liste, columns = ['Title', 'Artist'])\n",
    "print (df)"
   ]
  },
  {
   "cell_type": "code",
   "execution_count": 19,
   "id": "34e5f10f",
   "metadata": {},
   "outputs": [
    {
     "ename": "ValueError",
     "evalue": "Length mismatch: Expected axis has 0 elements, new values have 2 elements",
     "output_type": "error",
     "traceback": [
      "\u001b[0;31m---------------------------------------------------------------------------\u001b[0m",
      "\u001b[0;31mValueError\u001b[0m                                Traceback (most recent call last)",
      "Input \u001b[0;32mIn [19]\u001b[0m, in \u001b[0;36m<cell line: 2>\u001b[0;34m()\u001b[0m\n\u001b[1;32m      1\u001b[0m df \u001b[38;5;241m=\u001b[39m pd\u001b[38;5;241m.\u001b[39mDataFrame(liste)\u001b[38;5;241m.\u001b[39mT\n\u001b[0;32m----> 2\u001b[0m df\u001b[38;5;241m.\u001b[39mcolumns \u001b[38;5;241m=\u001b[39m [\u001b[38;5;124m'\u001b[39m\u001b[38;5;124mTitle\u001b[39m\u001b[38;5;124m'\u001b[39m, \u001b[38;5;124m'\u001b[39m\u001b[38;5;124mArtist\u001b[39m\u001b[38;5;124m'\u001b[39m]\n\u001b[1;32m      3\u001b[0m \u001b[38;5;28mprint\u001b[39m (df)\n",
      "File \u001b[0;32m/opt/anaconda3/envs/DA_env/lib/python3.9/site-packages/pandas/core/generic.py:5588\u001b[0m, in \u001b[0;36mNDFrame.__setattr__\u001b[0;34m(self, name, value)\u001b[0m\n\u001b[1;32m   5586\u001b[0m \u001b[38;5;28;01mtry\u001b[39;00m:\n\u001b[1;32m   5587\u001b[0m     \u001b[38;5;28mobject\u001b[39m\u001b[38;5;241m.\u001b[39m\u001b[38;5;21m__getattribute__\u001b[39m(\u001b[38;5;28mself\u001b[39m, name)\n\u001b[0;32m-> 5588\u001b[0m     \u001b[38;5;28;01mreturn\u001b[39;00m \u001b[38;5;28;43mobject\u001b[39;49m\u001b[38;5;241;43m.\u001b[39;49m\u001b[38;5;21;43m__setattr__\u001b[39;49m\u001b[43m(\u001b[49m\u001b[38;5;28;43mself\u001b[39;49m\u001b[43m,\u001b[49m\u001b[43m \u001b[49m\u001b[43mname\u001b[49m\u001b[43m,\u001b[49m\u001b[43m \u001b[49m\u001b[43mvalue\u001b[49m\u001b[43m)\u001b[49m\n\u001b[1;32m   5589\u001b[0m \u001b[38;5;28;01mexcept\u001b[39;00m \u001b[38;5;167;01mAttributeError\u001b[39;00m:\n\u001b[1;32m   5590\u001b[0m     \u001b[38;5;28;01mpass\u001b[39;00m\n",
      "File \u001b[0;32m/opt/anaconda3/envs/DA_env/lib/python3.9/site-packages/pandas/_libs/properties.pyx:70\u001b[0m, in \u001b[0;36mpandas._libs.properties.AxisProperty.__set__\u001b[0;34m()\u001b[0m\n",
      "File \u001b[0;32m/opt/anaconda3/envs/DA_env/lib/python3.9/site-packages/pandas/core/generic.py:769\u001b[0m, in \u001b[0;36mNDFrame._set_axis\u001b[0;34m(self, axis, labels)\u001b[0m\n\u001b[1;32m    767\u001b[0m \u001b[38;5;28;01mdef\u001b[39;00m \u001b[38;5;21m_set_axis\u001b[39m(\u001b[38;5;28mself\u001b[39m, axis: \u001b[38;5;28mint\u001b[39m, labels: Index) \u001b[38;5;241m-\u001b[39m\u001b[38;5;241m>\u001b[39m \u001b[38;5;28;01mNone\u001b[39;00m:\n\u001b[1;32m    768\u001b[0m     labels \u001b[38;5;241m=\u001b[39m ensure_index(labels)\n\u001b[0;32m--> 769\u001b[0m     \u001b[38;5;28;43mself\u001b[39;49m\u001b[38;5;241;43m.\u001b[39;49m\u001b[43m_mgr\u001b[49m\u001b[38;5;241;43m.\u001b[39;49m\u001b[43mset_axis\u001b[49m\u001b[43m(\u001b[49m\u001b[43maxis\u001b[49m\u001b[43m,\u001b[49m\u001b[43m \u001b[49m\u001b[43mlabels\u001b[49m\u001b[43m)\u001b[49m\n\u001b[1;32m    770\u001b[0m     \u001b[38;5;28mself\u001b[39m\u001b[38;5;241m.\u001b[39m_clear_item_cache()\n",
      "File \u001b[0;32m/opt/anaconda3/envs/DA_env/lib/python3.9/site-packages/pandas/core/internals/managers.py:214\u001b[0m, in \u001b[0;36mBaseBlockManager.set_axis\u001b[0;34m(self, axis, new_labels)\u001b[0m\n\u001b[1;32m    212\u001b[0m \u001b[38;5;28;01mdef\u001b[39;00m \u001b[38;5;21mset_axis\u001b[39m(\u001b[38;5;28mself\u001b[39m, axis: \u001b[38;5;28mint\u001b[39m, new_labels: Index) \u001b[38;5;241m-\u001b[39m\u001b[38;5;241m>\u001b[39m \u001b[38;5;28;01mNone\u001b[39;00m:\n\u001b[1;32m    213\u001b[0m     \u001b[38;5;66;03m# Caller is responsible for ensuring we have an Index object.\u001b[39;00m\n\u001b[0;32m--> 214\u001b[0m     \u001b[38;5;28;43mself\u001b[39;49m\u001b[38;5;241;43m.\u001b[39;49m\u001b[43m_validate_set_axis\u001b[49m\u001b[43m(\u001b[49m\u001b[43maxis\u001b[49m\u001b[43m,\u001b[49m\u001b[43m \u001b[49m\u001b[43mnew_labels\u001b[49m\u001b[43m)\u001b[49m\n\u001b[1;32m    215\u001b[0m     \u001b[38;5;28mself\u001b[39m\u001b[38;5;241m.\u001b[39maxes[axis] \u001b[38;5;241m=\u001b[39m new_labels\n",
      "File \u001b[0;32m/opt/anaconda3/envs/DA_env/lib/python3.9/site-packages/pandas/core/internals/base.py:69\u001b[0m, in \u001b[0;36mDataManager._validate_set_axis\u001b[0;34m(self, axis, new_labels)\u001b[0m\n\u001b[1;32m     66\u001b[0m     \u001b[38;5;28;01mpass\u001b[39;00m\n\u001b[1;32m     68\u001b[0m \u001b[38;5;28;01melif\u001b[39;00m new_len \u001b[38;5;241m!=\u001b[39m old_len:\n\u001b[0;32m---> 69\u001b[0m     \u001b[38;5;28;01mraise\u001b[39;00m \u001b[38;5;167;01mValueError\u001b[39;00m(\n\u001b[1;32m     70\u001b[0m         \u001b[38;5;124mf\u001b[39m\u001b[38;5;124m\"\u001b[39m\u001b[38;5;124mLength mismatch: Expected axis has \u001b[39m\u001b[38;5;132;01m{\u001b[39;00mold_len\u001b[38;5;132;01m}\u001b[39;00m\u001b[38;5;124m elements, new \u001b[39m\u001b[38;5;124m\"\u001b[39m\n\u001b[1;32m     71\u001b[0m         \u001b[38;5;124mf\u001b[39m\u001b[38;5;124m\"\u001b[39m\u001b[38;5;124mvalues have \u001b[39m\u001b[38;5;132;01m{\u001b[39;00mnew_len\u001b[38;5;132;01m}\u001b[39;00m\u001b[38;5;124m elements\u001b[39m\u001b[38;5;124m\"\u001b[39m\n\u001b[1;32m     72\u001b[0m     )\n",
      "\u001b[0;31mValueError\u001b[0m: Length mismatch: Expected axis has 0 elements, new values have 2 elements"
     ]
    }
   ],
   "source": [
    "df = pd.DataFrame(liste).T\n",
    "df.columns = ['Title', 'Artist']\n",
    "print (df)"
   ]
  },
  {
   "cell_type": "code",
   "execution_count": null,
   "id": "fdb03b1d",
   "metadata": {},
   "outputs": [],
   "source": [
    "df = pd.DataFrame(\n",
    "    {'Artist': lista_artist,\n",
    "     'Title': lista_song,\n",
    "     })\n",
    "df"
   ]
  },
  {
   "cell_type": "code",
   "execution_count": 20,
   "id": "f6e53664",
   "metadata": {},
   "outputs": [
    {
     "name": "stdout",
     "output_type": "stream",
     "text": [
      "Please enter your song: Jimmy Cooks\n"
     ]
    },
    {
     "ename": "KeyError",
     "evalue": "'Title'",
     "output_type": "error",
     "traceback": [
      "\u001b[0;31m---------------------------------------------------------------------------\u001b[0m",
      "\u001b[0;31mKeyError\u001b[0m                                  Traceback (most recent call last)",
      "File \u001b[0;32m/opt/anaconda3/envs/DA_env/lib/python3.9/site-packages/pandas/core/indexes/base.py:3621\u001b[0m, in \u001b[0;36mIndex.get_loc\u001b[0;34m(self, key, method, tolerance)\u001b[0m\n\u001b[1;32m   3620\u001b[0m \u001b[38;5;28;01mtry\u001b[39;00m:\n\u001b[0;32m-> 3621\u001b[0m     \u001b[38;5;28;01mreturn\u001b[39;00m \u001b[38;5;28;43mself\u001b[39;49m\u001b[38;5;241;43m.\u001b[39;49m\u001b[43m_engine\u001b[49m\u001b[38;5;241;43m.\u001b[39;49m\u001b[43mget_loc\u001b[49m\u001b[43m(\u001b[49m\u001b[43mcasted_key\u001b[49m\u001b[43m)\u001b[49m\n\u001b[1;32m   3622\u001b[0m \u001b[38;5;28;01mexcept\u001b[39;00m \u001b[38;5;167;01mKeyError\u001b[39;00m \u001b[38;5;28;01mas\u001b[39;00m err:\n",
      "File \u001b[0;32m/opt/anaconda3/envs/DA_env/lib/python3.9/site-packages/pandas/_libs/index.pyx:136\u001b[0m, in \u001b[0;36mpandas._libs.index.IndexEngine.get_loc\u001b[0;34m()\u001b[0m\n",
      "File \u001b[0;32m/opt/anaconda3/envs/DA_env/lib/python3.9/site-packages/pandas/_libs/index.pyx:163\u001b[0m, in \u001b[0;36mpandas._libs.index.IndexEngine.get_loc\u001b[0;34m()\u001b[0m\n",
      "File \u001b[0;32mpandas/_libs/hashtable_class_helper.pxi:5198\u001b[0m, in \u001b[0;36mpandas._libs.hashtable.PyObjectHashTable.get_item\u001b[0;34m()\u001b[0m\n",
      "File \u001b[0;32mpandas/_libs/hashtable_class_helper.pxi:5206\u001b[0m, in \u001b[0;36mpandas._libs.hashtable.PyObjectHashTable.get_item\u001b[0;34m()\u001b[0m\n",
      "\u001b[0;31mKeyError\u001b[0m: 'Title'",
      "\nThe above exception was the direct cause of the following exception:\n",
      "\u001b[0;31mKeyError\u001b[0m                                  Traceback (most recent call last)",
      "Input \u001b[0;32mIn [20]\u001b[0m, in \u001b[0;36m<cell line: 4>\u001b[0;34m()\u001b[0m\n\u001b[1;32m      1\u001b[0m \u001b[38;5;28;01mfrom\u001b[39;00m \u001b[38;5;21;01mrandom\u001b[39;00m \u001b[38;5;28;01mimport\u001b[39;00m randint\n\u001b[1;32m      2\u001b[0m select_song \u001b[38;5;241m=\u001b[39m \u001b[38;5;28minput\u001b[39m(\u001b[38;5;124m'\u001b[39m\u001b[38;5;124mPlease enter your song: \u001b[39m\u001b[38;5;124m'\u001b[39m)\n\u001b[0;32m----> 4\u001b[0m \u001b[38;5;28;01mif\u001b[39;00m select_song\u001b[38;5;241m.\u001b[39mlower() \u001b[38;5;129;01min\u001b[39;00m \u001b[38;5;28mstr\u001b[39m(\u001b[38;5;28mlist\u001b[39m(\u001b[43mdf\u001b[49m\u001b[43m[\u001b[49m\u001b[38;5;124;43m\"\u001b[39;49m\u001b[38;5;124;43mTitle\u001b[39;49m\u001b[38;5;124;43m\"\u001b[39;49m\u001b[43m]\u001b[49m))\u001b[38;5;241m.\u001b[39mlower():\n\u001b[1;32m      5\u001b[0m     r \u001b[38;5;241m=\u001b[39m randint(\u001b[38;5;241m0\u001b[39m, \u001b[38;5;28mlen\u001b[39m(df\u001b[38;5;241m.\u001b[39mindex))\n\u001b[1;32m      6\u001b[0m     \u001b[38;5;28mprint\u001b[39m(\u001b[38;5;124m\"\u001b[39m\u001b[38;5;124mOther song recommended: \u001b[39m\u001b[38;5;124m\"\u001b[39m, df\u001b[38;5;241m.\u001b[39miloc[r, \u001b[38;5;241m1\u001b[39m])\n",
      "File \u001b[0;32m/opt/anaconda3/envs/DA_env/lib/python3.9/site-packages/pandas/core/frame.py:3505\u001b[0m, in \u001b[0;36mDataFrame.__getitem__\u001b[0;34m(self, key)\u001b[0m\n\u001b[1;32m   3503\u001b[0m \u001b[38;5;28;01mif\u001b[39;00m \u001b[38;5;28mself\u001b[39m\u001b[38;5;241m.\u001b[39mcolumns\u001b[38;5;241m.\u001b[39mnlevels \u001b[38;5;241m>\u001b[39m \u001b[38;5;241m1\u001b[39m:\n\u001b[1;32m   3504\u001b[0m     \u001b[38;5;28;01mreturn\u001b[39;00m \u001b[38;5;28mself\u001b[39m\u001b[38;5;241m.\u001b[39m_getitem_multilevel(key)\n\u001b[0;32m-> 3505\u001b[0m indexer \u001b[38;5;241m=\u001b[39m \u001b[38;5;28;43mself\u001b[39;49m\u001b[38;5;241;43m.\u001b[39;49m\u001b[43mcolumns\u001b[49m\u001b[38;5;241;43m.\u001b[39;49m\u001b[43mget_loc\u001b[49m\u001b[43m(\u001b[49m\u001b[43mkey\u001b[49m\u001b[43m)\u001b[49m\n\u001b[1;32m   3506\u001b[0m \u001b[38;5;28;01mif\u001b[39;00m is_integer(indexer):\n\u001b[1;32m   3507\u001b[0m     indexer \u001b[38;5;241m=\u001b[39m [indexer]\n",
      "File \u001b[0;32m/opt/anaconda3/envs/DA_env/lib/python3.9/site-packages/pandas/core/indexes/base.py:3623\u001b[0m, in \u001b[0;36mIndex.get_loc\u001b[0;34m(self, key, method, tolerance)\u001b[0m\n\u001b[1;32m   3621\u001b[0m     \u001b[38;5;28;01mreturn\u001b[39;00m \u001b[38;5;28mself\u001b[39m\u001b[38;5;241m.\u001b[39m_engine\u001b[38;5;241m.\u001b[39mget_loc(casted_key)\n\u001b[1;32m   3622\u001b[0m \u001b[38;5;28;01mexcept\u001b[39;00m \u001b[38;5;167;01mKeyError\u001b[39;00m \u001b[38;5;28;01mas\u001b[39;00m err:\n\u001b[0;32m-> 3623\u001b[0m     \u001b[38;5;28;01mraise\u001b[39;00m \u001b[38;5;167;01mKeyError\u001b[39;00m(key) \u001b[38;5;28;01mfrom\u001b[39;00m \u001b[38;5;21;01merr\u001b[39;00m\n\u001b[1;32m   3624\u001b[0m \u001b[38;5;28;01mexcept\u001b[39;00m \u001b[38;5;167;01mTypeError\u001b[39;00m:\n\u001b[1;32m   3625\u001b[0m     \u001b[38;5;66;03m# If we have a listlike key, _check_indexing_error will raise\u001b[39;00m\n\u001b[1;32m   3626\u001b[0m     \u001b[38;5;66;03m#  InvalidIndexError. Otherwise we fall through and re-raise\u001b[39;00m\n\u001b[1;32m   3627\u001b[0m     \u001b[38;5;66;03m#  the TypeError.\u001b[39;00m\n\u001b[1;32m   3628\u001b[0m     \u001b[38;5;28mself\u001b[39m\u001b[38;5;241m.\u001b[39m_check_indexing_error(key)\n",
      "\u001b[0;31mKeyError\u001b[0m: 'Title'"
     ]
    }
   ],
   "source": [
    "from random import randint\n",
    "select_song = input('Please enter your song: ')\n",
    "\n",
    "if select_song.lower() in str(list(df[\"Title\"])).lower():\n",
    "    r = randint(0, len(df.index))\n",
    "    print(\"Other song recommended: \", df.iloc[r, 1])\n",
    "else:\n",
    "    print(\"THE SONG SELECTED IS NOT IN THE DATABASE\")\n",
    "    #print(colored(\"THE SONG SELECTED IS NOT IN THE DATABASE\"), colored('red'))"
   ]
  },
  {
   "cell_type": "code",
   "execution_count": null,
   "id": "a412d075",
   "metadata": {},
   "outputs": [],
   "source": []
  },
  {
   "cell_type": "code",
   "execution_count": null,
   "id": "655a570a",
   "metadata": {},
   "outputs": [],
   "source": []
  },
  {
   "cell_type": "code",
   "execution_count": null,
   "id": "7833ff5a",
   "metadata": {},
   "outputs": [],
   "source": []
  }
 ],
 "metadata": {
  "kernelspec": {
   "display_name": "Python 3 (ipykernel)",
   "language": "python",
   "name": "python3"
  },
  "language_info": {
   "codemirror_mode": {
    "name": "ipython",
    "version": 3
   },
   "file_extension": ".py",
   "mimetype": "text/x-python",
   "name": "python",
   "nbconvert_exporter": "python",
   "pygments_lexer": "ipython3",
   "version": "3.9.12"
  },
  "toc": {
   "base_numbering": 1,
   "nav_menu": {},
   "number_sections": true,
   "sideBar": true,
   "skip_h1_title": false,
   "title_cell": "Table of Contents",
   "title_sidebar": "Contents",
   "toc_cell": false,
   "toc_position": {},
   "toc_section_display": true,
   "toc_window_display": false
  }
 },
 "nbformat": 4,
 "nbformat_minor": 5
}
