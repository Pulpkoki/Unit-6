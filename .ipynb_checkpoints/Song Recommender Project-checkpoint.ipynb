{
 "cells": [
  {
   "cell_type": "markdown",
   "id": "36a98727",
   "metadata": {},
   "source": [
    "# Create a function to scrape the Billboards 100 HOT songs and create a local dataframe of songs with them including:\n",
    "Song’s name\n",
    "Song’s artist"
   ]
  },
  {
   "cell_type": "code",
   "execution_count": 1,
   "id": "f06f1c00",
   "metadata": {},
   "outputs": [],
   "source": [
    "import requests\n",
    "from bs4 import BeautifulSoup"
   ]
  },
  {
   "cell_type": "code",
   "execution_count": 2,
   "id": "29d13b7d",
   "metadata": {},
   "outputs": [],
   "source": [
    "url = \"https://www.billboard.com/charts/hot-100/\""
   ]
  },
  {
   "cell_type": "code",
   "execution_count": 3,
   "id": "82ac3941",
   "metadata": {},
   "outputs": [
    {
     "data": {
      "text/plain": [
       "<Response [200]>"
      ]
     },
     "execution_count": 3,
     "metadata": {},
     "output_type": "execute_result"
    }
   ],
   "source": [
    "#check if the request is working fine\n",
    "response = requests.get(url)\n",
    "response"
   ]
  },
  {
   "cell_type": "code",
   "execution_count": 4,
   "id": "c97b17bf",
   "metadata": {},
   "outputs": [
    {
     "data": {
      "text/plain": [
       "<Response [200]>"
      ]
     },
     "execution_count": 4,
     "metadata": {},
     "output_type": "execute_result"
    }
   ],
   "source": [
    "response"
   ]
  },
  {
   "cell_type": "code",
   "execution_count": 34,
   "id": "5279d5e7",
   "metadata": {},
   "outputs": [
    {
     "data": {
      "text/plain": [
       "200"
      ]
     },
     "execution_count": 34,
     "metadata": {},
     "output_type": "execute_result"
    }
   ],
   "source": [
    "response.status_code"
   ]
  },
  {
   "cell_type": "code",
   "execution_count": 40,
   "id": "2336e51b",
   "metadata": {},
   "outputs": [],
   "source": [
    "#parse html (create the 'soup')\n",
    "soup = BeautifulSoup(response.content, \"html.parser\")\n",
    "#check that the html code looks like it should\n",
    "#soup"
   ]
  },
  {
   "cell_type": "code",
   "execution_count": 7,
   "id": "ad5f5a72",
   "metadata": {},
   "outputs": [
    {
     "data": {
      "text/plain": [
       "'Billboard Hot 100 – Billboard'"
      ]
     },
     "execution_count": 7,
     "metadata": {},
     "output_type": "execute_result"
    }
   ],
   "source": [
    "#get title\n",
    "soup.title.get_text() "
   ]
  },
  {
   "cell_type": "code",
   "execution_count": 41,
   "id": "95810a76",
   "metadata": {},
   "outputs": [],
   "source": [
    "#soup.find_all(\"p\")"
   ]
  },
  {
   "cell_type": "code",
   "execution_count": 42,
   "id": "782f5ac2",
   "metadata": {},
   "outputs": [],
   "source": [
    " #soup.select(\".c-title.a-no-trucate\")"
   ]
  },
  {
   "cell_type": "code",
   "execution_count": 10,
   "id": "c308e15e",
   "metadata": {},
   "outputs": [
    {
     "name": "stdout",
     "output_type": "stream",
     "text": [
      "Jimmy Cooks\n"
     ]
    }
   ],
   "source": [
    "#take the class with \".\"\n",
    "#get only the title name\n",
    "lista = soup.select(\".c-title.a-no-trucate\")\n",
    "lista \n",
    "print(lista[0].get_text(strip=True))"
   ]
  },
  {
   "cell_type": "code",
   "execution_count": 43,
   "id": "cbdaf680",
   "metadata": {},
   "outputs": [],
   "source": [
    "#lista"
   ]
  },
  {
   "cell_type": "code",
   "execution_count": 12,
   "id": "71735731",
   "metadata": {},
   "outputs": [
    {
     "name": "stdout",
     "output_type": "stream",
     "text": [
      "['Jimmy Cooks', 'As It Was', 'First Class', 'Wait For U', 'About Damn Time', 'Sticky', 'Falling Back', 'Glimpse Of Us', 'Running Up That Hill (A Deal With God)', 'Heat Waves', 'Me Porto Bonito', 'Big Energy', 'Texts Go Green', 'Massive', 'Break My Soul', 'Titi Me Pregunto', 'Wasted On You', 'The Kind Of Love We Make', 'Stay', 'Calling My Name', 'A Keeper', 'I Like You (A Happier Song)', 'Currents', 'Late Night Talking', 'Boyfriend', 'Ghost', 'Numb Little Bug', \"Flight's Booked\", 'Bad Habits', 'Enemy', 'Get Into It (Yuh)', 'Moscow Mule', 'Sunroof', 'Woman', 'Cold Heart (PNAU Remix)', 'Bam Bam', 'Thats What I Want', 'Super Gremlin', 'Shivers', 'Provenza', 'You Proof', 'Overdrive', 'Take My Name', 'Sweetest Pie', 'Efecto', 'Like I Love Country Music', 'Liability', 'AA', 'Thousand Miles', 'Something In The Orange', 'Party', 'U-Digg', 'Despues de La Playa', 'Trouble With A Heartbreak', 'Cooped Up', '2step', 'Ojitos Lindos', 'Puffin On Zootiez', 'Damn Strait', 'Fall In Love', 'Hold My Hand', 'Down Hill', 'In A Minute', 'MAMIII', 'Sleazy Flow', 'Tie That Binds', 'Vegas', 'Yet To Come', \"When You're Gone\", 'What Happened To Virgil', 'Silent Hill', 'Rock And A Hard Place', 'Cash In Cash Out', 'To The Moon!', 'Tarot', 'She Had Me At Heads Carolina', 'She Likes It', \"I Ain't Worried\", 'Flower Shops', 'Ghost Story', 'Te Felicito', 'Hotel Lobby (Unc And Phew)', 'Music For A Sushi Restaurant', 'Un Ratito', 'Last Night Lonely', 'Thought You Should Know', 'So Good', '5 Foot 9', 'Wild As Her', 'Right On', 'Circles Around This Town', 'Tomorrow Me', '7500 OBO', 'Die Young', \"F.N.F. (Let's Go)\", 'N95', 'Love Me More', 'New Truck', \"She's All I Wanna Be\", 'Desesperados']\n"
     ]
    }
   ],
   "source": [
    "#put them in a list\n",
    "lista_song = []\n",
    "for i in lista:\n",
    "    lista_song.append(i.get_text(strip=True))\n",
    "print(lista_song)"
   ]
  },
  {
   "cell_type": "code",
   "execution_count": 13,
   "id": "f4ec710b",
   "metadata": {},
   "outputs": [
    {
     "data": {
      "text/plain": [
       "<h3 class=\"c-title a-no-trucate a-font-primary-bold-s u-letter-spacing-0021 u-font-size-23@tablet lrv-u-font-size-16 u-line-height-125 u-line-height-normal@mobile-max a-truncate-ellipsis u-max-width-245 u-max-width-230@tablet-only u-letter-spacing-0028@tablet\" id=\"title-of-a-story\">\n",
       "\n",
       "\t\n",
       "\t\n",
       "\t\t\n",
       "\t\t\t\t\tJimmy Cooks\t\t\n",
       "\t\n",
       "</h3>"
      ]
     },
     "execution_count": 13,
     "metadata": {},
     "output_type": "execute_result"
    }
   ],
   "source": [
    "lista[0]"
   ]
  },
  {
   "cell_type": "code",
   "execution_count": 14,
   "id": "8ad1d194",
   "metadata": {},
   "outputs": [
    {
     "name": "stdout",
     "output_type": "stream",
     "text": [
      "Drake Featuring 21 Savage\n"
     ]
    }
   ],
   "source": [
    "lista2 = soup.select(\".c-label.a-no-trucate\")\n",
    "lista2\n",
    "print(lista2[0].get_text(strip=True))"
   ]
  },
  {
   "cell_type": "code",
   "execution_count": 15,
   "id": "96102ae7",
   "metadata": {},
   "outputs": [
    {
     "name": "stdout",
     "output_type": "stream",
     "text": [
      "Drake Featuring 21 Savage\n",
      "Harry Styles\n",
      "Jack Harlow\n",
      "Future Featuring Drake & Tems\n",
      "Lizzo\n",
      "Drake\n",
      "Drake\n",
      "Joji\n",
      "Kate Bush\n",
      "Glass Animals\n",
      "Bad Bunny & Chencho Corleone\n",
      "Latto\n",
      "Drake\n",
      "Drake\n",
      "Beyonce\n",
      "Bad Bunny\n",
      "Morgan Wallen\n",
      "Luke Combs\n",
      "The Kid LAROI & Justin Bieber\n",
      "Drake\n",
      "Drake\n",
      "Post Malone Featuring Doja Cat\n",
      "Drake\n",
      "Harry Styles\n",
      "Dove Cameron\n",
      "Justin Bieber\n",
      "Em Beihold\n",
      "Drake\n",
      "Ed Sheeran\n",
      "Imagine Dragons X JID\n",
      "Doja Cat\n",
      "Bad Bunny\n",
      "Nicky Youre & dazy\n",
      "Doja Cat\n",
      "Elton John & Dua Lipa\n",
      "Camila Cabello Featuring Ed Sheeran\n",
      "Lil Nas X\n",
      "Kodak Black\n",
      "Ed Sheeran\n",
      "Karol G\n",
      "Morgan Wallen\n",
      "Drake\n",
      "Parmalee\n",
      "Megan Thee Stallion & Dua Lipa\n",
      "Bad Bunny\n",
      "Kane Brown\n",
      "Drake\n",
      "Walker Hayes\n",
      "The Kid LAROI\n",
      "Zach Bryan\n",
      "Bad Bunny & Rauw Alejandro\n",
      "Lil Baby, 42 Dugg & Veeze\n",
      "Bad Bunny\n",
      "Jason Aldean\n",
      "Post Malone Featuring Roddy Ricch\n",
      "Ed Sheeran Featuring Lil Baby\n",
      "Bad Bunny & Bomba Estereo\n",
      "Future\n",
      "Scotty McCreery\n",
      "Bailey Zimmerman\n",
      "Lady Gaga\n",
      "Drake\n",
      "Lil Baby\n",
      "Becky G X Karol G\n",
      "SleazyWorld Go Featuring Lil Baby\n",
      "Drake\n",
      "Doja Cat\n",
      "BTS\n",
      "Shawn Mendes\n",
      "Lil Durk Featuring Gunna\n",
      "Kendrick Lamar & Kodak Black\n",
      "Bailey Zimmerman\n",
      "Pharrell Williams Featuring 21 Savage & Tyler, The Creator\n",
      "JNR CHOI & Sam Tompkins\n",
      "Bad Bunny & Jhay Cortez\n",
      "Cole Swindell\n",
      "Russell Dickerson & Jake Scott\n",
      "OneRepublic\n",
      "ERNEST Featuring Morgan Wallen\n",
      "Carrie Underwood\n",
      "Shakira & Rauw Alejandro\n",
      "Quavo & Takeoff\n",
      "Harry Styles\n",
      "Bad Bunny\n",
      "Jon Pardi\n",
      "Morgan Wallen\n",
      "Halsey\n",
      "Tyler Hubbard\n",
      "Corey Kent\n",
      "Lil Baby\n",
      "Maren Morris\n",
      "Luke Combs\n",
      "Tim McGraw\n",
      "Sleepy Hallow Featuring 347aidan\n",
      "Hitkidd & Glorilla\n",
      "Kendrick Lamar\n",
      "Sam Smith\n",
      "Dylan Scott\n",
      "Tate McRae\n",
      "Rauw Alejandro & Chencho Corleone\n"
     ]
    }
   ],
   "source": [
    "#create a loop to get all artists' names\n",
    "for i in range(0,100):\n",
    "    artist = soup.select(\".c-label.a-no-trucate\")[i].get_text(strip=True)\n",
    "    print(artist)"
   ]
  },
  {
   "cell_type": "code",
   "execution_count": 16,
   "id": "0d2c9cce",
   "metadata": {},
   "outputs": [
    {
     "name": "stdout",
     "output_type": "stream",
     "text": [
      "['Drake Featuring 21 Savage', 'Harry Styles', 'Jack Harlow', 'Future Featuring Drake & Tems', 'Lizzo', 'Drake', 'Drake', 'Joji', 'Kate Bush', 'Glass Animals', 'Bad Bunny & Chencho Corleone', 'Latto', 'Drake', 'Drake', 'Beyonce', 'Bad Bunny', 'Morgan Wallen', 'Luke Combs', 'The Kid LAROI & Justin Bieber', 'Drake', 'Drake', 'Post Malone Featuring Doja Cat', 'Drake', 'Harry Styles', 'Dove Cameron', 'Justin Bieber', 'Em Beihold', 'Drake', 'Ed Sheeran', 'Imagine Dragons X JID', 'Doja Cat', 'Bad Bunny', 'Nicky Youre & dazy', 'Doja Cat', 'Elton John & Dua Lipa', 'Camila Cabello Featuring Ed Sheeran', 'Lil Nas X', 'Kodak Black', 'Ed Sheeran', 'Karol G', 'Morgan Wallen', 'Drake', 'Parmalee', 'Megan Thee Stallion & Dua Lipa', 'Bad Bunny', 'Kane Brown', 'Drake', 'Walker Hayes', 'The Kid LAROI', 'Zach Bryan', 'Bad Bunny & Rauw Alejandro', 'Lil Baby, 42 Dugg & Veeze', 'Bad Bunny', 'Jason Aldean', 'Post Malone Featuring Roddy Ricch', 'Ed Sheeran Featuring Lil Baby', 'Bad Bunny & Bomba Estereo', 'Future', 'Scotty McCreery', 'Bailey Zimmerman', 'Lady Gaga', 'Drake', 'Lil Baby', 'Becky G X Karol G', 'SleazyWorld Go Featuring Lil Baby', 'Drake', 'Doja Cat', 'BTS', 'Shawn Mendes', 'Lil Durk Featuring Gunna', 'Kendrick Lamar & Kodak Black', 'Bailey Zimmerman', 'Pharrell Williams Featuring 21 Savage & Tyler, The Creator', 'JNR CHOI & Sam Tompkins', 'Bad Bunny & Jhay Cortez', 'Cole Swindell', 'Russell Dickerson & Jake Scott', 'OneRepublic', 'ERNEST Featuring Morgan Wallen', 'Carrie Underwood', 'Shakira & Rauw Alejandro', 'Quavo & Takeoff', 'Harry Styles', 'Bad Bunny', 'Jon Pardi', 'Morgan Wallen', 'Halsey', 'Tyler Hubbard', 'Corey Kent', 'Lil Baby', 'Maren Morris', 'Luke Combs', 'Tim McGraw', 'Sleepy Hallow Featuring 347aidan', 'Hitkidd & Glorilla', 'Kendrick Lamar', 'Sam Smith', 'Dylan Scott', 'Tate McRae', 'Rauw Alejandro & Chencho Corleone']\n"
     ]
    }
   ],
   "source": [
    "#put them in a list\n",
    "lista_artist = []\n",
    "for i in lista2:\n",
    "    lista_artist.append(i.get_text(strip=True))\n",
    "print(lista_artist)"
   ]
  },
  {
   "cell_type": "code",
   "execution_count": 31,
   "id": "0e11e5f9",
   "metadata": {},
   "outputs": [
    {
     "data": {
      "text/plain": [
       "<zip at 0x7fcb279f17c0>"
      ]
     },
     "execution_count": 31,
     "metadata": {},
     "output_type": "execute_result"
    }
   ],
   "source": [
    "#create a dataframe\n",
    "import pandas as pd\n",
    "liste = zip(lista_song, lista_artist)\n",
    "liste"
   ]
  },
  {
   "cell_type": "code",
   "execution_count": 32,
   "id": "e30efe98",
   "metadata": {},
   "outputs": [
    {
     "name": "stdout",
     "output_type": "stream",
     "text": [
      "                   Title                             Artist\n",
      "0            Jimmy Cooks          Drake Featuring 21 Savage\n",
      "1              As It Was                       Harry Styles\n",
      "2            First Class                        Jack Harlow\n",
      "3             Wait For U      Future Featuring Drake & Tems\n",
      "4        About Damn Time                              Lizzo\n",
      "..                   ...                                ...\n",
      "95                   N95                     Kendrick Lamar\n",
      "96          Love Me More                          Sam Smith\n",
      "97             New Truck                        Dylan Scott\n",
      "98  She's All I Wanna Be                         Tate McRae\n",
      "99          Desesperados  Rauw Alejandro & Chencho Corleone\n",
      "\n",
      "[100 rows x 2 columns]\n"
     ]
    }
   ],
   "source": [
    "df = pd.DataFrame (liste, columns = ['Title', 'Artist'])\n",
    "print (df)"
   ]
  },
  {
   "cell_type": "code",
   "execution_count": 18,
   "id": "34e5f10f",
   "metadata": {},
   "outputs": [
    {
     "name": "stdout",
     "output_type": "stream",
     "text": [
      "                                               Title  \\\n",
      "0  [Jimmy Cooks, As It Was, First Class, Wait For...   \n",
      "\n",
      "                                              Artist  \n",
      "0  [Drake Featuring 21 Savage, Harry Styles, Jack...  \n"
     ]
    }
   ],
   "source": [
    "df = pd.DataFrame(liste).T\n",
    "df.columns = ['Title', 'Artist']\n",
    "print (df)"
   ]
  },
  {
   "cell_type": "code",
   "execution_count": 38,
   "id": "fdb03b1d",
   "metadata": {},
   "outputs": [
    {
     "data": {
      "text/html": [
       "<div>\n",
       "<style scoped>\n",
       "    .dataframe tbody tr th:only-of-type {\n",
       "        vertical-align: middle;\n",
       "    }\n",
       "\n",
       "    .dataframe tbody tr th {\n",
       "        vertical-align: top;\n",
       "    }\n",
       "\n",
       "    .dataframe thead th {\n",
       "        text-align: right;\n",
       "    }\n",
       "</style>\n",
       "<table border=\"1\" class=\"dataframe\">\n",
       "  <thead>\n",
       "    <tr style=\"text-align: right;\">\n",
       "      <th></th>\n",
       "      <th>Artist</th>\n",
       "      <th>Title</th>\n",
       "    </tr>\n",
       "  </thead>\n",
       "  <tbody>\n",
       "    <tr>\n",
       "      <th>0</th>\n",
       "      <td>Drake Featuring 21 Savage</td>\n",
       "      <td>Jimmy Cooks</td>\n",
       "    </tr>\n",
       "    <tr>\n",
       "      <th>1</th>\n",
       "      <td>Harry Styles</td>\n",
       "      <td>As It Was</td>\n",
       "    </tr>\n",
       "    <tr>\n",
       "      <th>2</th>\n",
       "      <td>Jack Harlow</td>\n",
       "      <td>First Class</td>\n",
       "    </tr>\n",
       "    <tr>\n",
       "      <th>3</th>\n",
       "      <td>Future Featuring Drake &amp; Tems</td>\n",
       "      <td>Wait For U</td>\n",
       "    </tr>\n",
       "    <tr>\n",
       "      <th>4</th>\n",
       "      <td>Lizzo</td>\n",
       "      <td>About Damn Time</td>\n",
       "    </tr>\n",
       "    <tr>\n",
       "      <th>...</th>\n",
       "      <td>...</td>\n",
       "      <td>...</td>\n",
       "    </tr>\n",
       "    <tr>\n",
       "      <th>95</th>\n",
       "      <td>Kendrick Lamar</td>\n",
       "      <td>N95</td>\n",
       "    </tr>\n",
       "    <tr>\n",
       "      <th>96</th>\n",
       "      <td>Sam Smith</td>\n",
       "      <td>Love Me More</td>\n",
       "    </tr>\n",
       "    <tr>\n",
       "      <th>97</th>\n",
       "      <td>Dylan Scott</td>\n",
       "      <td>New Truck</td>\n",
       "    </tr>\n",
       "    <tr>\n",
       "      <th>98</th>\n",
       "      <td>Tate McRae</td>\n",
       "      <td>She's All I Wanna Be</td>\n",
       "    </tr>\n",
       "    <tr>\n",
       "      <th>99</th>\n",
       "      <td>Rauw Alejandro &amp; Chencho Corleone</td>\n",
       "      <td>Desesperados</td>\n",
       "    </tr>\n",
       "  </tbody>\n",
       "</table>\n",
       "<p>100 rows × 2 columns</p>\n",
       "</div>"
      ],
      "text/plain": [
       "                               Artist                 Title\n",
       "0           Drake Featuring 21 Savage           Jimmy Cooks\n",
       "1                        Harry Styles             As It Was\n",
       "2                         Jack Harlow           First Class\n",
       "3       Future Featuring Drake & Tems            Wait For U\n",
       "4                               Lizzo       About Damn Time\n",
       "..                                ...                   ...\n",
       "95                     Kendrick Lamar                   N95\n",
       "96                          Sam Smith          Love Me More\n",
       "97                        Dylan Scott             New Truck\n",
       "98                         Tate McRae  She's All I Wanna Be\n",
       "99  Rauw Alejandro & Chencho Corleone          Desesperados\n",
       "\n",
       "[100 rows x 2 columns]"
      ]
     },
     "execution_count": 38,
     "metadata": {},
     "output_type": "execute_result"
    }
   ],
   "source": [
    "df = pd.DataFrame(\n",
    "    {'Artist': lista_artist,\n",
    "     'Title': lista_song,\n",
    "     })\n",
    "df"
   ]
  },
  {
   "cell_type": "code",
   "execution_count": 39,
   "id": "f6e53664",
   "metadata": {},
   "outputs": [
    {
     "name": "stdout",
     "output_type": "stream",
     "text": [
      "Please enter your song: N95\n",
      "Other song recommended:  Flight's Booked\n"
     ]
    }
   ],
   "source": [
    "from random import randint\n",
    "select_song = input('Please enter your song: ')\n",
    "\n",
    "if select_song.lower() in str(list(df[\"Title\"])).lower():\n",
    "    r = randint(0, len(df.index))\n",
    "    print(\"Other song recommended: \", df.iloc[r, 1])\n",
    "else:\n",
    "    print(\"THE SONG SELECTED IS NOT IN THE DATABASE\")\n",
    "    #print(colored(\"THE SONG SELECTED IS NOT IN THE DATABASE\"), colored('red'))"
   ]
  },
  {
   "cell_type": "code",
   "execution_count": null,
   "id": "a412d075",
   "metadata": {},
   "outputs": [],
   "source": []
  },
  {
   "cell_type": "code",
   "execution_count": null,
   "id": "655a570a",
   "metadata": {},
   "outputs": [],
   "source": []
  },
  {
   "cell_type": "code",
   "execution_count": null,
   "id": "7833ff5a",
   "metadata": {},
   "outputs": [],
   "source": []
  }
 ],
 "metadata": {
  "kernelspec": {
   "display_name": "Python 3 (ipykernel)",
   "language": "python",
   "name": "python3"
  },
  "language_info": {
   "codemirror_mode": {
    "name": "ipython",
    "version": 3
   },
   "file_extension": ".py",
   "mimetype": "text/x-python",
   "name": "python",
   "nbconvert_exporter": "python",
   "pygments_lexer": "ipython3",
   "version": "3.9.12"
  },
  "toc": {
   "base_numbering": 1,
   "nav_menu": {},
   "number_sections": true,
   "sideBar": true,
   "skip_h1_title": false,
   "title_cell": "Table of Contents",
   "title_sidebar": "Contents",
   "toc_cell": false,
   "toc_position": {},
   "toc_section_display": true,
   "toc_window_display": false
  }
 },
 "nbformat": 4,
 "nbformat_minor": 5
}
