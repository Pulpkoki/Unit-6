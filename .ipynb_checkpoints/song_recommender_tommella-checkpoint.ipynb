{
 "cells": [
  {
   "cell_type": "markdown",
   "id": "984a174f",
   "metadata": {},
   "source": [
    "# SONG RECOMMENDER"
   ]
  },
  {
   "cell_type": "markdown",
   "id": "bd40efe8",
   "metadata": {},
   "source": [
    "### 1) CHOOSE A SONG AND ASSIGN CLUSTER"
   ]
  },
  {
   "cell_type": "code",
   "execution_count": 4,
   "id": "43d462de",
   "metadata": {},
   "outputs": [],
   "source": [
    "import pickle\n",
    "import spotipy as sp\n",
    "import json\n",
    "from spotipy.oauth2 import SpotifyClientCredentials\n",
    "import pandas as pd\n",
    "from random import randint\n"
   ]
  },
  {
   "cell_type": "code",
   "execution_count": 7,
   "id": "1ad9053e",
   "metadata": {},
   "outputs": [],
   "source": [
    "### SAVE MODEL AND SCALER\n",
    "import pickle\n",
    "\n",
    "def load(filename = \"filename.pickle\"): \n",
    "    try: \n",
    "        with open(filename, \"rb\") as f: \n",
    "            return pickle.load(f) \n",
    "\n",
    "    except FileNotFoundError: \n",
    "        print(\"File not found!\") \n"
   ]
  },
  {
   "cell_type": "code",
   "execution_count": null,
   "id": "61f6dedb",
   "metadata": {},
   "outputs": [],
   "source": [
    "## example (rolling stones top 500)\n",
    "#Initialize SpotiPy with user credentias\n",
    "import config\n",
    "sp = sp.Spotify(auth_manager=SpotifyClientCredentials(client_id= config.client_id,\n",
    "                                                           client_secret= config.client_secret))\n"
   ]
  },
  {
   "cell_type": "code",
   "execution_count": null,
   "id": "b22906d5",
   "metadata": {},
   "outputs": [],
   "source": [
    "print('ok')"
   ]
  },
  {
   "cell_type": "code",
   "execution_count": null,
   "id": "371ddb2b",
   "metadata": {},
   "outputs": [],
   "source": [
    "#import numpy as np \n",
    "track = sp.search(q=\"Money\", type=\"track\", limit=3)\n",
    "features = pd.DataFrame(sp.audio_features(track[\"tracks\"][\"items\"][0][\"id\"]))\n",
    "features = features[['danceability', 'energy', 'loudness', 'speechiness', 'acousticness', \n",
    "        'instrumentalness', 'liveness', 'valence', 'tempo']]\n",
    "\n",
    "features"
   ]
  },
  {
   "cell_type": "code",
   "execution_count": 9,
   "id": "29c4773f",
   "metadata": {},
   "outputs": [
    {
     "ename": "NameError",
     "evalue": "name 'features' is not defined",
     "output_type": "error",
     "traceback": [
      "\u001b[1;31m---------------------------------------------------------------------------\u001b[0m",
      "\u001b[1;31mNameError\u001b[0m                                 Traceback (most recent call last)",
      "Input \u001b[1;32mIn [9]\u001b[0m, in \u001b[0;36m<cell line: 5>\u001b[1;34m()\u001b[0m\n\u001b[0;32m      1\u001b[0m scaler \u001b[38;5;241m=\u001b[39m load(\u001b[38;5;124m\"\u001b[39m\u001b[38;5;124mscaler_tommella.pickle\u001b[39m\u001b[38;5;124m\"\u001b[39m)\n\u001b[0;32m      3\u001b[0m columns \u001b[38;5;241m=\u001b[39m [\u001b[38;5;124m'\u001b[39m\u001b[38;5;124mdanceability\u001b[39m\u001b[38;5;124m'\u001b[39m, \u001b[38;5;124m'\u001b[39m\u001b[38;5;124menergy\u001b[39m\u001b[38;5;124m'\u001b[39m, \u001b[38;5;124m'\u001b[39m\u001b[38;5;124mloudness\u001b[39m\u001b[38;5;124m'\u001b[39m, \u001b[38;5;124m'\u001b[39m\u001b[38;5;124mspeechiness\u001b[39m\u001b[38;5;124m'\u001b[39m, \u001b[38;5;124m'\u001b[39m\u001b[38;5;124macousticness\u001b[39m\u001b[38;5;124m'\u001b[39m, \n\u001b[0;32m      4\u001b[0m         \u001b[38;5;124m'\u001b[39m\u001b[38;5;124minstrumentalness\u001b[39m\u001b[38;5;124m'\u001b[39m, \u001b[38;5;124m'\u001b[39m\u001b[38;5;124mliveness\u001b[39m\u001b[38;5;124m'\u001b[39m, \u001b[38;5;124m'\u001b[39m\u001b[38;5;124mvalence\u001b[39m\u001b[38;5;124m'\u001b[39m, \u001b[38;5;124m'\u001b[39m\u001b[38;5;124mtempo\u001b[39m\u001b[38;5;124m'\u001b[39m]\n\u001b[1;32m----> 5\u001b[0m x \u001b[38;5;241m=\u001b[39m scaler\u001b[38;5;241m.\u001b[39mtransform(\u001b[43mfeatures\u001b[49m)\n\u001b[0;32m      6\u001b[0m x \u001b[38;5;241m=\u001b[39m np\u001b[38;5;241m.\u001b[39marray(x)\n\u001b[0;32m      7\u001b[0m x \u001b[38;5;241m=\u001b[39m pd\u001b[38;5;241m.\u001b[39mDataFrame(x, columns \u001b[38;5;241m=\u001b[39m columns)\n",
      "\u001b[1;31mNameError\u001b[0m: name 'features' is not defined"
     ]
    }
   ],
   "source": [
    "scaler = load(\"scaler_tommella.pickle\")\n",
    "\n",
    "x = scaler.transform(features)\n",
    "x = np.array(x)\n",
    "x = pd.DataFrame(x, columns = features.columns)\n",
    "\n",
    "x"
   ]
  },
  {
   "cell_type": "code",
   "execution_count": 25,
   "id": "35ce5369",
   "metadata": {},
   "outputs": [
    {
     "ename": "NameError",
     "evalue": "name 'x' is not defined",
     "output_type": "error",
     "traceback": [
      "\u001b[1;31m---------------------------------------------------------------------------\u001b[0m",
      "\u001b[1;31mNameError\u001b[0m                                 Traceback (most recent call last)",
      "Input \u001b[1;32mIn [25]\u001b[0m, in \u001b[0;36m<cell line: 2>\u001b[1;34m()\u001b[0m\n\u001b[0;32m      1\u001b[0m kmeans \u001b[38;5;241m=\u001b[39m load(\u001b[38;5;124m\"\u001b[39m\u001b[38;5;124mkmeans_tommella.pickle\u001b[39m\u001b[38;5;124m\"\u001b[39m)\n\u001b[1;32m----> 2\u001b[0m my_cluster \u001b[38;5;241m=\u001b[39m \u001b[38;5;28mint\u001b[39m(kmeans\u001b[38;5;241m.\u001b[39mpredict(\u001b[43mx\u001b[49m))\n\u001b[0;32m      3\u001b[0m my_cluster\n",
      "\u001b[1;31mNameError\u001b[0m: name 'x' is not defined"
     ]
    }
   ],
   "source": [
    "kmeans = load(\"kmeans_tommella.pickle\")\n",
    "my_cluster = int(kmeans.predict(x))\n",
    "my_cluster"
   ]
  },
  {
   "cell_type": "markdown",
   "id": "2f39bec9",
   "metadata": {},
   "source": [
    "### 2) LOAD MY DATABASE WITH CLUSTER AND CHOOSE SAME CLUSTER SONG"
   ]
  },
  {
   "cell_type": "code",
   "execution_count": 27,
   "id": "f6e3b128",
   "metadata": {},
   "outputs": [
    {
     "data": {
      "text/plain": [
       "Int64Index([425], dtype='int64')"
      ]
     },
     "execution_count": 27,
     "metadata": {},
     "output_type": "execute_result"
    }
   ],
   "source": [
    "my_cluster = 5\n",
    "filtered_db = song_db[(song_db['cluster'] == my_cluster)]\n",
    "length = len(filtered_db.index)\n",
    "r =  randint(0, length)\n",
    "select_song = song_db[(song_db.index == r)]\n",
    "select_song.index"
   ]
  },
  {
   "cell_type": "code",
   "execution_count": null,
   "id": "94bc94c0",
   "metadata": {},
   "outputs": [],
   "source": []
  },
  {
   "cell_type": "code",
   "execution_count": null,
   "id": "386c3604",
   "metadata": {},
   "outputs": [],
   "source": []
  },
  {
   "cell_type": "code",
   "execution_count": 28,
   "id": "6e402f86",
   "metadata": {},
   "outputs": [
    {
     "ename": "AttributeError",
     "evalue": "module 'spotipy' has no attribute 'search'",
     "output_type": "error",
     "traceback": [
      "\u001b[1;31m---------------------------------------------------------------------------\u001b[0m",
      "\u001b[1;31mAttributeError\u001b[0m                            Traceback (most recent call last)",
      "Input \u001b[1;32mIn [28]\u001b[0m, in \u001b[0;36m<cell line: 1>\u001b[1;34m()\u001b[0m\n\u001b[1;32m----> 1\u001b[0m track \u001b[38;5;241m=\u001b[39m \u001b[43msp\u001b[49m\u001b[38;5;241;43m.\u001b[39;49m\u001b[43msearch\u001b[49m(q\u001b[38;5;241m=\u001b[39m\u001b[38;5;124m\"\u001b[39m\u001b[38;5;124mbarbie girl\u001b[39m\u001b[38;5;124m\"\u001b[39m, \u001b[38;5;28mtype\u001b[39m\u001b[38;5;241m=\u001b[39m\u001b[38;5;124m\"\u001b[39m\u001b[38;5;124mtrack\u001b[39m\u001b[38;5;124m\"\u001b[39m, limit\u001b[38;5;241m=\u001b[39m\u001b[38;5;241m10\u001b[39m)\n\u001b[0;32m      2\u001b[0m track\n",
      "\u001b[1;31mAttributeError\u001b[0m: module 'spotipy' has no attribute 'search'"
     ]
    }
   ],
   "source": [
    "track = sp.search(q=\"barbie girl\", type=\"track\", limit=10)\n",
    "track"
   ]
  },
  {
   "cell_type": "code",
   "execution_count": null,
   "id": "7cd8f45e",
   "metadata": {},
   "outputs": [],
   "source": [
    "def RecommendSong():\n",
    "    song = input(\"Name of the song\")\n",
    "    track = sp.search(q=song, type=\"track\", limit=3)\n",
    "    features = pd.DataFrame(sp.audio_features(track[\"tracks\"][\"items\"][0][\"id\"]))\n",
    "    features = features[['danceability', 'energy', 'loudness', 'speechiness', 'acousticness', \n",
    "            'instrumentalness', 'liveness', 'valence', 'tempo', 'duration_ms']]\n",
    "\n",
    "features"
   ]
  },
  {
   "cell_type": "code",
   "execution_count": null,
   "id": "91059785",
   "metadata": {},
   "outputs": [],
   "source": []
  },
  {
   "cell_type": "code",
   "execution_count": null,
   "id": "55d976f2",
   "metadata": {},
   "outputs": [],
   "source": [
    "track = sp.search(q=\"Nothing but Flowers\", type=\"track\", limit=3)\n",
    "len(track['tracks'])"
   ]
  },
  {
   "cell_type": "code",
   "execution_count": null,
   "id": "6b2ea90a",
   "metadata": {},
   "outputs": [],
   "source": [
    "track['tracks']['items'][0].keys()"
   ]
  },
  {
   "cell_type": "code",
   "execution_count": null,
   "id": "ee1eb861",
   "metadata": {},
   "outputs": [],
   "source": [
    "track = sp.search(q=\"Parole\", type=\"track\", limit=3)\n"
   ]
  },
  {
   "cell_type": "code",
   "execution_count": null,
   "id": "85e7868f",
   "metadata": {},
   "outputs": [],
   "source": [
    "len(track['tracks']['items'][0])"
   ]
  },
  {
   "cell_type": "code",
   "execution_count": null,
   "id": "f2eecb9e",
   "metadata": {},
   "outputs": [],
   "source": [
    "my_song = input(\"Select a song pleeeease: \")\n",
    "my_song"
   ]
  },
  {
   "cell_type": "code",
   "execution_count": null,
   "id": "3dcafd85",
   "metadata": {},
   "outputs": [],
   "source": [
    "track = sp.search(q='somebody to love', type=\"track\", limit=5)\n",
    "n_songs = len(track['tracks']['items'])\n",
    "for i in range(n_songs):\n",
    "    artist = track['tracks']['items'][i]['artists'][0]['name']\n",
    "    album =  track['tracks']['items'][i]['album']['name']\n",
    "    print(i, \"Artist: \", artist, \"\\n\", \"Album: \", album, \"\\n\")"
   ]
  },
  {
   "cell_type": "code",
   "execution_count": null,
   "id": "fdfb4bcf",
   "metadata": {},
   "outputs": [],
   "source": []
  },
  {
   "cell_type": "code",
   "execution_count": null,
   "id": "72626734",
   "metadata": {},
   "outputs": [],
   "source": [
    "track['tracks']"
   ]
  },
  {
   "cell_type": "code",
   "execution_count": null,
   "id": "a482d73f",
   "metadata": {},
   "outputs": [],
   "source": [
    "len(track['tracks']['items'])"
   ]
  },
  {
   "cell_type": "code",
   "execution_count": 1,
   "id": "e471479e",
   "metadata": {},
   "outputs": [
    {
     "name": "stdout",
     "output_type": "stream",
     "text": [
      "['adkgjhaso', 1, 5, 7, 4, 32, 23]\n"
     ]
    }
   ],
   "source": [
    "list1= ['adkgjhaso', 1,5,7,4,32,23]\n",
    "print(list1)"
   ]
  },
  {
   "cell_type": "code",
   "execution_count": null,
   "id": "36255130",
   "metadata": {},
   "outputs": [],
   "source": []
  }
 ],
 "metadata": {
  "kernelspec": {
   "display_name": "Python 3 (ipykernel)",
   "language": "python",
   "name": "python3"
  },
  "language_info": {
   "codemirror_mode": {
    "name": "ipython",
    "version": 3
   },
   "file_extension": ".py",
   "mimetype": "text/x-python",
   "name": "python",
   "nbconvert_exporter": "python",
   "pygments_lexer": "ipython3",
   "version": "3.9.12"
  }
 },
 "nbformat": 4,
 "nbformat_minor": 5
}
