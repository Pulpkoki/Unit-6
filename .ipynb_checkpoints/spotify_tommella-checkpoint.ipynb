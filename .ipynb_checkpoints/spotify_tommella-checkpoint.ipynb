{
 "cells": [
  {
   "cell_type": "markdown",
   "id": "463207ea",
   "metadata": {},
   "source": [
    "# SPOTIPY PROJECT\n",
    "## CREATE SONG DATABASE FROM SPOTIFY"
   ]
  },
  {
   "cell_type": "code",
   "execution_count": 2,
   "id": "c9c5ae5d",
   "metadata": {
    "pycharm": {
     "name": "#%%\n"
    }
   },
   "outputs": [],
   "source": [
    "import config"
   ]
  },
  {
   "cell_type": "code",
   "execution_count": 3,
   "id": "f35032f6",
   "metadata": {
    "pycharm": {
     "name": "#%%\n"
    }
   },
   "outputs": [],
   "source": [
    "import spotipy\n",
    "import json\n",
    "from spotipy.oauth2 import SpotifyClientCredentials\n",
    "import pandas as pd"
   ]
  },
  {
   "cell_type": "code",
   "execution_count": 4,
   "id": "3e5c290a",
   "metadata": {
    "pycharm": {
     "name": "#%%\n"
    }
   },
   "outputs": [
    {
     "name": "stdout",
     "output_type": "stream",
     "text": [
      "<spotipy.client.Spotify object at 0x000002AD905133D0>\n"
     ]
    }
   ],
   "source": [
    "#Initialize SpotiPy with user credentias\n",
    "sp = spotipy.Spotify(auth_manager=SpotifyClientCredentials(client_id= config.client_id,\n",
    "                                                           client_secret= config.client_secret))\n",
    "print(sp)"
   ]
  },
  {
   "cell_type": "code",
   "execution_count": 5,
   "id": "bccbf659",
   "metadata": {},
   "outputs": [
    {
     "data": {
      "text/plain": [
       "\"\\n# secrets.py contains important secret variables\\nfrom secrets import *\\nimport base64\\nimport requests\\nimport json\\n\\n# function posts to /api/token endpoint and returns access token\\ndef spotify_get_access_token(client_id, client_secret):\\n    url = 'https://accounts.spotify.com/api/token'\\n    auth = base64.b64encode(f'{client_id}:{client_secret}'.encode('ascii')).decode('ascii')\\n    headers = {'Authorization': f'Basic {auth}'}\\n    data = {'grant_type': 'client_credentials'}\\n    return requests.post(url, headers=headers, data=data).json()['access_token']\\n\\nspotify_access_token = spotify_get_access_token(client_id, client_secret)\\n\\n# function gets from specified endpoint and returns response as json\\ndef spotify_get(endpoint, params):\\n    url = 'https://api.spotify.com/v1' + endpoint\\n    headers = {'Authorization': f'Bearer: {spotify_access_token}'}\\n    return requests.get(url, headers=headers, params=params)\\n\\nprint(spotify_get('/artists/2xvtxDNInKDV4AvGmjw6d1/albums', {'include_groups': 'album'}).json())\\n\""
      ]
     },
     "execution_count": 5,
     "metadata": {},
     "output_type": "execute_result"
    }
   ],
   "source": [
    "'''\n",
    "# secrets.py contains important secret variables\n",
    "from secrets import *\n",
    "import base64\n",
    "import requests\n",
    "import json\n",
    "\n",
    "# function posts to /api/token endpoint and returns access token\n",
    "def spotify_get_access_token(client_id, client_secret):\n",
    "    url = 'https://accounts.spotify.com/api/token'\n",
    "    auth = base64.b64encode(f'{client_id}:{client_secret}'.encode('ascii')).decode('ascii')\n",
    "    headers = {'Authorization': f'Basic {auth}'}\n",
    "    data = {'grant_type': 'client_credentials'}\n",
    "    return requests.post(url, headers=headers, data=data).json()['access_token']\n",
    "\n",
    "spotify_access_token = spotify_get_access_token(client_id, client_secret)\n",
    "\n",
    "# function gets from specified endpoint and returns response as json\n",
    "def spotify_get(endpoint, params):\n",
    "    url = 'https://api.spotify.com/v1' + endpoint\n",
    "    headers = {'Authorization': f'Bearer: {spotify_access_token}'}\n",
    "    return requests.get(url, headers=headers, params=params)\n",
    "\n",
    "print(spotify_get('/artists/2xvtxDNInKDV4AvGmjw6d1/albums', {'include_groups': 'album'}).json())\n",
    "'''"
   ]
  },
  {
   "cell_type": "code",
   "execution_count": 6,
   "id": "69a017d2",
   "metadata": {
    "pycharm": {
     "name": "#%%\n"
    }
   },
   "outputs": [],
   "source": [
    "## example (rolling stones top 500)\n",
    "results = sp.search(q=\"Like a Rolling Stone\", limit=1, market=\"GB\")\n",
    "track = sp.search(q=\"Like a Rolling Stone\") #find title of the first track\n"
   ]
  },
  {
   "cell_type": "code",
   "execution_count": 15,
   "id": "5fa13590",
   "metadata": {},
   "outputs": [
    {
     "data": {
      "text/plain": [
       "'73NEKkPEmmwi9qgex7g2pt'"
      ]
     },
     "execution_count": 15,
     "metadata": {},
     "output_type": "execute_result"
    }
   ],
   "source": [
    "playlist = sp.user_playlist_tracks(\"spotify\", '59pRUY7wdHjzAyetJtqCnY')\n",
    "update_playlist = playlist['items']\n",
    "update_playlist[0]['track']['id']"
   ]
  },
  {
   "cell_type": "code",
   "execution_count": null,
   "id": "ccd5bf49",
   "metadata": {},
   "outputs": [],
   "source": [
    "playlist_list = ['6uRb2P6XRj5ygnanxpMCfS', '59pRUY7wdHjzAyetJtqCnY']\n",
    "playlist_names = ['RollingStones_top500', 'top65House']"
   ]
  },
  {
   "cell_type": "code",
   "execution_count": 20,
   "id": "4e1bab6b",
   "metadata": {},
   "outputs": [],
   "source": [
    "\n",
    "def PlaylistDatabase(code):\n",
    "    try:\n",
    "        playlist = sp.user_playlist_tracks(\"spotify\", code)\n",
    "        update_playlist = playlist['items']\n",
    "\n",
    "        while playlist['next']:\n",
    "            update_playlist.extend(playlist['items'])\n",
    "            playlist = sp.next(playlist)\n",
    "\n",
    "        lenght = len(update_playlist)\n",
    "        #lenght\n",
    "\n",
    "        song_features_list = []\n",
    "        song_list = []\n",
    "        id_list = []\n",
    "        \n",
    "        for i in range(lenght):\n",
    "            try:\n",
    "                song = update_playlist[i]['track']['name']\n",
    "                song_list.append(song)\n",
    "                track = sp.search(q=song)\n",
    "                features = sp.audio_features(track[\"tracks\"][\"items\"][0][\"id\"])\n",
    "                song_features_list.append(features)\n",
    "                id_list.append(update_playlist[i]['track']['id'])\n",
    "\n",
    "                if i % 50 == 0: \n",
    "                    print(i, song)\n",
    "\n",
    "            except: \n",
    "                print('ERROR', i)\n",
    "                    \n",
    "        df = pd.DataFrame()\n",
    "        n_songs = len(song_features_list)\n",
    "        \n",
    "        for i in range(0, n_songs):\n",
    "            df = pd.concat([df, pd.DataFrame(song_features_list[i])])\n",
    "\n",
    "        df.reset_index(inplace=True, drop=True)\n",
    "        df = df[['danceability', 'energy', 'loudness', 'speechiness', 'acousticness', \n",
    "                'instrumentalness', 'liveness', 'valence', 'tempo', 'duration_ms']]\n",
    "        \n",
    "        df.index = song_list\n",
    "        df['id'] = id_list\n",
    "\n",
    "        return df\n",
    "    \n",
    "    except:\n",
    "        print('NOT WORKING')\n",
    "        "
   ]
  },
  {
   "cell_type": "code",
   "execution_count": 21,
   "id": "806ded64",
   "metadata": {},
   "outputs": [
    {
     "name": "stdout",
     "output_type": "stream",
     "text": [
      "['59pRUY7wdHjzAyetJtqCnY', '5ye9yx1tss5jxju4NDYHqQ', '6kQMCF1nN5TtvBT2DLCz2H', '4liqQvs6bPHmy1s3559Zfe', '27VY0PivrvmGgNvFx23sU5', '6MJSGcF4iV79gyo8xZpd8U', '1Q3xkLA1R06gIrBo3k4U1q', '6uRb2P6XRj5ygnanxpMCfS', '2iBH9S3UXlrtUBxjffgZEh', '3vDe8D64ytZRKXt0AsJT0B', '1c5JpH8s61Se836y57iJpv', '37i9dQZF1DWWEJlAGA9gs0', '4YygUsUEglDPrYIUmrdNVT', '4hISTlanHrnfDlbGBmKQ5J', '1TSfzmBieYMjfaDrKNb69t', '2ORDELafw6TqNRZBGY6TPb', '3J7GI554Rlhrpy5COcSNc7']\n"
     ]
    }
   ],
   "source": [
    "playlist_list = ['59pRUY7wdHjzAyetJtqCnY', '5ye9yx1tss5jxju4NDYHqQ', '6kQMCF1nN5TtvBT2DLCz2H', '4liqQvs6bPHmy1s3559Zfe', \n",
    "                 '27VY0PivrvmGgNvFx23sU5', '6MJSGcF4iV79gyo8xZpd8U', '1Q3xkLA1R06gIrBo3k4U1q', '6uRb2P6XRj5ygnanxpMCfS', \n",
    "                 '2iBH9S3UXlrtUBxjffgZEh', '3vDe8D64ytZRKXt0AsJT0B', '1c5JpH8s61Se836y57iJpv', '37i9dQZF1DWWEJlAGA9gs0', \n",
    "                 '4YygUsUEglDPrYIUmrdNVT', '4hISTlanHrnfDlbGBmKQ5J', '1TSfzmBieYMjfaDrKNb69t', '2ORDELafw6TqNRZBGY6TPb', \n",
    "                 '3J7GI554Rlhrpy5COcSNc7']\n",
    "print(playlist_list)\n"
   ]
  },
  {
   "cell_type": "code",
   "execution_count": null,
   "id": "32b0b32d",
   "metadata": {},
   "outputs": [
    {
     "name": "stdout",
     "output_type": "stream",
     "text": [
      "0 Power\n",
      "50 Go Somewhere\n"
     ]
    },
    {
     "name": "stderr",
     "output_type": "stream",
     "text": [
      "HTTP Error for GET to https://api.spotify.com/v1/playlists/5ye9yx1tss5jxju4NDYHqQ/tracks with Params: {'limit': 100, 'offset': 0, 'fields': None, 'market': None, 'additional_types': 'track'} returned 404 due to Not found.\n"
     ]
    },
    {
     "name": "stdout",
     "output_type": "stream",
     "text": [
      "NOT WORKING\n",
      "0 Peer Gynt Suite No. 1, Op. 46: I. Morning Mood\n",
      "50 Beach At Night\n",
      "0 Symphony No. 5 In C Minor, Op. 67, \"Fate\": I. Allegro Con Brio\n"
     ]
    },
    {
     "name": "stderr",
     "output_type": "stream",
     "text": [
      "HTTP Error for GET to https://api.spotify.com/v1/search with Params: {'q': 'Pachelbel: Canon and Gigue in D Major for 3 Violins and Continuo, P. 37: I. Canon (Orchestral Version)', 'limit': 10, 'offset': 0, 'type': 'track', 'market': None} returned 404 due to Not found.\n"
     ]
    },
    {
     "name": "stdout",
     "output_type": "stream",
     "text": [
      "ERROR 5\n"
     ]
    },
    {
     "name": "stderr",
     "output_type": "stream",
     "text": [
      "HTTP Error for GET to https://api.spotify.com/v1/search with Params: {'q': '5 Military Marches, Op. 39, \"Pomp and Circumstance\": Military March No. 1 in D Major, Op. 39, \"Pomp and Circumstance\"', 'limit': 10, 'offset': 0, 'type': 'track', 'market': None} returned 404 due to Not found.\n"
     ]
    },
    {
     "name": "stdout",
     "output_type": "stream",
     "text": [
      "ERROR 14\n",
      "50 Bugler's Dream and Olympic Fanfare Medley\n",
      "ERROR 66\n",
      "ERROR 70\n"
     ]
    },
    {
     "name": "stderr",
     "output_type": "stream",
     "text": [
      "HTTP Error for GET to https://api.spotify.com/v1/search with Params: {'q': 'Water Music Suite No. 2 in D Major: II. Alla hornpipe - Water Music Suite No. 2 in D Major: II. Alla hornpipe', 'limit': 10, 'offset': 0, 'type': 'track', 'market': None} returned 404 due to Not found.\n"
     ]
    },
    {
     "name": "stdout",
     "output_type": "stream",
     "text": [
      "ERROR 88\n",
      "100 Symphony No. 5 In C Minor, Op. 67, \"Fate\": I. Allegro Con Brio\n"
     ]
    },
    {
     "name": "stderr",
     "output_type": "stream",
     "text": [
      "HTTP Error for GET to https://api.spotify.com/v1/search with Params: {'q': 'Pachelbel: Canon and Gigue in D Major for 3 Violins and Continuo, P. 37: I. Canon (Orchestral Version)', 'limit': 10, 'offset': 0, 'type': 'track', 'market': None} returned 404 due to Not found.\n"
     ]
    },
    {
     "name": "stdout",
     "output_type": "stream",
     "text": [
      "ERROR 105\n"
     ]
    },
    {
     "name": "stderr",
     "output_type": "stream",
     "text": [
      "HTTP Error for GET to https://api.spotify.com/v1/search with Params: {'q': '5 Military Marches, Op. 39, \"Pomp and Circumstance\": Military March No. 1 in D Major, Op. 39, \"Pomp and Circumstance\"', 'limit': 10, 'offset': 0, 'type': 'track', 'market': None} returned 404 due to Not found.\n"
     ]
    },
    {
     "name": "stdout",
     "output_type": "stream",
     "text": [
      "ERROR 114\n",
      "150 Bugler's Dream and Olympic Fanfare Medley\n",
      "ERROR 166\n",
      "ERROR 170\n"
     ]
    },
    {
     "name": "stderr",
     "output_type": "stream",
     "text": [
      "HTTP Error for GET to https://api.spotify.com/v1/search with Params: {'q': 'Water Music Suite No. 2 in D Major: II. Alla hornpipe - Water Music Suite No. 2 in D Major: II. Alla hornpipe', 'limit': 10, 'offset': 0, 'type': 'track', 'market': None} returned 404 due to Not found.\n"
     ]
    },
    {
     "name": "stdout",
     "output_type": "stream",
     "text": [
      "ERROR 188\n",
      "NOT WORKING\n",
      "0 Reload - Radio Edit\n",
      "ERROR 17\n",
      "ERROR 43\n",
      "50 Redline - Radio Edit\n",
      "100 Reload - Radio Edit\n",
      "ERROR 117\n",
      "ERROR 143\n",
      "150 Redline - Radio Edit\n",
      "NOT WORKING\n",
      "0 Rave - Remix\n",
      "0 It's Impossible\n",
      "50 Spanish Harlem\n",
      "ERROR 72\n",
      "NOT WORKING\n",
      "0 Like a Rolling Stone\n",
      "ERROR 1\n",
      "ERROR 41\n",
      "50 The Message - Extended Version\n",
      "ERROR 80\n",
      "100 Like a Rolling Stone\n",
      "ERROR 101\n",
      "ERROR 141\n",
      "150 The Message - Extended Version\n",
      "ERROR 180\n",
      "200 Voodoo Child (Slight Return)\n",
      "ERROR 239\n",
      "250 Earth Angel (Will You Be Mine)\n",
      "300 Flash Light\n",
      "350 Chain of Fools\n",
      "400 Get Up, Stand Up\n",
      "ERROR 401\n",
      "ERROR 427\n",
      "450 Jim Dandy\n",
      "NOT WORKING\n",
      "0 Born in the U.S.A.\n",
      "ERROR 18\n",
      "50 Rolling In The Deep\n",
      "ERROR 83\n",
      "100 Born in the U.S.A.\n",
      "ERROR 118\n",
      "150 Rolling In The Deep\n",
      "ERROR 183\n",
      "200 Burning Heart - From \"Rocky IV\" Soundtrack\n",
      "ERROR 224\n",
      "ERROR 230\n"
     ]
    },
    {
     "name": "stderr",
     "output_type": "stream",
     "text": [
      "HTTP Error for GET to https://api.spotify.com/v1/search with Params: {'q': 'Layla - Acoustic; Live at MTV Unplugged, Bray Film Studios, Windsor, England, UK, 1/16/1992; 1999 Remaster', 'limit': 10, 'offset': 0, 'type': 'track', 'market': None} returned 404 due to Not found.\n"
     ]
    },
    {
     "name": "stdout",
     "output_type": "stream",
     "text": [
      "ERROR 245\n",
      "ERROR 249\n",
      "250 Another Part of Me - Single Version\n",
      "ERROR 281\n",
      "ERROR 287\n",
      "300 All Night Long (All Night)\n",
      "350 Dreamer\n",
      "ERROR 360\n",
      "ERROR 361\n",
      "ERROR 364\n",
      "400 (I Can't Help) Falling In Love With You\n",
      "ERROR 405\n",
      "ERROR 431\n",
      "450 Halfway Gone\n",
      "500 Live Is Life - Live\n",
      "ERROR 511\n",
      "550 The Look\n",
      "600 The Key, The Secret\n",
      "ERROR 614\n",
      "ERROR 647\n",
      "650 Up & Down\n",
      "700 Vertigo/Relight My Fire\n",
      "ERROR 736\n",
      "ERROR 739\n",
      "750 Sovereign Light Café\n",
      "800 Gold\n",
      "ERROR 816\n",
      "850 Oerend Hard\n",
      "ERROR 861\n",
      "ERROR 880\n",
      "ERROR 891\n",
      "900 Don't Cry (Original)\n",
      "ERROR 924\n",
      "950 Memories (feat. Kid Cudi)\n",
      "ERROR 971\n",
      "1000 Groot Hart\n",
      "ERROR 1009\n",
      "1050 Mannish Boy\n",
      "ERROR 1094\n",
      "1100 This Is My Life\n",
      "ERROR 1125\n",
      "ERROR 1127\n",
      "1150 Englishman In New York\n",
      "ERROR 1160\n",
      "1200 Crazy\n",
      "1250 Out Of Reach - From \"Bridget Jones's Diary\"\n",
      "ERROR 1299\n",
      "1300 My Heart Will Go On (Love Theme from \"Titanic\")\n",
      "ERROR 1304\n",
      "1350 When Tomorrow Comes - Remastered Version\n",
      "ERROR 1393\n",
      "1400 Pärlor\n",
      "1450 Something Beautiful\n",
      "ERROR 1470\n",
      "ERROR 1475\n",
      "ERROR 1485\n",
      "ERROR 1489\n",
      "1500 Jag ljuger så bra\n",
      "ERROR 1544\n",
      "1550 Watching The Stars\n",
      "ERROR 1567\n",
      "1600 Rhythm Is A Dancer - 12'' Version\n",
      "1650 Elegi\n",
      "ERROR 1658\n",
      "ERROR 1669\n",
      "ERROR 1694\n",
      "NOT WORKING\n",
      "0 Time\n",
      "50 Welcome To Los Santos\n"
     ]
    },
    {
     "name": "stderr",
     "output_type": "stream",
     "text": [
      "HTTP Error for GET to https://api.spotify.com/v1/search with Params: {'q': 'Indiana Jones And The Last Crusade (arr. R. Hayman): Indiana Jones And The Last Crusade (Indiana Jones Theme)', 'limit': 10, 'offset': 0, 'type': 'track', 'market': None} returned 404 due to Not found.\n"
     ]
    },
    {
     "name": "stdout",
     "output_type": "stream",
     "text": [
      "ERROR 75\n",
      "ERROR 96\n",
      "100 Time\n",
      "150 Welcome To Los Santos\n"
     ]
    },
    {
     "name": "stderr",
     "output_type": "stream",
     "text": [
      "HTTP Error for GET to https://api.spotify.com/v1/search with Params: {'q': 'Indiana Jones And The Last Crusade (arr. R. Hayman): Indiana Jones And The Last Crusade (Indiana Jones Theme)', 'limit': 10, 'offset': 0, 'type': 'track', 'market': None} returned 404 due to Not found.\n"
     ]
    },
    {
     "name": "stdout",
     "output_type": "stream",
     "text": [
      "ERROR 175\n",
      "ERROR 196\n",
      "200 The High Seas\n",
      "ERROR 241\n",
      "ERROR 245\n",
      "250 Now That This Old World Is Ending\n",
      "300 Defeated Clown\n",
      "350 Far From Home Suite Home\n",
      "ERROR 360\n",
      "ERROR 366\n",
      "ERROR 378\n",
      "400 Angry and Dead Again - From \"Pirates of the Caribbean: On Stranger Tides\"/Soundtrack Version\n",
      "ERROR 432\n"
     ]
    },
    {
     "name": "stderr",
     "output_type": "stream",
     "text": [
      "HTTP Error for GET to https://api.spotify.com/v1/search with Params: {'q': 'The Pirate That Should Not Be - From \"Pirates of the Caribbean: On Stranger Tides\"/Soundtrack Version', 'limit': 10, 'offset': 0, 'type': 'track', 'market': None} returned 404 due to Not found.\n"
     ]
    },
    {
     "name": "stdout",
     "output_type": "stream",
     "text": [
      "ERROR 436\n",
      "450 Main Theme (From \"The Dark Knight Rises\")\n",
      "ERROR 475\n",
      "ERROR 476\n",
      "NOT WORKING\n"
     ]
    },
    {
     "name": "stderr",
     "output_type": "stream",
     "text": [
      "HTTP Error for GET to https://api.spotify.com/v1/search with Params: {'q': 'The Art Of Fugue, BWV 1080 - Later Version Of The Original Print Edited By Christoph Wolff: Contrapunctus 9. a 4 alla Duodecima', 'limit': 10, 'offset': 0, 'type': 'track', 'market': None} returned 404 due to Not found.\n"
     ]
    },
    {
     "name": "stdout",
     "output_type": "stream",
     "text": [
      "0 Hungarian Dance No.5 In G Minor, WoO 1 No. 5\n",
      "ERROR 1\n"
     ]
    },
    {
     "name": "stderr",
     "output_type": "stream",
     "text": [
      "HTTP Error for GET to https://api.spotify.com/v1/search with Params: {'q': 'Estancia / Danzas del Ballet: 2. Danza del trigo - Live At Centro de Acción Social por la Música, Sala Simón Bolivar, Caracas / 2008', 'limit': 10, 'offset': 0, 'type': 'track', 'market': None} returned 404 due to Not found.\n"
     ]
    },
    {
     "name": "stdout",
     "output_type": "stream",
     "text": [
      "ERROR 24\n",
      "ERROR 29\n",
      "ERROR 47\n",
      "50 Sonata For Violin And Piano No.8 In G, Op.30 No.3: 3. Allegro vivace\n",
      "ERROR 64\n",
      "ERROR 67\n",
      "ERROR 78\n",
      "ERROR 93\n"
     ]
    },
    {
     "name": "stderr",
     "output_type": "stream",
     "text": [
      "HTTP Error for GET to https://api.spotify.com/v1/search with Params: {'q': 'The Art Of Fugue, BWV 1080 - Later Version Of The Original Print Edited By Christoph Wolff: Contrapunctus 9. a 4 alla Duodecima', 'limit': 10, 'offset': 0, 'type': 'track', 'market': None} returned 404 due to Not found.\n"
     ]
    },
    {
     "name": "stdout",
     "output_type": "stream",
     "text": [
      "100 Hungarian Dance No.5 In G Minor, WoO 1 No. 5\n",
      "ERROR 101\n"
     ]
    },
    {
     "name": "stderr",
     "output_type": "stream",
     "text": [
      "HTTP Error for GET to https://api.spotify.com/v1/search with Params: {'q': 'Estancia / Danzas del Ballet: 2. Danza del trigo - Live At Centro de Acción Social por la Música, Sala Simón Bolivar, Caracas / 2008', 'limit': 10, 'offset': 0, 'type': 'track', 'market': None} returned 404 due to Not found.\n"
     ]
    },
    {
     "name": "stdout",
     "output_type": "stream",
     "text": [
      "ERROR 124\n",
      "ERROR 129\n",
      "ERROR 147\n",
      "150 Sonata For Violin And Piano No.8 In G, Op.30 No.3: 3. Allegro vivace\n",
      "ERROR 164\n",
      "ERROR 167\n",
      "ERROR 178\n",
      "ERROR 193\n",
      "200 Ayre: Nanni\n",
      "ERROR 209\n"
     ]
    },
    {
     "name": "stderr",
     "output_type": "stream",
     "text": [
      "HTTP Error for GET to https://api.spotify.com/v1/search with Params: {'q': 'Hungarian Dance No.5 in G Minor, WoO 1 No.5 - Orchestrated by Martin Schmeling (?-1943): Hungarian Dance No.5 In G Minor, WoO 1', 'limit': 10, 'offset': 0, 'type': 'track', 'market': None} returned 404 due to Not found.\n"
     ]
    },
    {
     "name": "stdout",
     "output_type": "stream",
     "text": [
      "ERROR 215\n",
      "ERROR 232\n",
      "ERROR 233\n",
      "ERROR 234\n",
      "ERROR 235\n"
     ]
    },
    {
     "name": "stderr",
     "output_type": "stream",
     "text": [
      "HTTP Error for GET to https://api.spotify.com/v1/search with Params: {'q': 'String Quartet No.14 In C Sharp Minor, Op.131: 4. Andante ma non troppo e molto cantabile - Più mosso - Andante moderato e lusinghiero - Adagio - Allegretto - Adagio, ma non troppo e semplice - Allegretto', 'limit': 10, 'offset': 0, 'type': 'track', 'market': None} returned 404 due to Not found.\n"
     ]
    },
    {
     "name": "stdout",
     "output_type": "stream",
     "text": [
      "ERROR 239\n",
      "250 Requiem In D Minor, K.626 - Compl. By Franz Xaver Süssmayer: 3. Sequentia: Dies irae\n",
      "ERROR 260\n",
      "ERROR 264\n",
      "ERROR 288\n"
     ]
    },
    {
     "name": "stderr",
     "output_type": "stream",
     "text": [
      "HTTP Error for GET to https://api.spotify.com/v1/search with Params: {'q': 'Symphony No.5 In C Sharp Minor: 1. Trauermarsch (In gemessenem Schritt. Streng. Wie ein Kondukt - Plötzlich schneller. Leidenschaftlich. Wild - Tempo I)', 'limit': 10, 'offset': 0, 'type': 'track', 'market': None} returned 404 due to Not found.\n",
      "HTTP Error for GET to https://api.spotify.com/v1/search with Params: {'q': 'Symphony No.5 In C Sharp Minor: 2. Stürmisch bewegt. Mit größter Vehemenz - Bedeutend langsamer - Tempo I subito', 'limit': 10, 'offset': 0, 'type': 'track', 'market': None} returned 404 due to Not found.\n"
     ]
    },
    {
     "name": "stdout",
     "output_type": "stream",
     "text": [
      "ERROR 290\n",
      "ERROR 291\n",
      "300 The Art Of Fugue, BWV 1080 - Version For String Quartet: Contrapunctus 6\n"
     ]
    },
    {
     "name": "stderr",
     "output_type": "stream",
     "text": [
      "HTTP Error for GET to https://api.spotify.com/v1/search with Params: {'q': 'The Art Of Fugue, BWV 1080 - Version For String Quartet: Contrapunctus 14a: Canon per Augmentationem in contrario motu', 'limit': 10, 'offset': 0, 'type': 'track', 'market': None} returned 404 due to Not found.\n"
     ]
    },
    {
     "name": "stdout",
     "output_type": "stream",
     "text": [
      "ERROR 306\n"
     ]
    },
    {
     "name": "stderr",
     "output_type": "stream",
     "text": [
      "HTTP Error for GET to https://api.spotify.com/v1/search with Params: {'q': 'The Art Of Fugue, BWV 1080 - Version For String Quartet: Canona alla Decima, in Contrapunto alla Terza', 'limit': 10, 'offset': 0, 'type': 'track', 'market': None} returned 404 due to Not found.\n",
      "HTTP Error for GET to https://api.spotify.com/v1/search with Params: {'q': 'The Art Of Fugue, BWV 1080 - Version For String Quartet: Canon alla Duodecima in Contrapunto alla Quinta', 'limit': 10, 'offset': 0, 'type': 'track', 'market': None} returned 404 due to Not found.\n"
     ]
    },
    {
     "name": "stdout",
     "output_type": "stream",
     "text": [
      "ERROR 310\n",
      "ERROR 311\n"
     ]
    },
    {
     "name": "stderr",
     "output_type": "stream",
     "text": [
      "HTTP Error for GET to https://api.spotify.com/v1/search with Params: {'q': 'The Art Of Fugue, BWV 1080 - Version For String Quartet: Contrapunctus 14: Canon per Augmentationem in contrario motu', 'limit': 10, 'offset': 0, 'type': 'track', 'market': None} returned 404 due to Not found.\n"
     ]
    },
    {
     "name": "stdout",
     "output_type": "stream",
     "text": [
      "ERROR 314\n",
      "350 Messa da Requiem: 2. Lacrymosa\n"
     ]
    },
    {
     "name": "stderr",
     "output_type": "stream",
     "text": [
      "HTTP Error for GET to https://api.spotify.com/v1/search with Params: {'q': 'Vespro della Beata Vergine, SV 206: I. Domine ad adiuvandum a 6 - Live At Basiliek San Marco, Venice / 1989', 'limit': 10, 'offset': 0, 'type': 'track', 'market': None} returned 404 due to Not found.\n",
      "HTTP Error for GET to https://api.spotify.com/v1/search with Params: {'q': 'Vespro della Beata Vergine, SV 206: II. Dixit Dominus a 6 - Live At Basiliek San Marco, Venice / 1989', 'limit': 10, 'offset': 0, 'type': 'track', 'market': None} returned 404 due to Not found.\n",
      "HTTP Error for GET to https://api.spotify.com/v1/search with Params: {'q': 'Vespro della Beata Vergine, SV 206: IV. Laudate, pueri Dominum a 8 - Live At Basiliek San Marco, Venice / 1989', 'limit': 10, 'offset': 0, 'type': 'track', 'market': None} returned 404 due to Not found.\n"
     ]
    },
    {
     "name": "stdout",
     "output_type": "stream",
     "text": [
      "ERROR 364\n",
      "ERROR 365\n",
      "ERROR 366\n",
      "ERROR 367\n",
      "ERROR 368\n",
      "ERROR 369\n"
     ]
    },
    {
     "name": "stderr",
     "output_type": "stream",
     "text": [
      "HTTP Error for GET to https://api.spotify.com/v1/search with Params: {'q': 'Vespro della Beata Vergine, SV 206: VII. Duo seraphim a 3 - Live At Basiliek San Marco, Venice / 1989', 'limit': 10, 'offset': 0, 'type': 'track', 'market': None} returned 404 due to Not found.\n",
      "HTTP Error for GET to https://api.spotify.com/v1/search with Params: {'q': 'Vespro della Beata Vergine, SV 206: VIII. Nisi Dominus a 10 - Live At Basiliek San Marco, Venice / 1989', 'limit': 10, 'offset': 0, 'type': 'track', 'market': None} returned 404 due to Not found.\n",
      "HTTP Error for GET to https://api.spotify.com/v1/search with Params: {'q': 'Vespro della Beata Vergine, SV 206: X. Lauda Jerusalem a 7 - Live At Basiliek San Marco, Venice / 1989', 'limit': 10, 'offset': 0, 'type': 'track', 'market': None} returned 404 due to Not found.\n"
     ]
    },
    {
     "name": "stdout",
     "output_type": "stream",
     "text": [
      "ERROR 370\n",
      "ERROR 371\n",
      "ERROR 372\n",
      "ERROR 373\n"
     ]
    },
    {
     "name": "stderr",
     "output_type": "stream",
     "text": [
      "HTTP Error for GET to https://api.spotify.com/v1/search with Params: {'q': 'Vespro della Beata Vergine, SV 206: Sonata sopra Sancta Maria a 1 - Live At Basiliek San Marco, Venice / 1989', 'limit': 10, 'offset': 0, 'type': 'track', 'market': None} returned 404 due to Not found.\n"
     ]
    },
    {
     "name": "stdout",
     "output_type": "stream",
     "text": [
      "ERROR 374\n",
      "ERROR 375\n",
      "ERROR 376\n",
      "ERROR 377\n",
      "ERROR 381\n",
      "ERROR 385\n",
      "ERROR 386\n",
      "ERROR 387\n"
     ]
    },
    {
     "name": "stderr",
     "output_type": "stream",
     "text": [
      "HTTP Error for GET to https://api.spotify.com/v1/search with Params: {'q': 'Trio Sonata for 2 Violins and Continuo in G, Op.5, No.4, HWV 399: 2. A tempo ordinario - Allegro non presto - Adagio', 'limit': 10, 'offset': 0, 'type': 'track', 'market': None} returned 404 due to Not found.\n"
     ]
    },
    {
     "name": "stdout",
     "output_type": "stream",
     "text": [
      "ERROR 390\n",
      "400 Suite No.2 In B Minor, BWV 1067: 6. Menuet\n"
     ]
    },
    {
     "name": "stderr",
     "output_type": "stream",
     "text": [
      "HTTP Error for GET to https://api.spotify.com/v1/search with Params: {'q': 'Fantasia For Piano, Chorus And Orchestra In C Minor, Op.80: 1. Adagio - Live At Sveriges Radio, Berwaldhallen, Stockholm / 2003', 'limit': 10, 'offset': 0, 'type': 'track', 'market': None} returned 404 due to Not found.\n",
      "HTTP Error for GET to https://api.spotify.com/v1/search with Params: {'q': 'Fantasia For Piano, Chorus And Orchestra In C Minor, Op.80: 2. Finale: a) Allegro - Meno allegro - Allegro molto - Adagio ma non troppo - Marcia, assai vivace - Live At Sveriges Radio, Berwaldhallen, Stockholm / 2003', 'limit': 10, 'offset': 0, 'type': 'track', 'market': None} returned 404 due to Not found.\n",
      "HTTP Error for GET to https://api.spotify.com/v1/search with Params: {'q': 'Credo For Piano Solo, Mixed Choir And Orchestra - Live At Sveriges Radio, Berwaldhallen, Stockholm / 2003', 'limit': 10, 'offset': 0, 'type': 'track', 'market': None} returned 404 due to Not found.\n"
     ]
    },
    {
     "name": "stdout",
     "output_type": "stream",
     "text": [
      "ERROR 406\n",
      "ERROR 407\n",
      "ERROR 408\n"
     ]
    },
    {
     "name": "stderr",
     "output_type": "stream",
     "text": [
      "HTTP Error for GET to https://api.spotify.com/v1/search with Params: {'q': 'Concerto For 2 Harpsichords, Strings, And Continuo In C Minor, BWV 1060 - Arr. For Violin, Oboe, Strings & Continuo: 1. Allegro', 'limit': 10, 'offset': 0, 'type': 'track', 'market': None} returned 404 due to Not found.\n",
      "HTTP Error for GET to https://api.spotify.com/v1/search with Params: {'q': 'Concerto For 2 Harpsichords, Strings, And Continuo In C Minor, BWV 1060 - Arr. For Violin, Oboe, Strings & Continuo: 2. Adagio', 'limit': 10, 'offset': 0, 'type': 'track', 'market': None} returned 404 due to Not found.\n",
      "HTTP Error for GET to https://api.spotify.com/v1/search with Params: {'q': 'Concerto For 2 Harpsichords, Strings, And Continuo In C Minor, BWV 1060 - Arr. For Violin, Oboe, Strings & Continuo: 3. Allegro', 'limit': 10, 'offset': 0, 'type': 'track', 'market': None} returned 404 due to Not found.\n"
     ]
    },
    {
     "name": "stdout",
     "output_type": "stream",
     "text": [
      "ERROR 418\n",
      "ERROR 419\n",
      "ERROR 420\n",
      "ERROR 421\n"
     ]
    },
    {
     "name": "stderr",
     "output_type": "stream",
     "text": [
      "HTTP Error for GET to https://api.spotify.com/v1/search with Params: {'q': 'Piano Sonata No.10 In C Major, K.330: 1. Allegro moderato - Live At Great Hall, State Conservatory, Moscow / 1986', 'limit': 10, 'offset': 0, 'type': 'track', 'market': None} returned 404 due to Not found.\n",
      "HTTP Error for GET to https://api.spotify.com/v1/search with Params: {'q': 'Piano Sonata No.10 In C Major, K.330: 2. Andante cantabile - Live At Great Hall, State Conservatory, Moscow / 1986', 'limit': 10, 'offset': 0, 'type': 'track', 'market': None} returned 404 due to Not found.\n",
      "HTTP Error for GET to https://api.spotify.com/v1/search with Params: {'q': 'Piano Sonata No.10 In C Major, K.330: 3. Allegretto - Live At Great Hall, State Conservatory, Moscow / 1986', 'limit': 10, 'offset': 0, 'type': 'track', 'market': None} returned 404 due to Not found.\n"
     ]
    },
    {
     "name": "stdout",
     "output_type": "stream",
     "text": [
      "ERROR 422\n",
      "ERROR 423\n",
      "ERROR 424\n",
      "ERROR 425\n"
     ]
    },
    {
     "name": "stderr",
     "output_type": "stream",
     "text": [
      "HTTP Error for GET to https://api.spotify.com/v1/search with Params: {'q': '3 Pieces For Piano, Op.2: 1. Etude In C Sharp Minor - Live At Great Hall, State Conservatory, Moscow / 1986', 'limit': 10, 'offset': 0, 'type': 'track', 'market': None} returned 404 due to Not found.\n",
      "HTTP Error for GET to https://api.spotify.com/v1/search with Params: {'q': '12 Etudes For Piano, Op.8: No. 12 In D Sharp Minor - Live At Great Hall, State Conservatory, Moscow / 1986', 'limit': 10, 'offset': 0, 'type': 'track', 'market': None} returned 404 due to Not found.\n",
      "HTTP Error for GET to https://api.spotify.com/v1/search with Params: {'q': 'Soirées de Vienne: 9 Valses-Caprices After Schubert, S. 427 - Live At Great Hall, State Conservatory, Moscow / 1986', 'limit': 10, 'offset': 0, 'type': 'track', 'market': None} returned 404 due to Not found.\n",
      "HTTP Error for GET to https://api.spotify.com/v1/search with Params: {'q': 'Années de pèlerinage: 2ème année: Italie, S.161: 5. Sonetto 104 del Petrarca - Live At Great Hall, State Conservatory, Moscow / 1986', 'limit': 10, 'offset': 0, 'type': 'track', 'market': None} returned 404 due to Not found.\n"
     ]
    },
    {
     "name": "stdout",
     "output_type": "stream",
     "text": [
      "ERROR 426\n",
      "ERROR 427\n",
      "ERROR 428\n",
      "ERROR 429\n",
      "ERROR 430\n",
      "ERROR 431\n",
      "ERROR 432\n"
     ]
    },
    {
     "name": "stderr",
     "output_type": "stream",
     "text": [
      "HTTP Error for GET to https://api.spotify.com/v1/search with Params: {'q': 'Étincelles, Morceau caractéristique op.36, no.6: Allegro scherzando - Live At Great Hall, State Conservatory, Moscow / 1986', 'limit': 10, 'offset': 0, 'type': 'track', 'market': None} returned 404 due to Not found.\n"
     ]
    },
    {
     "name": "stdout",
     "output_type": "stream",
     "text": [
      "ERROR 433\n",
      "ERROR 434\n",
      "ERROR 435\n",
      "450 Carmina Burana / 3. Cour d'amours: \"Amor volat undique\"\n"
     ]
    },
    {
     "name": "stderr",
     "output_type": "stream",
     "text": [
      "HTTP Error for GET to https://api.spotify.com/v1/search with Params: {'q': 'Symphony No.9 In D Minor, Op.125 - \"Choral\": 4. Presto - \"O Freunde, nicht diese Töne!\" - Allegro assai', 'limit': 10, 'offset': 0, 'type': 'track', 'market': None} returned 404 due to Not found.\n"
     ]
    },
    {
     "name": "stdout",
     "output_type": "stream",
     "text": [
      "ERROR 466\n",
      "ERROR 487\n",
      "ERROR 488\n",
      "ERROR 489\n",
      "ERROR 498\n"
     ]
    },
    {
     "name": "stderr",
     "output_type": "stream",
     "text": [
      "HTTP Error for GET to https://api.spotify.com/v1/search with Params: {'q': 'Piano Concerto No.1 In B Flat Minor, Op.23, TH.55: 1. Allegro non troppo e molto maestoso - Allegro con spirito', 'limit': 10, 'offset': 0, 'type': 'track', 'market': None} returned 404 due to Not found.\n"
     ]
    },
    {
     "name": "stdout",
     "output_type": "stream",
     "text": [
      "ERROR 500\n",
      "ERROR 508\n"
     ]
    },
    {
     "name": "stderr",
     "output_type": "stream",
     "text": [
      "HTTP Error for GET to https://api.spotify.com/v1/search with Params: {'q': 'Symphony No.5 in D minor, Op.107, MWV N15 - \"Reformation\": 4. Choral \"Ein\\' Feste Burg ist unser Gott!\" (Andante con moto - Allegro vivace - Allegro maestoso - Più animato poco a poco)', 'limit': 10, 'offset': 0, 'type': 'track', 'market': None} returned 404 due to Not found.\n"
     ]
    },
    {
     "name": "stdout",
     "output_type": "stream",
     "text": [
      "ERROR 512\n",
      "ERROR 513\n"
     ]
    },
    {
     "name": "stderr",
     "output_type": "stream",
     "text": [
      "HTTP Error for GET to https://api.spotify.com/v1/search with Params: {'q': 'Symphonie fantastique, Op. 14, H. 48: 1. Rêveries. Passions (Largo - Allegro agitato ed appassionato assai)', 'limit': 10, 'offset': 0, 'type': 'track', 'market': None} returned 404 due to Not found.\n"
     ]
    },
    {
     "name": "stdout",
     "output_type": "stream",
     "text": [
      "ERROR 523\n"
     ]
    },
    {
     "name": "stderr",
     "output_type": "stream",
     "text": [
      "HTTP Error for GET to https://api.spotify.com/v1/search with Params: {'q': \"Symphonie fantastique, Op. 14, H. 48: 5. Songe d'une nuit du Sabbat (Larghetto - Allegro - Ronde du Sabbat: Poco meno mosso)\", 'limit': 10, 'offset': 0, 'type': 'track', 'market': None} returned 404 due to Not found.\n"
     ]
    },
    {
     "name": "stdout",
     "output_type": "stream",
     "text": [
      "ERROR 527\n"
     ]
    },
    {
     "name": "stderr",
     "output_type": "stream",
     "text": [
      "HTTP Error for GET to https://api.spotify.com/v1/search with Params: {'q': 'Christmas Mass - Processional:\"Christum wir sollen loben schon\" - Arranged By Michael Praetorius / Har. Lucas Osiander', 'limit': 10, 'offset': 0, 'type': 'track', 'market': None} returned 404 due to Not found.\n"
     ]
    },
    {
     "name": "stdout",
     "output_type": "stream",
     "text": [
      "ERROR 530\n"
     ]
    },
    {
     "name": "stderr",
     "output_type": "stream",
     "text": [
      "HTTP Error for GET to https://api.spotify.com/v1/search with Params: {'q': 'Organ prelude: Praeambulum \"Vom Himmel hoch\" (Source: Lüneburg, Stadtarchiv, Musikabt.,Mus.ant.pract.KN208.2)', 'limit': 10, 'offset': 0, 'type': 'track', 'market': None} returned 404 due to Not found.\n"
     ]
    },
    {
     "name": "stdout",
     "output_type": "stream",
     "text": [
      "ERROR 536\n"
     ]
    },
    {
     "name": "stderr",
     "output_type": "stream",
     "text": [
      "HTTP Error for GET to https://api.spotify.com/v1/search with Params: {'q': 'Credo: \"Wir glauben all an einen Gott\" (1524) - Tabulatur-Buch hundert geistl. Lieder u. Psalmen - - Harmonization: Samuel Scheidt', 'limit': 10, 'offset': 0, 'type': 'track', 'market': None} returned 404 due to Not found.\n"
     ]
    },
    {
     "name": "stdout",
     "output_type": "stream",
     "text": [
      "ERROR 539\n",
      "ERROR 540\n"
     ]
    },
    {
     "name": "stderr",
     "output_type": "stream",
     "text": [
      "HTTP Error for GET to https://api.spotify.com/v1/search with Params: {'q': 'The Lord\\'s Prayer: \"Vater unser, der du bist im Himmel\" Words Of Institution: \"Unser Herr Jesus Christus\"', 'limit': 10, 'offset': 0, 'type': 'track', 'market': None} returned 404 due to Not found.\n"
     ]
    },
    {
     "name": "stdout",
     "output_type": "stream",
     "text": [
      "ERROR 543\n",
      "550 Final Hymn: \"Puer nobis nascitur\" - Musae Sioniae VI\n",
      "ERROR 553\n",
      "ERROR 554\n"
     ]
    },
    {
     "name": "stderr",
     "output_type": "stream",
     "text": [
      "HTTP Error for GET to https://api.spotify.com/v1/search with Params: {'q': 'Dardanus / Prologue: Premier Tambourin / Deuxième Tambourin - Live At Theatre, Salle Molière, Poissy / 2003', 'limit': 10, 'offset': 0, 'type': 'track', 'market': None} returned 404 due to Not found.\n"
     ]
    },
    {
     "name": "stdout",
     "output_type": "stream",
     "text": [
      "ERROR 555\n",
      "ERROR 556\n",
      "ERROR 557\n"
     ]
    },
    {
     "name": "stderr",
     "output_type": "stream",
     "text": [
      "HTTP Error for GET to https://api.spotify.com/v1/search with Params: {'q': 'Les Boréades / Act 4: Gavottes pour les Heures et les Zéphirs - Live At Theatre, Salle Molière, Poissy / 2003', 'limit': 10, 'offset': 0, 'type': 'track', 'market': None} returned 404 due to Not found.\n"
     ]
    },
    {
     "name": "stdout",
     "output_type": "stream",
     "text": [
      "ERROR 558\n",
      "ERROR 559\n",
      "ERROR 560\n"
     ]
    },
    {
     "name": "stderr",
     "output_type": "stream",
     "text": [
      "HTTP Error for GET to https://api.spotify.com/v1/search with Params: {'q': '6 Concerts transcrits en sextuor / 6e concert: 1. La poule - Live At Theatre, Salle Molière, Poissy / 2003', 'limit': 10, 'offset': 0, 'type': 'track', 'market': None} returned 404 due to Not found.\n",
      "HTTP Error for GET to https://api.spotify.com/v1/search with Params: {'q': \"Les fêtes d'Hébé / Act 3: Musette tendre en rondeau, Tambourin en rondeau - Live At Theatre, Salle Molière, Poissy / 2003\", 'limit': 10, 'offset': 0, 'type': 'track', 'market': None} returned 404 due to Not found.\n"
     ]
    },
    {
     "name": "stdout",
     "output_type": "stream",
     "text": [
      "ERROR 561\n",
      "ERROR 562\n",
      "ERROR 563\n",
      "ERROR 564\n",
      "ERROR 565\n",
      "ERROR 566\n",
      "ERROR 567\n",
      "ERROR 568\n",
      "ERROR 569\n"
     ]
    },
    {
     "name": "stderr",
     "output_type": "stream",
     "text": [
      "HTTP Error for GET to https://api.spotify.com/v1/search with Params: {'q': 'Don Giovanni, ossia Il dissoluto punito, K.527 / Act 2: \"Crudele!-Ah no, mio bene!\" - \"Non mi dir, bell\\'idol\" (Donna Anna)', 'limit': 10, 'offset': 0, 'type': 'track', 'market': None} returned 404 due to Not found.\n",
      "HTTP Error for GET to https://api.spotify.com/v1/search with Params: {'q': 'Benvenuto Cellini / Act 1: \"Les belles fleures\" - \"Entre l\\'amour et le devoir\" - Quand j\\'aurai votre âge', 'limit': 10, 'offset': 0, 'type': 'track', 'market': None} returned 404 due to Not found.\n"
     ]
    },
    {
     "name": "stdout",
     "output_type": "stream",
     "text": [
      "ERROR 577\n",
      "ERROR 578\n",
      "ERROR 581\n",
      "ERROR 584\n"
     ]
    },
    {
     "name": "stderr",
     "output_type": "stream",
     "text": [
      "HTTP Error for GET to https://api.spotify.com/v1/search with Params: {'q': 'Concerto For Violin And Strings In E, Op.8, No.1, RV 269 \"La Primavera\": 3. Allegro (Danza pastorale)', 'limit': 10, 'offset': 0, 'type': 'track', 'market': None} returned 404 due to Not found.\n"
     ]
    },
    {
     "name": "stdout",
     "output_type": "stream",
     "text": [
      "600 Concerto For Violin And Strings In E, Op.8, No.1, RV 269 \"La Primavera\": 1. Allegro\n",
      "ERROR 601\n",
      "ERROR 602\n"
     ]
    },
    {
     "name": "stderr",
     "output_type": "stream",
     "text": [
      "HTTP Error for GET to https://api.spotify.com/v1/search with Params: {'q': 'Concerto For Violin And Strings In G Minor, Op.8, No.2, R.315 \"L\\'estate\": 1. Allegro non molto - Allegro', 'limit': 10, 'offset': 0, 'type': 'track', 'market': None} returned 404 due to Not found.\n",
      "HTTP Error for GET to https://api.spotify.com/v1/search with Params: {'q': 'Concerto For Violin And Strings In G Minor, Op.8, No.2, RV 315 \"L\\'estate\": 2. Adagio - Presto - Adagio', 'limit': 10, 'offset': 0, 'type': 'track', 'market': None} returned 404 due to Not found.\n",
      "HTTP Error for GET to https://api.spotify.com/v1/search with Params: {'q': 'Concerto For Violin And Strings In G Minor, Op.8, No.2, RV 315 \"L\\'estate\": 3. Presto (Tempo impetuoso d\\'estate)', 'limit': 10, 'offset': 0, 'type': 'track', 'market': None} returned 404 due to Not found.\n",
      "HTTP Error for GET to https://api.spotify.com/v1/search with Params: {'q': 'Concerto For Violin And Strings In F, Op.8, No.3, RV 293 \"L\\'autunno\": 1. Allegro (Ballo, e canto de\\' villanelli)', 'limit': 10, 'offset': 0, 'type': 'track', 'market': None} returned 404 due to Not found.\n",
      "HTTP Error for GET to https://api.spotify.com/v1/search with Params: {'q': 'Concerto For Violin And Strings In F, Op.8, No.3, RV 293 \"L\\'autunno\": 2. Adagio molto (Ubriachi dormienti)', 'limit': 10, 'offset': 0, 'type': 'track', 'market': None} returned 404 due to Not found.\n"
     ]
    },
    {
     "name": "stdout",
     "output_type": "stream",
     "text": [
      "ERROR 603\n",
      "ERROR 604\n",
      "ERROR 605\n",
      "ERROR 606\n",
      "ERROR 607\n",
      "650 Sonata In C Major, Kk.159: Allegro\n",
      "ERROR 680\n",
      "ERROR 682\n",
      "ERROR 683\n",
      "ERROR 684\n",
      "700 Mass In B Minor, BWV 232 / Credo: Credo in unum Deum\n",
      "750 Bredon Hill And Other Songs: Bredon Hill\n",
      "ERROR 769\n",
      "NOT WORKING\n",
      "0 Cello Suite No. 1 in G Major, BWV 1007: I. Prélude\n"
     ]
    },
    {
     "name": "stderr",
     "output_type": "stream",
     "text": [
      "HTTP Error for GET to https://api.spotify.com/v1/search with Params: {'q': 'Pachelbel: Canon and Gigue in D Major for 3 Violins and Continuo, P. 37: I. Canon (Orchestral Version)', 'limit': 10, 'offset': 0, 'type': 'track', 'market': None} returned 404 due to Not found.\n"
     ]
    },
    {
     "name": "stdout",
     "output_type": "stream",
     "text": [
      "ERROR 4\n"
     ]
    },
    {
     "name": "stderr",
     "output_type": "stream",
     "text": [
      "HTTP Error for GET to https://api.spotify.com/v1/search with Params: {'q': \"Prince Igor (Knyaz Igor): Act II: Polovtsian Dances - Ulyetay na kril'yahk vyetra (Fly away on the wings of the wind) (version for chorus)\", 'limit': 10, 'offset': 0, 'type': 'track', 'market': None} returned 404 due to Not found.\n"
     ]
    },
    {
     "name": "stdout",
     "output_type": "stream",
     "text": [
      "ERROR 31\n"
     ]
    },
    {
     "name": "stderr",
     "output_type": "stream",
     "text": [
      "HTTP Error for GET to https://api.spotify.com/v1/search with Params: {'q': 'Piano Concerto No. 1 in B-Flat Minor, Op. 23: I. Allegro non troppo e molto maestoso – Allegro con spirito', 'limit': 10, 'offset': 0, 'type': 'track', 'market': None} returned 404 due to Not found.\n"
     ]
    },
    {
     "name": "stdout",
     "output_type": "stream",
     "text": [
      "ERROR 36\n",
      "50 The Rite of Spring: Part One: Adoration of the Earth: Introduction\n"
     ]
    },
    {
     "name": "stderr",
     "output_type": "stream",
     "text": [
      "HTTP Error for GET to https://api.spotify.com/v1/search with Params: {'q': 'Piano Concerto No. 5 in E-Flat Major, Op. 73 \"Emperor\": II. Adagio un poco mosso - Live at Konzerthaus Berlin / 2018', 'limit': 10, 'offset': 0, 'type': 'track', 'market': None} returned 404 due to Not found.\n"
     ]
    },
    {
     "name": "stdout",
     "output_type": "stream",
     "text": [
      "ERROR 61\n"
     ]
    },
    {
     "name": "stderr",
     "output_type": "stream",
     "text": [
      "HTTP Error for GET to https://api.spotify.com/v1/search with Params: {'q': 'Symphony No. 6 in F Major, Op. 68 \"Pastoral\": I. Awakening of Cheerful Feelings Upon Arrival in the Country: Allegro ma non troppo', 'limit': 10, 'offset': 0, 'type': 'track', 'market': None} returned 404 due to Not found.\n"
     ]
    },
    {
     "name": "stdout",
     "output_type": "stream",
     "text": [
      "ERROR 82\n",
      "100 Cello Suite No. 1 in G Major, BWV 1007: I. Prélude\n"
     ]
    },
    {
     "name": "stderr",
     "output_type": "stream",
     "text": [
      "HTTP Error for GET to https://api.spotify.com/v1/search with Params: {'q': 'Pachelbel: Canon and Gigue in D Major for 3 Violins and Continuo, P. 37: I. Canon (Orchestral Version)', 'limit': 10, 'offset': 0, 'type': 'track', 'market': None} returned 404 due to Not found.\n"
     ]
    },
    {
     "name": "stdout",
     "output_type": "stream",
     "text": [
      "ERROR 104\n"
     ]
    },
    {
     "name": "stderr",
     "output_type": "stream",
     "text": [
      "HTTP Error for GET to https://api.spotify.com/v1/search with Params: {'q': \"Prince Igor (Knyaz Igor): Act II: Polovtsian Dances - Ulyetay na kril'yahk vyetra (Fly away on the wings of the wind) (version for chorus)\", 'limit': 10, 'offset': 0, 'type': 'track', 'market': None} returned 404 due to Not found.\n"
     ]
    },
    {
     "name": "stdout",
     "output_type": "stream",
     "text": [
      "ERROR 131\n"
     ]
    },
    {
     "name": "stderr",
     "output_type": "stream",
     "text": [
      "HTTP Error for GET to https://api.spotify.com/v1/search with Params: {'q': 'Piano Concerto No. 1 in B-Flat Minor, Op. 23: I. Allegro non troppo e molto maestoso – Allegro con spirito', 'limit': 10, 'offset': 0, 'type': 'track', 'market': None} returned 404 due to Not found.\n"
     ]
    },
    {
     "name": "stdout",
     "output_type": "stream",
     "text": [
      "ERROR 136\n",
      "150 The Rite of Spring: Part One: Adoration of the Earth: Introduction\n"
     ]
    },
    {
     "name": "stderr",
     "output_type": "stream",
     "text": [
      "HTTP Error for GET to https://api.spotify.com/v1/search with Params: {'q': 'Piano Concerto No. 5 in E-Flat Major, Op. 73 \"Emperor\": II. Adagio un poco mosso - Live at Konzerthaus Berlin / 2018', 'limit': 10, 'offset': 0, 'type': 'track', 'market': None} returned 404 due to Not found.\n"
     ]
    },
    {
     "name": "stdout",
     "output_type": "stream",
     "text": [
      "ERROR 161\n"
     ]
    },
    {
     "name": "stderr",
     "output_type": "stream",
     "text": [
      "HTTP Error for GET to https://api.spotify.com/v1/search with Params: {'q': 'Symphony No. 6 in F Major, Op. 68 \"Pastoral\": I. Awakening of Cheerful Feelings Upon Arrival in the Country: Allegro ma non troppo', 'limit': 10, 'offset': 0, 'type': 'track', 'market': None} returned 404 due to Not found.\n"
     ]
    },
    {
     "name": "stdout",
     "output_type": "stream",
     "text": [
      "ERROR 182\n",
      "NOT WORKING\n",
      "0 Stairway to Heaven - Remaster\n",
      "ERROR 1\n",
      "ERROR 21\n",
      "ERROR 29\n",
      "ERROR 32\n",
      "ERROR 45\n",
      "50 Goodbye Yellow Brick Road - Remastered 2014\n",
      "ERROR 54\n",
      "ERROR 73\n",
      "ERROR 94\n",
      "100 Stairway to Heaven - Remaster\n",
      "ERROR 101\n",
      "ERROR 121\n",
      "ERROR 129\n",
      "ERROR 132\n",
      "ERROR 145\n",
      "150 Goodbye Yellow Brick Road - Remastered 2014\n",
      "ERROR 154\n",
      "ERROR 173\n",
      "ERROR 194\n",
      "200 Don't Bring Me Down\n",
      "ERROR 214\n",
      "ERROR 227\n"
     ]
    }
   ],
   "source": [
    "df = pd.DataFrame()\n",
    "for i in range(len(playlist_list)):\n",
    "    newdf = PlaylistDatabase(playlist_list[i])\n",
    "    #newdf = pd.DataFrame(newdf)\n",
    "    df = pd.concat([df, newdf])\n",
    "    "
   ]
  },
  {
   "cell_type": "code",
   "execution_count": null,
   "id": "f34ab1a9",
   "metadata": {},
   "outputs": [],
   "source": [
    "#%%"
   ]
  },
  {
   "cell_type": "code",
   "execution_count": null,
   "id": "93404894",
   "metadata": {},
   "outputs": [],
   "source": []
  },
  {
   "cell_type": "code",
   "execution_count": null,
   "id": "e13bd3d2",
   "metadata": {},
   "outputs": [],
   "source": []
  },
  {
   "cell_type": "code",
   "execution_count": null,
   "id": "a4c1db1e",
   "metadata": {},
   "outputs": [],
   "source": []
  },
  {
   "cell_type": "code",
   "execution_count": null,
   "id": "a25170a4",
   "metadata": {},
   "outputs": [],
   "source": [
    "df1 = PlaylistDatabase('59pRUY7wdHjzAyetJtqCnY')"
   ]
  },
  {
   "cell_type": "code",
   "execution_count": null,
   "id": "eddcf658",
   "metadata": {},
   "outputs": [],
   "source": [
    "#df2 = PlaylistDatabase('5ye9yx1tss5jxju4NDYHqQ')"
   ]
  },
  {
   "cell_type": "code",
   "execution_count": null,
   "id": "55eb7dc1",
   "metadata": {},
   "outputs": [],
   "source": [
    "df3 = PlaylistDatabase('6kQMCF1nN5TtvBT2DLCz2H')"
   ]
  },
  {
   "cell_type": "code",
   "execution_count": null,
   "id": "2b582010",
   "metadata": {},
   "outputs": [],
   "source": [
    "df4 = PlaylistDatabase('4liqQvs6bPHmy1s3559Zfe')"
   ]
  },
  {
   "cell_type": "code",
   "execution_count": null,
   "id": "f6a9e185",
   "metadata": {},
   "outputs": [],
   "source": [
    "df5 = PlaylistDatabase('5ye9yx1tss5jxju4NDYHqQ')"
   ]
  },
  {
   "cell_type": "code",
   "execution_count": null,
   "id": "1bbc3516",
   "metadata": {},
   "outputs": [],
   "source": [
    "df6 = PlaylistDatabase('27VY0PivrvmGgNvFx23sU5')"
   ]
  },
  {
   "cell_type": "code",
   "execution_count": null,
   "id": "14f0fe53",
   "metadata": {},
   "outputs": [],
   "source": [
    "df7 = PlaylistDatabase('6MJSGcF4iV79gyo8xZpd8U')"
   ]
  },
  {
   "cell_type": "code",
   "execution_count": null,
   "id": "37bed13a",
   "metadata": {},
   "outputs": [],
   "source": [
    "df8 = PlaylistDatabase('6uRb2P6XRj5ygnanxpMCfS')"
   ]
  },
  {
   "cell_type": "code",
   "execution_count": null,
   "id": "912cd847",
   "metadata": {},
   "outputs": [],
   "source": [
    "df9 = PlaylistDatabase('2iBH9S3UXlrtUBxjffgZEh')"
   ]
  },
  {
   "cell_type": "code",
   "execution_count": null,
   "id": "353a1707",
   "metadata": {},
   "outputs": [],
   "source": [
    "df10 = PlaylistDatabase('3vDe8D64ytZRKXt0AsJT0B')"
   ]
  },
  {
   "cell_type": "code",
   "execution_count": null,
   "id": "9efa84fa",
   "metadata": {},
   "outputs": [],
   "source": [
    "df11 = PlaylistDatabase('1c5JpH8s61Se836y57iJpv')"
   ]
  },
  {
   "cell_type": "code",
   "execution_count": null,
   "id": "bff71db6",
   "metadata": {},
   "outputs": [],
   "source": [
    "df12 = PlaylistDatabase('37i9dQZF1DWWEJlAGA9gs0')"
   ]
  },
  {
   "cell_type": "code",
   "execution_count": null,
   "id": "1f87c9c1",
   "metadata": {},
   "outputs": [],
   "source": [
    "df13 = PlaylistDatabase('4YygUsUEglDPrYIUmrdNVT')"
   ]
  },
  {
   "cell_type": "code",
   "execution_count": null,
   "id": "666310b6",
   "metadata": {},
   "outputs": [],
   "source": [
    "df14 = PlaylistDatabase('4hISTlanHrnfDlbGBmKQ5J')"
   ]
  },
  {
   "cell_type": "code",
   "execution_count": null,
   "id": "c0d0c9ec",
   "metadata": {},
   "outputs": [],
   "source": [
    "df15 = PlaylistDatabase('1TSfzmBieYMjfaDrKNb69t')"
   ]
  },
  {
   "cell_type": "code",
   "execution_count": null,
   "id": "6345483a",
   "metadata": {},
   "outputs": [],
   "source": [
    "df16 = PlaylistDatabase('2ORDELafw6TqNRZBGY6TPb')"
   ]
  },
  {
   "cell_type": "code",
   "execution_count": null,
   "id": "038a6a74",
   "metadata": {},
   "outputs": [],
   "source": [
    "df17 = PlaylistDatabase('3J7GI554Rlhrpy5COcSNc7')"
   ]
  },
  {
   "cell_type": "code",
   "execution_count": null,
   "id": "face2093",
   "metadata": {},
   "outputs": [],
   "source": [
    "list_playlist = [df1, df3, df4, df6, df7, df8, df9, df10, df11, df12, df13, df14, df15, df16, df17]\n"
   ]
  },
  {
   "cell_type": "code",
   "execution_count": null,
   "id": "5ffd4a18",
   "metadata": {
    "scrolled": false
   },
   "outputs": [],
   "source": [
    "new_df = pd.concat(list_playlist)"
   ]
  },
  {
   "cell_type": "code",
   "execution_count": null,
   "id": "6358ef73",
   "metadata": {},
   "outputs": [],
   "source": [
    "#playlist = sp.user_playlist_tracks(\"spotify\", \"59pRUY7wdHjzAyetJtqCnY\")\n",
    "#df = PlaylistDatabase(playlist)"
   ]
  },
  {
   "cell_type": "code",
   "execution_count": null,
   "id": "b3d79178",
   "metadata": {},
   "outputs": [],
   "source": [
    "#df.to_csv(\"song_db_tommella.csv\", encoding='utf-8')"
   ]
  },
  {
   "cell_type": "code",
   "execution_count": null,
   "id": "886c3e25",
   "metadata": {},
   "outputs": [],
   "source": [
    "len(df.index)\n",
    "new_df.to_csv(\"song_db_tommella.csv\", encoding='utf-8')"
   ]
  },
  {
   "cell_type": "code",
   "execution_count": null,
   "id": "67f58bc8",
   "metadata": {},
   "outputs": [],
   "source": [
    "print('ok')"
   ]
  },
  {
   "cell_type": "code",
   "execution_count": null,
   "id": "5d92b722",
   "metadata": {},
   "outputs": [],
   "source": [
    "df = pd.DataFrame()\n",
    "for i in range(len(playlist_list)):\n",
    "    newdf = PlaylistDatabase(playlist_list[i])\n",
    "    newdf = pd.DataFrame(newdf)\n",
    "    df = pd.concat([df, newdf])\n",
    "        "
   ]
  },
  {
   "cell_type": "code",
   "execution_count": null,
   "id": "e0d2f22a",
   "metadata": {},
   "outputs": [],
   "source": [
    "def PlaylistDatabase(code):\n",
    "    playlist = sp.user_playlist_tracks(\"spotify\", code)\n",
    "    update_playlist = playlist['items']\n",
    "\n",
    "    while playlist['next']:\n",
    "        update_playlist.extend(playlist['items'])\n",
    "        playlist = sp.next(playlist)\n",
    "\n",
    "    lenght = len(update_playlist)\n",
    "    #lenght\n",
    "\n",
    "    song_features_list = []\n",
    "    song_list = []\n",
    "\n",
    "    for i in range(lenght):\n",
    "        try:\n",
    "            song = update_playlist[i]['track']['name']\n",
    "            track = sp.search(q=song)\n",
    "            features = sp.audio_features(track[\"tracks\"][\"items\"][0][\"id\"])\n",
    "            song_features_list.append(features)\n",
    "            song_list.append(song)\n",
    "\n",
    "            #print(len(song_features_list))\n",
    "\n",
    "            if i % 50 == 0: \n",
    "                print(i, song)\n",
    "\n",
    "        except: \n",
    "            print('ERROR', i)\n",
    "        \n",
    "\n",
    "    df = pd.DataFrame()\n",
    "    n_songs = len(song_features_list)\n",
    "\n",
    "    for i in range(0, n_songs):\n",
    "        df = pd.concat([df, pd.DataFrame(song_features_list[i])])\n",
    "\n",
    "    df.reset_index(inplace=True, drop=True)\n",
    "    df = df[['danceability', 'energy', 'loudness', 'speechiness', 'acousticness', \n",
    "            'instrumentalness', 'liveness', 'valence', 'tempo', 'duration_ms']]\n",
    "\n",
    "    df.index = song_list\n",
    "\n",
    "    return df"
   ]
  }
 ],
 "metadata": {
  "kernelspec": {
   "display_name": "Python 3 (ipykernel)",
   "language": "python",
   "name": "python3"
  },
  "language_info": {
   "codemirror_mode": {
    "name": "ipython",
    "version": 3
   },
   "file_extension": ".py",
   "mimetype": "text/x-python",
   "name": "python",
   "nbconvert_exporter": "python",
   "pygments_lexer": "ipython3",
   "version": "3.9.12"
  },
  "toc": {
   "base_numbering": 1,
   "nav_menu": {},
   "number_sections": true,
   "sideBar": true,
   "skip_h1_title": false,
   "title_cell": "Table of Contents",
   "title_sidebar": "Contents",
   "toc_cell": false,
   "toc_position": {},
   "toc_section_display": true,
   "toc_window_display": false
  }
 },
 "nbformat": 4,
 "nbformat_minor": 5
}
